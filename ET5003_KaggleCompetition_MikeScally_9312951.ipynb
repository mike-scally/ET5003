{
  "nbformat": 4,
  "nbformat_minor": 0,
  "metadata": {
    "colab": {
      "name": "ET5003_KaggleCompetition_MikeScally_9312951.ipynb",
      "provenance": [],
      "collapsed_sections": [],
      "include_colab_link": true
    },
    "kernelspec": {
      "name": "python3",
      "display_name": "Python 3"
    },
    "language_info": {
      "name": "python"
    }
  },
  "cells": [
    {
      "cell_type": "markdown",
      "metadata": {
        "id": "view-in-github",
        "colab_type": "text"
      },
      "source": [
        "<a href=\"https://colab.research.google.com/github/mike-scally/ET5003/blob/main/ET5003_KaggleCompetition_MikeScally_9312951.ipynb\" target=\"_parent\"><img src=\"https://colab.research.google.com/assets/colab-badge.svg\" alt=\"Open In Colab\"/></a>"
      ]
    },
    {
      "cell_type": "markdown",
      "metadata": {
        "id": "930vlW5BrOtq"
      },
      "source": [
        "<div>\n",
        "<img src=\"https://drive.google.com/uc?export=view&id=1vK33e_EqaHgBHcbRV_m38hx6IkG0blK_\" width=\"350\"/>\n",
        "</div> \n",
        "\n",
        "#**Artificial Intelligence - MSc**\n",
        "##ET5003 - MACHINE LEARNING APPLICATIONS \n",
        "\n",
        "###Instructor: Enrique Naredo\n",
        "###ET5003_KaggleCompetition"
      ]
    },
    {
      "cell_type": "code",
      "metadata": {
        "id": "LqXD_IwUQuBF",
        "cellView": "form"
      },
      "source": [
        "#@title Current Date\n",
        "Today = '2021-10-05' #@param {type:\"date\"}\n"
      ],
      "execution_count": 215,
      "outputs": []
    },
    {
      "cell_type": "code",
      "metadata": {
        "id": "uzDKau31OjVO",
        "cellView": "form"
      },
      "source": [
        "#@markdown ---\n",
        "#@markdown ### Enter your details here:\n",
        "Team_Number = \"\" #@param {type:\"string\"}\n",
        "Student_ID_Name = \"9312951 Mike Scally\" #@param {type:\"string\"}\n",
        "Student_ID_Name = \"9312951 Mike Scally\" #@param {type:\"string\"}\n",
        "Student_ID_Name = \"\" #@param {type:\"string\"}\n",
        "Student_ID_Name = \"\" #@param {type:\"string\"}\n",
        "Student_ID_Name = \"\" #@param {type:\"string\"}\n",
        "#@markdown ---"
      ],
      "execution_count": 216,
      "outputs": []
    },
    {
      "cell_type": "code",
      "metadata": {
        "id": "r39xGZckTpKx"
      },
      "source": [
        "#@title Notebook information\n",
        "Notebook_type = 'Etivity' #@param [\"Example\", \"Lab\", \"Practice\", \"Etivity\", \"Assignment\", \"Exam\"]\n",
        "Version = \"Draft\" #@param [\"Draft\", \"Final\"] {type:\"raw\"}\n",
        "Submission = False #@param {type:\"boolean\"}"
      ],
      "execution_count": 217,
      "outputs": []
    },
    {
      "cell_type": "markdown",
      "metadata": {
        "id": "_A0Z6S-r6DpA"
      },
      "source": [
        "# INTRODUCTION"
      ]
    },
    {
      "cell_type": "markdown",
      "metadata": {
        "id": "d2vlkUAJ7Pz7"
      },
      "source": [
        "Your introduction here."
      ]
    },
    {
      "cell_type": "markdown",
      "metadata": {
        "id": "aajlS0WCJ8pm"
      },
      "source": [
        "***The goal is to use advanced Machine Learning methods to predict House price.***"
      ]
    },
    {
      "cell_type": "markdown",
      "metadata": {
        "id": "Wg7VCbX77eAA"
      },
      "source": [
        "## Imports"
      ]
    },
    {
      "cell_type": "code",
      "metadata": {
        "id": "iFFLThrpwibd"
      },
      "source": [
        "# Suppressing Warnings:\n",
        "import warnings\n",
        "warnings.filterwarnings(\"ignore\")"
      ],
      "execution_count": 218,
      "outputs": []
    },
    {
      "cell_type": "code",
      "metadata": {
        "id": "k96-GLUGE2ux"
      },
      "source": [
        "# standard libraries\n",
        "import pandas as pd\n",
        "import numpy as np\n",
        "import matplotlib.pyplot as plt\n",
        "%matplotlib inline"
      ],
      "execution_count": 219,
      "outputs": []
    },
    {
      "cell_type": "code",
      "metadata": {
        "id": "sYPJU_Y6O6Dq"
      },
      "source": [
        "# to plot\n",
        "import matplotlib.colors\n",
        "from mpl_toolkits.mplot3d import Axes3D\n",
        "\n",
        "# to generate classification, regression and clustering datasets\n",
        "import sklearn.datasets as dt\n",
        "\n",
        "# to create data frames\n",
        "from pandas import DataFrame\n",
        "\n",
        "# to generate data from an existing dataset\n",
        "from sklearn.neighbors import KernelDensity\n",
        "from sklearn.model_selection import GridSearchCV"
      ],
      "execution_count": 220,
      "outputs": []
    },
    {
      "cell_type": "code",
      "metadata": {
        "id": "mxMYIOx1FONV"
      },
      "source": [
        "# Scikit-learn is an open source machine learning library \n",
        "# that supports supervised and unsupervised learning\n",
        "# https://scikit-learn.org/stable/\n",
        "from sklearn.model_selection import train_test_split\n",
        "from sklearn.feature_extraction.text import CountVectorizer\n",
        "from sklearn.naive_bayes import MultinomialNB\n",
        "from sklearn.metrics import accuracy_score, confusion_matrix"
      ],
      "execution_count": 221,
      "outputs": []
    },
    {
      "cell_type": "code",
      "metadata": {
        "id": "YLlFHWx4j7W6"
      },
      "source": [
        "# Regular expression operations\n",
        "#https://docs.python.org/3/library/re.html\n",
        "import re \n",
        "\n",
        "# Natural Language Toolkit\n",
        "# https://www.nltk.org/install.html\n",
        "import nltk\n",
        "\n",
        "# Stemming maps different forms of the same word to a common “stem” \n",
        "# https://pypi.org/project/snowballstemmer/\n",
        "from nltk.stem import SnowballStemmer\n",
        "\n",
        "# https://www.nltk.org/book/ch02.html\n",
        "from nltk.corpus import stopwords\n",
        "\n",
        "# https://scikit-learn.org/stable/modules/generated/sklearn.preprocessing.StandardScaler.html\n",
        "from sklearn.preprocessing import StandardScaler\n",
        "\n",
        "from sklearn.preprocessing import scale"
      ],
      "execution_count": 222,
      "outputs": []
    },
    {
      "cell_type": "code",
      "metadata": {
        "colab": {
          "base_uri": "https://localhost:8080/"
        },
        "id": "5cfDHD9BXh0s",
        "outputId": "bf557170-b72e-4c0e-9b8f-214dd721e7d0"
      },
      "source": [
        "!pip install gpy"
      ],
      "execution_count": 223,
      "outputs": [
        {
          "output_type": "stream",
          "name": "stdout",
          "text": [
            "Requirement already satisfied: gpy in /usr/local/lib/python3.7/dist-packages (1.10.0)\n",
            "Requirement already satisfied: numpy>=1.7 in /usr/local/lib/python3.7/dist-packages (from gpy) (1.19.5)\n",
            "Requirement already satisfied: scipy>=1.3.0 in /usr/local/lib/python3.7/dist-packages (from gpy) (1.4.1)\n",
            "Requirement already satisfied: cython>=0.29 in /usr/local/lib/python3.7/dist-packages (from gpy) (0.29.24)\n",
            "Requirement already satisfied: paramz>=0.9.0 in /usr/local/lib/python3.7/dist-packages (from gpy) (0.9.5)\n",
            "Requirement already satisfied: six in /usr/local/lib/python3.7/dist-packages (from gpy) (1.15.0)\n",
            "Requirement already satisfied: decorator>=4.0.10 in /usr/local/lib/python3.7/dist-packages (from paramz>=0.9.0->gpy) (4.4.2)\n"
          ]
        }
      ]
    },
    {
      "cell_type": "code",
      "metadata": {
        "id": "SwGh2bagw4kg"
      },
      "source": [
        "import GPy as GPy\n",
        "import numpy as np\n",
        "import pylab as pb\n",
        "import pymc3 as pm\n",
        "import arviz as az"
      ],
      "execution_count": 224,
      "outputs": []
    },
    {
      "cell_type": "code",
      "metadata": {
        "id": "6MUJdlxSPSMM"
      },
      "source": [
        "# Define the seed so that results can be reproduced\n",
        "seed = 11\n",
        "rand_state = 11\n",
        "\n",
        "# Define the color maps for plots\n",
        "color_map = plt.cm.get_cmap('RdYlBu')\n",
        "color_map_discrete = matplotlib.colors.LinearSegmentedColormap.from_list(\"\", [\"red\",\"cyan\",\"magenta\",\"blue\"])"
      ],
      "execution_count": 225,
      "outputs": []
    },
    {
      "cell_type": "markdown",
      "metadata": {
        "id": "WL91ShB19RPw"
      },
      "source": [
        "# DATASET"
      ]
    },
    {
      "cell_type": "markdown",
      "metadata": {
        "id": "ESg5DGKWJSOf"
      },
      "source": [
        "Extract from this [paper](https://ieeexplore.ieee.org/document/9300074):\n",
        "\n",
        "* House prices are a significant impression of the economy, and its value ranges are of great concerns for the clients and property dealers. \n",
        "\n",
        "* Housing price escalate every year that eventually reinforced the need of strategy or technique that could predict house prices in future. \n",
        "\n",
        "* There are certain factors that influence house prices including physical conditions, locations, number of bedrooms and others.\n"
      ]
    },
    {
      "cell_type": "markdown",
      "metadata": {
        "id": "a8Y2pf50FlYL"
      },
      "source": [
        "1. [Download the dataset](https://github.com/UL-CS6134/CS6134_SEM1_2021-2/tree/main/Week-5). \n",
        "\n",
        "2. Upload the dataset into your folder.\n",
        "\n"
      ]
    },
    {
      "cell_type": "markdown",
      "metadata": {
        "id": "FMkdCQEmKTof"
      },
      "source": [
        "The challenge is to predict the final price of each house."
      ]
    },
    {
      "cell_type": "markdown",
      "metadata": {
        "id": "2PMoPLlUJ1Ly"
      },
      "source": [
        "## Training & Test Data"
      ]
    },
    {
      "cell_type": "markdown",
      "metadata": {
        "id": "ztBkSZluye87"
      },
      "source": [
        "### Train dataset"
      ]
    },
    {
      "cell_type": "code",
      "metadata": {
        "id": "4rosmH4665uJ",
        "colab": {
          "base_uri": "https://localhost:8080/"
        },
        "outputId": "b6d188b4-e6e7-44c2-fb27-e7ed7385996b"
      },
      "source": [
        "#Load the dataset\n",
        "from google.colab import drive\n",
        "drive.mount('/content/drive')\n",
        "\n",
        "# Path, copy the path from your Drive\n",
        "Path = '/content/drive/My Drive/Colab Notebooks/data/house-prices/Kaggle Data/'\n",
        "\n",
        "#training_file = Path + 'house_train.csv'\n",
        "#testing_file = Path + 'house_test.csv'\n",
        "#cost_file = Path + 'true_price.csv'\n",
        "\n",
        "training_file = Path + 'HousePrice_Train.csv'\n",
        "testing_file = Path + 'HousePrice_Test.csv'\n",
        "\n",
        "# Load training data\n",
        "dftrain = pd.read_csv(training_file)\n",
        "\n",
        "# test data\n",
        "dftest = pd.read_csv(testing_file)\n",
        "\n",
        "# test prices\n",
        "#dfcost = pd.read_csv(cost_file)\n",
        "\n",
        "print(\"Train Data Shape:\", dftrain.shape)\n",
        "print(\"Test Data Shape:\", dftest.shape)\n",
        "#print(\"True Data Shape:\", dfcost.shape)"
      ],
      "execution_count": 226,
      "outputs": [
        {
          "output_type": "stream",
          "name": "stdout",
          "text": [
            "Drive already mounted at /content/drive; to attempt to forcibly remount, call drive.mount(\"/content/drive\", force_remount=True).\n",
            "Train Data Shape: (1638, 14)\n",
            "Test Data Shape: (702, 13)\n"
          ]
        }
      ]
    },
    {
      "cell_type": "code",
      "metadata": {
        "id": "6XUFUPABMHfF",
        "colab": {
          "base_uri": "https://localhost:8080/",
          "height": 202
        },
        "outputId": "b682f7d1-8a48-4e17-c6c3-77145707bb61"
      },
      "source": [
        "# show first data frame rows \n",
        "dftrain.head()"
      ],
      "execution_count": 227,
      "outputs": [
        {
          "output_type": "execute_result",
          "data": {
            "text/html": [
              "<div>\n",
              "<style scoped>\n",
              "    .dataframe tbody tr th:only-of-type {\n",
              "        vertical-align: middle;\n",
              "    }\n",
              "\n",
              "    .dataframe tbody tr th {\n",
              "        vertical-align: top;\n",
              "    }\n",
              "\n",
              "    .dataframe thead th {\n",
              "        text-align: right;\n",
              "    }\n",
              "</style>\n",
              "<table border=\"1\" class=\"dataframe\">\n",
              "  <thead>\n",
              "    <tr style=\"text-align: right;\">\n",
              "      <th></th>\n",
              "      <th>Index</th>\n",
              "      <th>ID</th>\n",
              "      <th>Location</th>\n",
              "      <th>Num_Bathrooms</th>\n",
              "      <th>Num_Beds</th>\n",
              "      <th>BER_class</th>\n",
              "      <th>Description</th>\n",
              "      <th>Services</th>\n",
              "      <th>Features</th>\n",
              "      <th>Latitude</th>\n",
              "      <th>Longitude</th>\n",
              "      <th>Type</th>\n",
              "      <th>Surface</th>\n",
              "      <th>Price</th>\n",
              "    </tr>\n",
              "  </thead>\n",
              "  <tbody>\n",
              "    <tr>\n",
              "      <th>0</th>\n",
              "      <td>1</td>\n",
              "      <td>12409116</td>\n",
              "      <td>Ongar</td>\n",
              "      <td>2</td>\n",
              "      <td>2</td>\n",
              "      <td>C3</td>\n",
              "      <td>DNG are delighted to present to the market no....</td>\n",
              "      <td>NaN</td>\n",
              "      <td>None</td>\n",
              "      <td>53.396659</td>\n",
              "      <td>-6.438791</td>\n",
              "      <td>apartment</td>\n",
              "      <td>67.00</td>\n",
              "      <td>195000</td>\n",
              "    </tr>\n",
              "    <tr>\n",
              "      <th>1</th>\n",
              "      <td>2</td>\n",
              "      <td>12320330</td>\n",
              "      <td>North Strand</td>\n",
              "      <td>1</td>\n",
              "      <td>2</td>\n",
              "      <td>D1</td>\n",
              "      <td>13 Northbrook Terrace is a charming red brick ...</td>\n",
              "      <td>NaN</td>\n",
              "      <td>Bight and Spacious interior\\nNumerous original...</td>\n",
              "      <td>53.357129</td>\n",
              "      <td>-6.239779</td>\n",
              "      <td>terraced</td>\n",
              "      <td>95.97</td>\n",
              "      <td>425000</td>\n",
              "    </tr>\n",
              "    <tr>\n",
              "      <th>2</th>\n",
              "      <td>3</td>\n",
              "      <td>12405953</td>\n",
              "      <td>Stepaside</td>\n",
              "      <td>3</td>\n",
              "      <td>3</td>\n",
              "      <td>A3</td>\n",
              "      <td>Welcome to No. 6 Cotter Close, an immaculately...</td>\n",
              "      <td>NaN</td>\n",
              "      <td>Special Features\\nLarge rear garden\\nGenerous ...</td>\n",
              "      <td>53.266468</td>\n",
              "      <td>-6.222771</td>\n",
              "      <td>semi-detached</td>\n",
              "      <td>107.00</td>\n",
              "      <td>535000</td>\n",
              "    </tr>\n",
              "    <tr>\n",
              "      <th>3</th>\n",
              "      <td>4</td>\n",
              "      <td>12202582</td>\n",
              "      <td>Cabinteely</td>\n",
              "      <td>1</td>\n",
              "      <td>3</td>\n",
              "      <td>E1</td>\n",
              "      <td>Welcome to 3 Sycamore Walk!\\n\\r\\nEnjoying a pr...</td>\n",
              "      <td>NaN</td>\n",
              "      <td>Wonderful 3 bed detached bungalow.     \\nAccom...</td>\n",
              "      <td>53.261600</td>\n",
              "      <td>-6.166738</td>\n",
              "      <td>detached</td>\n",
              "      <td>81.00</td>\n",
              "      <td>499000</td>\n",
              "    </tr>\n",
              "    <tr>\n",
              "      <th>4</th>\n",
              "      <td>5</td>\n",
              "      <td>12299336</td>\n",
              "      <td>Lusk</td>\n",
              "      <td>3</td>\n",
              "      <td>4</td>\n",
              "      <td>D1</td>\n",
              "      <td>'Four Seasons' comes to the market as a wonder...</td>\n",
              "      <td>NaN</td>\n",
              "      <td>Detached Property      \\nDouble Glazed Windows...</td>\n",
              "      <td>53.550731</td>\n",
              "      <td>-6.121415</td>\n",
              "      <td>detached</td>\n",
              "      <td>153.00</td>\n",
              "      <td>510000</td>\n",
              "    </tr>\n",
              "  </tbody>\n",
              "</table>\n",
              "</div>"
            ],
            "text/plain": [
              "   Index        ID      Location  ...           Type  Surface   Price\n",
              "0      1  12409116         Ongar  ...      apartment    67.00  195000\n",
              "1      2  12320330  North Strand  ...       terraced    95.97  425000\n",
              "2      3  12405953     Stepaside  ...  semi-detached   107.00  535000\n",
              "3      4  12202582    Cabinteely  ...       detached    81.00  499000\n",
              "4      5  12299336          Lusk  ...       detached   153.00  510000\n",
              "\n",
              "[5 rows x 14 columns]"
            ]
          },
          "metadata": {},
          "execution_count": 227
        }
      ]
    },
    {
      "cell_type": "code",
      "metadata": {
        "id": "5rq_p-D4yLBe",
        "colab": {
          "base_uri": "https://localhost:8080/",
          "height": 294
        },
        "outputId": "8c32477f-f431-4222-e14d-c0b0900d1ab0"
      },
      "source": [
        "# Generate descriptive statistics\n",
        "dftrain.describe()"
      ],
      "execution_count": 228,
      "outputs": [
        {
          "output_type": "execute_result",
          "data": {
            "text/html": [
              "<div>\n",
              "<style scoped>\n",
              "    .dataframe tbody tr th:only-of-type {\n",
              "        vertical-align: middle;\n",
              "    }\n",
              "\n",
              "    .dataframe tbody tr th {\n",
              "        vertical-align: top;\n",
              "    }\n",
              "\n",
              "    .dataframe thead th {\n",
              "        text-align: right;\n",
              "    }\n",
              "</style>\n",
              "<table border=\"1\" class=\"dataframe\">\n",
              "  <thead>\n",
              "    <tr style=\"text-align: right;\">\n",
              "      <th></th>\n",
              "      <th>Index</th>\n",
              "      <th>ID</th>\n",
              "      <th>Num_Bathrooms</th>\n",
              "      <th>Num_Beds</th>\n",
              "      <th>Latitude</th>\n",
              "      <th>Longitude</th>\n",
              "      <th>Surface</th>\n",
              "      <th>Price</th>\n",
              "    </tr>\n",
              "  </thead>\n",
              "  <tbody>\n",
              "    <tr>\n",
              "      <th>count</th>\n",
              "      <td>1638.000000</td>\n",
              "      <td>1.638000e+03</td>\n",
              "      <td>1638.000000</td>\n",
              "      <td>1638.000000</td>\n",
              "      <td>1638.000000</td>\n",
              "      <td>1638.000000</td>\n",
              "      <td>1638.000000</td>\n",
              "      <td>1.638000e+03</td>\n",
              "    </tr>\n",
              "    <tr>\n",
              "      <th>mean</th>\n",
              "      <td>819.500000</td>\n",
              "      <td>1.231930e+07</td>\n",
              "      <td>2.054335</td>\n",
              "      <td>3.043346</td>\n",
              "      <td>53.350473</td>\n",
              "      <td>-6.255086</td>\n",
              "      <td>169.540695</td>\n",
              "      <td>5.547196e+05</td>\n",
              "    </tr>\n",
              "    <tr>\n",
              "      <th>std</th>\n",
              "      <td>472.994186</td>\n",
              "      <td>1.447540e+05</td>\n",
              "      <td>1.241259</td>\n",
              "      <td>1.379650</td>\n",
              "      <td>0.076832</td>\n",
              "      <td>0.144430</td>\n",
              "      <td>1791.793934</td>\n",
              "      <td>5.652032e+05</td>\n",
              "    </tr>\n",
              "    <tr>\n",
              "      <th>min</th>\n",
              "      <td>1.000000</td>\n",
              "      <td>1.118567e+07</td>\n",
              "      <td>1.000000</td>\n",
              "      <td>1.000000</td>\n",
              "      <td>52.501856</td>\n",
              "      <td>-6.497000</td>\n",
              "      <td>3.400000</td>\n",
              "      <td>1.999500e+04</td>\n",
              "    </tr>\n",
              "    <tr>\n",
              "      <th>25%</th>\n",
              "      <td>410.250000</td>\n",
              "      <td>1.228104e+07</td>\n",
              "      <td>1.000000</td>\n",
              "      <td>2.000000</td>\n",
              "      <td>53.294261</td>\n",
              "      <td>-6.309613</td>\n",
              "      <td>73.000000</td>\n",
              "      <td>2.950000e+05</td>\n",
              "    </tr>\n",
              "    <tr>\n",
              "      <th>50%</th>\n",
              "      <td>819.500000</td>\n",
              "      <td>1.238055e+07</td>\n",
              "      <td>2.000000</td>\n",
              "      <td>3.000000</td>\n",
              "      <td>53.341386</td>\n",
              "      <td>-6.247780</td>\n",
              "      <td>97.050000</td>\n",
              "      <td>3.950000e+05</td>\n",
              "    </tr>\n",
              "    <tr>\n",
              "      <th>75%</th>\n",
              "      <td>1228.750000</td>\n",
              "      <td>1.240548e+07</td>\n",
              "      <td>3.000000</td>\n",
              "      <td>4.000000</td>\n",
              "      <td>53.382031</td>\n",
              "      <td>-6.193982</td>\n",
              "      <td>135.000000</td>\n",
              "      <td>5.950000e+05</td>\n",
              "    </tr>\n",
              "    <tr>\n",
              "      <th>max</th>\n",
              "      <td>1638.000000</td>\n",
              "      <td>1.242836e+07</td>\n",
              "      <td>18.000000</td>\n",
              "      <td>27.000000</td>\n",
              "      <td>53.630588</td>\n",
              "      <td>-1.744995</td>\n",
              "      <td>72236.387140</td>\n",
              "      <td>8.900000e+06</td>\n",
              "    </tr>\n",
              "  </tbody>\n",
              "</table>\n",
              "</div>"
            ],
            "text/plain": [
              "             Index            ID  ...       Surface         Price\n",
              "count  1638.000000  1.638000e+03  ...   1638.000000  1.638000e+03\n",
              "mean    819.500000  1.231930e+07  ...    169.540695  5.547196e+05\n",
              "std     472.994186  1.447540e+05  ...   1791.793934  5.652032e+05\n",
              "min       1.000000  1.118567e+07  ...      3.400000  1.999500e+04\n",
              "25%     410.250000  1.228104e+07  ...     73.000000  2.950000e+05\n",
              "50%     819.500000  1.238055e+07  ...     97.050000  3.950000e+05\n",
              "75%    1228.750000  1.240548e+07  ...    135.000000  5.950000e+05\n",
              "max    1638.000000  1.242836e+07  ...  72236.387140  8.900000e+06\n",
              "\n",
              "[8 rows x 8 columns]"
            ]
          },
          "metadata": {},
          "execution_count": 228
        }
      ]
    },
    {
      "cell_type": "markdown",
      "metadata": {
        "id": "Iqg9_uxFyZli"
      },
      "source": [
        "### Test dataset"
      ]
    },
    {
      "cell_type": "code",
      "metadata": {
        "id": "bw2_yypxMfsi",
        "colab": {
          "base_uri": "https://localhost:8080/",
          "height": 202
        },
        "outputId": "8239f382-9552-4c69-8408-965376e75f71"
      },
      "source": [
        "# show first data frame rows \n",
        "dftest.head()"
      ],
      "execution_count": 229,
      "outputs": [
        {
          "output_type": "execute_result",
          "data": {
            "text/html": [
              "<div>\n",
              "<style scoped>\n",
              "    .dataframe tbody tr th:only-of-type {\n",
              "        vertical-align: middle;\n",
              "    }\n",
              "\n",
              "    .dataframe tbody tr th {\n",
              "        vertical-align: top;\n",
              "    }\n",
              "\n",
              "    .dataframe thead th {\n",
              "        text-align: right;\n",
              "    }\n",
              "</style>\n",
              "<table border=\"1\" class=\"dataframe\">\n",
              "  <thead>\n",
              "    <tr style=\"text-align: right;\">\n",
              "      <th></th>\n",
              "      <th>Index</th>\n",
              "      <th>ID</th>\n",
              "      <th>Location</th>\n",
              "      <th>Num_Bathrooms</th>\n",
              "      <th>Num_Beds</th>\n",
              "      <th>BER_class</th>\n",
              "      <th>Description</th>\n",
              "      <th>Services</th>\n",
              "      <th>Features</th>\n",
              "      <th>Latitude</th>\n",
              "      <th>Longitude</th>\n",
              "      <th>Type</th>\n",
              "      <th>Surface</th>\n",
              "    </tr>\n",
              "  </thead>\n",
              "  <tbody>\n",
              "    <tr>\n",
              "      <th>0</th>\n",
              "      <td>1639</td>\n",
              "      <td>12292473</td>\n",
              "      <td>Milltown</td>\n",
              "      <td>2</td>\n",
              "      <td>2</td>\n",
              "      <td>C2</td>\n",
              "      <td>OMD Estate Agents are delighted to present thi...</td>\n",
              "      <td>Parking,Oil Fired Central Heating</td>\n",
              "      <td>Designated parking spaces\\nPresented in pristi...</td>\n",
              "      <td>53.316269</td>\n",
              "      <td>-6.243391</td>\n",
              "      <td>townhouse</td>\n",
              "      <td>65.0</td>\n",
              "    </tr>\n",
              "    <tr>\n",
              "      <th>1</th>\n",
              "      <td>1640</td>\n",
              "      <td>12314667</td>\n",
              "      <td>Glasnevin</td>\n",
              "      <td>2</td>\n",
              "      <td>5</td>\n",
              "      <td>E1</td>\n",
              "      <td>Welcome to Saint Anthony No.214 Glasnevin Aven...</td>\n",
              "      <td>Parking,Gas Fired Central Heating</td>\n",
              "      <td>Modern Worcester Gas Boiler\\nSingle Glazed Win...</td>\n",
              "      <td>53.390769</td>\n",
              "      <td>-6.281936</td>\n",
              "      <td>semi-detached</td>\n",
              "      <td>142.0</td>\n",
              "    </tr>\n",
              "    <tr>\n",
              "      <th>2</th>\n",
              "      <td>1641</td>\n",
              "      <td>11699240</td>\n",
              "      <td>Dalkey</td>\n",
              "      <td>1</td>\n",
              "      <td>2</td>\n",
              "      <td>G</td>\n",
              "      <td>Located in this ever popular road, on grounds ...</td>\n",
              "      <td>NaN</td>\n",
              "      <td>2 BEDROOM DETACHED HOUSE ON  1/5th ACRE\\nOIL F...</td>\n",
              "      <td>53.272486</td>\n",
              "      <td>-6.108675</td>\n",
              "      <td>detached</td>\n",
              "      <td>80.0</td>\n",
              "    </tr>\n",
              "    <tr>\n",
              "      <th>3</th>\n",
              "      <td>1642</td>\n",
              "      <td>12416984</td>\n",
              "      <td>Raheny</td>\n",
              "      <td>4</td>\n",
              "      <td>4</td>\n",
              "      <td>A2</td>\n",
              "      <td>DNG are delighted to represent the sale of thi...</td>\n",
              "      <td>Parking,Alarm</td>\n",
              "      <td>Detached House\\nSouth Facing Garden\\nOff Stree...</td>\n",
              "      <td>53.376932</td>\n",
              "      <td>-6.185334</td>\n",
              "      <td>detached</td>\n",
              "      <td>209.0</td>\n",
              "    </tr>\n",
              "    <tr>\n",
              "      <th>4</th>\n",
              "      <td>1643</td>\n",
              "      <td>12383407</td>\n",
              "      <td>Crumlin</td>\n",
              "      <td>2</td>\n",
              "      <td>3</td>\n",
              "      <td>F</td>\n",
              "      <td>A unique opportunity to acquire this red brick...</td>\n",
              "      <td>Parking,Gas Fired Central Heating,Alarm</td>\n",
              "      <td>Red brick end of terrace property \\nC. 108sqm ...</td>\n",
              "      <td>53.327208</td>\n",
              "      <td>-6.308938</td>\n",
              "      <td>end-of-terrace</td>\n",
              "      <td>108.0</td>\n",
              "    </tr>\n",
              "  </tbody>\n",
              "</table>\n",
              "</div>"
            ],
            "text/plain": [
              "   Index        ID   Location  ...  Longitude            Type Surface\n",
              "0   1639  12292473   Milltown  ...  -6.243391       townhouse    65.0\n",
              "1   1640  12314667  Glasnevin  ...  -6.281936   semi-detached   142.0\n",
              "2   1641  11699240     Dalkey  ...  -6.108675        detached    80.0\n",
              "3   1642  12416984     Raheny  ...  -6.185334        detached   209.0\n",
              "4   1643  12383407    Crumlin  ...  -6.308938  end-of-terrace   108.0\n",
              "\n",
              "[5 rows x 13 columns]"
            ]
          },
          "metadata": {},
          "execution_count": 229
        }
      ]
    },
    {
      "cell_type": "code",
      "metadata": {
        "id": "FXo0x2u7T7-1",
        "colab": {
          "base_uri": "https://localhost:8080/",
          "height": 294
        },
        "outputId": "f7568c91-3351-46f6-ba4c-0ce8cd2f7521"
      },
      "source": [
        "# Generate descriptive statistics\n",
        "dftest.describe()"
      ],
      "execution_count": 230,
      "outputs": [
        {
          "output_type": "execute_result",
          "data": {
            "text/html": [
              "<div>\n",
              "<style scoped>\n",
              "    .dataframe tbody tr th:only-of-type {\n",
              "        vertical-align: middle;\n",
              "    }\n",
              "\n",
              "    .dataframe tbody tr th {\n",
              "        vertical-align: top;\n",
              "    }\n",
              "\n",
              "    .dataframe thead th {\n",
              "        text-align: right;\n",
              "    }\n",
              "</style>\n",
              "<table border=\"1\" class=\"dataframe\">\n",
              "  <thead>\n",
              "    <tr style=\"text-align: right;\">\n",
              "      <th></th>\n",
              "      <th>Index</th>\n",
              "      <th>ID</th>\n",
              "      <th>Num_Bathrooms</th>\n",
              "      <th>Num_Beds</th>\n",
              "      <th>Latitude</th>\n",
              "      <th>Longitude</th>\n",
              "      <th>Surface</th>\n",
              "    </tr>\n",
              "  </thead>\n",
              "  <tbody>\n",
              "    <tr>\n",
              "      <th>count</th>\n",
              "      <td>702.000000</td>\n",
              "      <td>7.020000e+02</td>\n",
              "      <td>702.000000</td>\n",
              "      <td>702.000000</td>\n",
              "      <td>702.000000</td>\n",
              "      <td>702.000000</td>\n",
              "      <td>702.000000</td>\n",
              "    </tr>\n",
              "    <tr>\n",
              "      <th>mean</th>\n",
              "      <td>1989.500000</td>\n",
              "      <td>1.231545e+07</td>\n",
              "      <td>2.027066</td>\n",
              "      <td>2.987179</td>\n",
              "      <td>53.350445</td>\n",
              "      <td>-6.252411</td>\n",
              "      <td>132.603530</td>\n",
              "    </tr>\n",
              "    <tr>\n",
              "      <th>std</th>\n",
              "      <td>202.794231</td>\n",
              "      <td>1.420680e+05</td>\n",
              "      <td>1.071273</td>\n",
              "      <td>1.198480</td>\n",
              "      <td>0.073961</td>\n",
              "      <td>0.091600</td>\n",
              "      <td>330.347066</td>\n",
              "    </tr>\n",
              "    <tr>\n",
              "      <th>min</th>\n",
              "      <td>1639.000000</td>\n",
              "      <td>1.147889e+07</td>\n",
              "      <td>1.000000</td>\n",
              "      <td>1.000000</td>\n",
              "      <td>53.214227</td>\n",
              "      <td>-6.521183</td>\n",
              "      <td>32.100000</td>\n",
              "    </tr>\n",
              "    <tr>\n",
              "      <th>25%</th>\n",
              "      <td>1814.250000</td>\n",
              "      <td>1.227637e+07</td>\n",
              "      <td>1.000000</td>\n",
              "      <td>2.000000</td>\n",
              "      <td>53.295225</td>\n",
              "      <td>-6.304258</td>\n",
              "      <td>73.000000</td>\n",
              "    </tr>\n",
              "    <tr>\n",
              "      <th>50%</th>\n",
              "      <td>1989.500000</td>\n",
              "      <td>1.237928e+07</td>\n",
              "      <td>2.000000</td>\n",
              "      <td>3.000000</td>\n",
              "      <td>53.341153</td>\n",
              "      <td>-6.247799</td>\n",
              "      <td>99.200000</td>\n",
              "    </tr>\n",
              "    <tr>\n",
              "      <th>75%</th>\n",
              "      <td>2164.750000</td>\n",
              "      <td>1.240421e+07</td>\n",
              "      <td>3.000000</td>\n",
              "      <td>4.000000</td>\n",
              "      <td>53.381752</td>\n",
              "      <td>-6.184277</td>\n",
              "      <td>136.875000</td>\n",
              "    </tr>\n",
              "    <tr>\n",
              "      <th>max</th>\n",
              "      <td>2340.000000</td>\n",
              "      <td>1.242824e+07</td>\n",
              "      <td>9.000000</td>\n",
              "      <td>14.000000</td>\n",
              "      <td>53.617443</td>\n",
              "      <td>-6.057150</td>\n",
              "      <td>8576.000000</td>\n",
              "    </tr>\n",
              "  </tbody>\n",
              "</table>\n",
              "</div>"
            ],
            "text/plain": [
              "             Index            ID  ...   Longitude      Surface\n",
              "count   702.000000  7.020000e+02  ...  702.000000   702.000000\n",
              "mean   1989.500000  1.231545e+07  ...   -6.252411   132.603530\n",
              "std     202.794231  1.420680e+05  ...    0.091600   330.347066\n",
              "min    1639.000000  1.147889e+07  ...   -6.521183    32.100000\n",
              "25%    1814.250000  1.227637e+07  ...   -6.304258    73.000000\n",
              "50%    1989.500000  1.237928e+07  ...   -6.247799    99.200000\n",
              "75%    2164.750000  1.240421e+07  ...   -6.184277   136.875000\n",
              "max    2340.000000  1.242824e+07  ...   -6.057150  8576.000000\n",
              "\n",
              "[8 rows x 7 columns]"
            ]
          },
          "metadata": {},
          "execution_count": 230
        }
      ]
    },
    {
      "cell_type": "markdown",
      "metadata": {
        "id": "si_3eR5wAvvX"
      },
      "source": [
        "#Pre-processing of the data"
      ]
    },
    {
      "cell_type": "code",
      "metadata": {
        "colab": {
          "base_uri": "https://localhost:8080/"
        },
        "id": "VwYF92L9cshI",
        "outputId": "17783973-f3b6-4d2b-ac92-f9f2fc8720ae"
      },
      "source": [
        "#Count records where bedrooms or bathrooms are zero\n",
        "print(\"\\nNumber of records with zero beds:\", (dftrain['Num_Beds'] == 0).sum())\n",
        "print(\"Number of records with zero bathrooms:\", (dftrain['Num_Bathrooms'] == 0).sum())\n",
        "\n",
        "#Remove bathrooms and beds that are blank, and also blank prices as we cannot train on a predicted blank value\n",
        "#dftrain = dftrain.dropna(subset=['Num_Bathrooms'])\n",
        "#dftrain = dftrain.dropna(subset=['price'])\n",
        "\n",
        "#Remove records where bedrooms or bathrooms are zero\n",
        "#dftrain = dftrain[dftrain['Num_Beds'] > 0]\n",
        "#dftrain = dftrain[dftrain['bathrooms'] > 0]\n",
        "\n",
        "#Check for empty values in columns\n",
        "print(dftrain.isna().sum())"
      ],
      "execution_count": 231,
      "outputs": [
        {
          "output_type": "stream",
          "name": "stdout",
          "text": [
            "\n",
            "Number of records with zero beds: 0\n",
            "Number of records with zero bathrooms: 0\n",
            "Index               0\n",
            "ID                  0\n",
            "Location            0\n",
            "Num_Bathrooms       0\n",
            "Num_Beds            0\n",
            "BER_class         251\n",
            "Description         0\n",
            "Services         1061\n",
            "Features            0\n",
            "Latitude            0\n",
            "Longitude           0\n",
            "Type                0\n",
            "Surface             0\n",
            "Price               0\n",
            "dtype: int64\n"
          ]
        }
      ]
    },
    {
      "cell_type": "code",
      "metadata": {
        "colab": {
          "base_uri": "https://localhost:8080/",
          "height": 290
        },
        "id": "iemTu_btebtg",
        "outputId": "699e7c84-448d-4a42-a1fe-d98548742f39"
      },
      "source": [
        "#Lets have a look at longitude values and see if there are outliers\n",
        "plt.scatter(x=dftrain['Longitude'], y=dftrain['Price'])\n",
        "plt.ylabel('Sale Price')\n",
        "plt.xlabel('Longitude')\n",
        "plt.show()"
      ],
      "execution_count": 232,
      "outputs": [
        {
          "output_type": "display_data",
          "data": {
            "image/png": "[encoded data removed]",
            "text/plain": [
              "<Figure size 432x288 with 1 Axes>"
            ]
          },
          "metadata": {
            "needs_background": "light"
          }
        }
      ]
    },
    {
      "cell_type": "code",
      "metadata": {
        "colab": {
          "base_uri": "https://localhost:8080/",
          "height": 290
        },
        "id": "x634V8FHerq2",
        "outputId": "9857612c-0039-4031-b555-ad467a75e606"
      },
      "source": [
        "#Remove outliers - where longitude > -4\n",
        "dftrain = dftrain[dftrain['Longitude'] < -4]\n",
        "plt.scatter(x=dftrain['Longitude'], y=dftrain['Price'])\n",
        "plt.ylabel('Sale Price')\n",
        "plt.xlabel('Longitude')\n",
        "plt.show()"
      ],
      "execution_count": 233,
      "outputs": [
        {
          "output_type": "display_data",
          "data": {
            "image/png": "[encoded data removed]",
            "text/plain": [
              "<Figure size 432x288 with 1 Axes>"
            ]
          },
          "metadata": {
            "needs_background": "light"
          }
        }
      ]
    },
    {
      "cell_type": "code",
      "metadata": {
        "colab": {
          "base_uri": "https://localhost:8080/",
          "height": 290
        },
        "id": "p52HdKn9fBg3",
        "outputId": "e37a9739-33e5-4fc1-b3f5-02dbd1478922"
      },
      "source": [
        "#Lets have a look at the latitude values\n",
        "plt.scatter(x=dftrain['Latitude'], y=dftrain['Price'])\n",
        "plt.ylabel('Sale Price')\n",
        "plt.xlabel('Latitude')\n",
        "plt.show()"
      ],
      "execution_count": 234,
      "outputs": [
        {
          "output_type": "display_data",
          "data": {
            "image/png": "[encoded data removed]",
            "text/plain": [
              "<Figure size 432x288 with 1 Axes>"
            ]
          },
          "metadata": {
            "needs_background": "light"
          }
        }
      ]
    },
    {
      "cell_type": "code",
      "metadata": {
        "colab": {
          "base_uri": "https://localhost:8080/",
          "height": 290
        },
        "id": "jkkUy2XVfGMf",
        "outputId": "871f84c8-9c50-4fec-b1f9-4874a24a51ae"
      },
      "source": [
        "#Remove outliers where latitude < 53\n",
        "dftrain = dftrain[dftrain['Latitude'] > 53]\n",
        "plt.scatter(x=dftrain['Latitude'], y=dftrain['Price'])\n",
        "plt.ylabel('Sale Price')\n",
        "plt.xlabel('latitude')\n",
        "plt.show()"
      ],
      "execution_count": 235,
      "outputs": [
        {
          "output_type": "display_data",
          "data": {
            "image/png": "[encoded data removed]",
            "text/plain": [
              "<Figure size 432x288 with 1 Axes>"
            ]
          },
          "metadata": {
            "needs_background": "light"
          }
        }
      ]
    },
    {
      "cell_type": "code",
      "metadata": {
        "colab": {
          "base_uri": "https://localhost:8080/"
        },
        "id": "46HutrhNAm0d",
        "outputId": "1f2ebf81-64da-4fb4-ec0c-60ba41aa1f6a"
      },
      "source": [
        "# Specify the features we will use to train the model\n",
        "\n",
        "featrain = ['Num_Beds','Num_Bathrooms','Latitude', 'Longitude', 'Price']\n",
        "# dropna: remove missing values\n",
        "df_subset_train = dftrain[featrain].dropna(axis=0)\n",
        "\n",
        "featest = ['Num_Beds','Num_Bathrooms','Latitude', 'Longitude']\n",
        "df_subset_test  =  dftest[featest].dropna(axis=0)\n",
        "\n",
        "# cost\n",
        "#df_subset_cost = dfcost[dfcost.index.isin(df_subset_test.index)]\n",
        "\n",
        "print(df_subset_train.shape)\n",
        "print(df_subset_test.shape)\n",
        "#print(df_subset_cost.shape)"
      ],
      "execution_count": 236,
      "outputs": [
        {
          "output_type": "stream",
          "name": "stdout",
          "text": [
            "(1637, 5)\n",
            "(702, 4)\n"
          ]
        }
      ]
    },
    {
      "cell_type": "code",
      "metadata": {
        "colab": {
          "base_uri": "https://localhost:8080/"
        },
        "id": "2RcE6gRXcMUF",
        "outputId": "51be8b97-a13e-43b0-84d4-c9f672bf84eb"
      },
      "source": [
        "#Check that all our nan values are now removed\n",
        "print('Number of nan in df_subset_train dataset: ',df_subset_train.isnull().sum().sum())\n",
        "print('Number of nan in df_subset_test dataset: ',df_subset_test.isnull().sum().sum())"
      ],
      "execution_count": 237,
      "outputs": [
        {
          "output_type": "stream",
          "name": "stdout",
          "text": [
            "Number of nan in df_subset_train dataset:  0\n",
            "Number of nan in df_subset_test dataset:  0\n"
          ]
        }
      ]
    },
    {
      "cell_type": "code",
      "metadata": {
        "colab": {
          "base_uri": "https://localhost:8080/"
        },
        "id": "EezgNC7WBimV",
        "outputId": "f90791c5-ce8b-4803-82c4-df0cf11d4b83"
      },
      "source": [
        "# train set, input columns\n",
        "Xs_full_train = df_subset_train.iloc[:,0:-1].values \n",
        "# train set, output column, cost\n",
        "ys_full_train = df_subset_train.iloc[:,-1].values\n",
        "\n",
        "# test set, input columns\n",
        "Xs_test = df_subset_test.iloc[:,0:].values \n",
        "\n",
        "print(\"Xs_train shape:\", Xs_full_train.shape)\n",
        "print(\"ys_train shape:\", ys_full_train.shape)\n",
        "\n",
        "print(\"Xs_test shape:\", Xs_test.shape)\n",
        "#print(\"y_test shape:\", y_test.shape)"
      ],
      "execution_count": 238,
      "outputs": [
        {
          "output_type": "stream",
          "name": "stdout",
          "text": [
            "Xs_train shape: (1637, 4)\n",
            "ys_train shape: (1637,)\n",
            "Xs_test shape: (702, 4)\n"
          ]
        }
      ]
    },
    {
      "cell_type": "code",
      "metadata": {
        "colab": {
          "base_uri": "https://localhost:8080/"
        },
        "id": "QVIgsT9ckAGZ",
        "outputId": "daef8af2-6191-416f-bbc9-b44c36cea3a8"
      },
      "source": [
        "#We split the training dataset into training and validation, so we can validate/evaluate the model on the training data\n",
        "Xs_train,Xs_val,ys_train,ys_val = train_test_split(Xs_full_train, ys_full_train, test_size=0.2)\n",
        "\n",
        "print(\"X train shape:\", Xs_train.shape)\n",
        "print(\"y train shape:\", ys_train.shape)\n",
        "print(\"X validation shape:\", Xs_val.shape)\n",
        "print(\"y validation shape:\", ys_val.shape)\n",
        "\n",
        "print(\"X test shape:\", Xs_test.shape)"
      ],
      "execution_count": 239,
      "outputs": [
        {
          "output_type": "stream",
          "name": "stdout",
          "text": [
            "X train shape: (1309, 4)\n",
            "y train shape: (1309,)\n",
            "X validation shape: (328, 4)\n",
            "y validation shape: (328,)\n",
            "X test shape: (702, 4)\n"
          ]
        }
      ]
    },
    {
      "cell_type": "code",
      "metadata": {
        "id": "sgt6pUzzBlVV"
      },
      "source": [
        "# StandardScaler() will normalize the features i.e. each column of X, \n",
        "# so, each column/feature/variable will have μ = 0 and σ = 1\n",
        "sc = StandardScaler()\n",
        "\n",
        "Xss_train = np.hstack([Xs_train,Xs_train[:,[2]]**2])\n",
        "xscaler = sc.fit(Xss_train)\n",
        "Xn_train = xscaler.transform(Xss_train)\n",
        "\n",
        "Xss_test = np.hstack([Xs_test,Xs_test[:,[2]]**2])\n",
        "Xn_test = xscaler.transform(Xss_test)\n",
        "\n",
        "Xss_val = np.hstack([Xs_val,Xs_val[:,[2]]**2])\n",
        "Xn_val = xscaler.transform(Xss_val)\n",
        "\n",
        "ylog = np.log(ys_train.reshape(-1, 1).astype('float'))\n",
        "yscaler = StandardScaler().fit(ylog)\n",
        "yn_train = yscaler.transform(ylog).reshape(-1,)\n",
        "\n",
        "#We don't want to scale or transform our validation true values\n",
        "yn_val = ys_val"
      ],
      "execution_count": 240,
      "outputs": []
    },
    {
      "cell_type": "markdown",
      "metadata": {
        "id": "G5oRiZxo2gpN"
      },
      "source": [
        "# NATURAL LANGUAGE PROCESSING"
      ]
    },
    {
      "cell_type": "markdown",
      "metadata": {
        "id": "e8s0Wi3a8yjN"
      },
      "source": [
        "Natural language processing ([NLP](https://en.wikipedia.org/wiki/Natural_language_processing)) is a subfield of linguistics, computer science, and artificial intelligence.\n",
        "\n",
        "* NLP concerned with the interactions between computers and human language.\n",
        "* In particular how to program computers to process and analyze large amounts of natural language data. \n",
        "* The goal is a computer capable of \"understanding\" the contents of documents.\n",
        "* Including the contextual nuances of the language within them. \n",
        "* The technology can then accurately extract information and insights contained in the documents.\n",
        "* As well as categorize and organize the documents themselves. "
      ]
    },
    {
      "cell_type": "markdown",
      "metadata": {
        "id": "oValFP-z2gpN"
      },
      "source": [
        "Your comments, explanation, and references here."
      ]
    },
    {
      "cell_type": "code",
      "metadata": {
        "id": "e_WND6NP2gpN"
      },
      "source": [
        "# your code here"
      ],
      "execution_count": 241,
      "outputs": []
    },
    {
      "cell_type": "markdown",
      "metadata": {
        "id": "bJFJQxAS9HZK"
      },
      "source": [
        "# PIECEWISE REGRESSION"
      ]
    },
    {
      "cell_type": "markdown",
      "metadata": {
        "id": "QkRchZtf6IV-"
      },
      "source": [
        "**Piecewise regression**, extract from [Wikipedia](https://en.wikipedia.org/wiki/Segmented_regression):\n",
        "\n",
        "Segmented regression, also known as piecewise regression or broken-stick regression, is a method in regression analysis in which the independent variable is partitioned into intervals and a separate line segment is fit to each interval. \n",
        "\n",
        "* Segmented regression analysis can also be performed on \n",
        "multivariate data by partitioning the various independent variables. \n",
        "* Segmented regression is useful when the independent variables, clustered into different groups, exhibit different relationships between the variables in these regions. \n",
        "\n",
        "* The boundaries between the segments are breakpoints.\n",
        "\n",
        "* Segmented linear regression is segmented regression whereby the relations in the intervals are obtained by linear regression. "
      ]
    },
    {
      "cell_type": "markdown",
      "metadata": {
        "id": "po84zvge2NS7"
      },
      "source": [
        "Your comments, explanation, and references here."
      ]
    },
    {
      "cell_type": "code",
      "metadata": {
        "id": "pXX7Mq2Y2NrK"
      },
      "source": [
        "# your code here"
      ],
      "execution_count": 242,
      "outputs": []
    },
    {
      "cell_type": "markdown",
      "metadata": {
        "id": "_kFgkUA85_pn"
      },
      "source": [
        "# BAYESIAN NN"
      ]
    },
    {
      "cell_type": "markdown",
      "metadata": {
        "id": "ELer5PV37ftX"
      },
      "source": [
        "A [Bayesian network](https://en.wikipedia.org/wiki/Bayesian_network) (also known as a Bayes network, Bayes net, belief network, or decision network) is a probabilistic graphical model that represents a set of variables and their conditional dependencies via a directed acyclic graph (DAG). \n",
        "\n",
        "* Bayesian networks are ideal for taking an event that occurred and predicting the likelihood that any one of several possible known causes was the contributing factor. \n",
        "* For example, a Bayesian network could represent the probabilistic relationships between diseases and symptoms. \n",
        "* Given symptoms, the network can be used to compute the probabilities of the presence of various diseases."
      ]
    },
    {
      "cell_type": "markdown",
      "metadata": {
        "id": "z0kauv1L5_po"
      },
      "source": [
        "Your comments, explanation, and references here."
      ]
    },
    {
      "cell_type": "markdown",
      "metadata": {
        "id": "Vb8JR4C7Dk1X"
      },
      "source": [
        "Reference Document:\n",
        "\n",
        "https://pymc3-testing.readthedocs.io/en/rtd-docs/notebooks/bayesian_neural_network_opvi-advi.html"
      ]
    },
    {
      "cell_type": "code",
      "metadata": {
        "id": "0smpwCET5_pp"
      },
      "source": [
        "# https://theano-pymc.readthedocs.io/en/latest/\n",
        "import theano\n",
        "\n",
        "# add a column of ones to include an intercept in the model\n",
        "x1 = np.hstack([np.ones((Xn_train.shape[0],1)), Xn_train])\n",
        "floatX = theano.config.floatX\n",
        "\n",
        "l = 15\n",
        "# Initialize random weights between each layer\n",
        "# we do that to help the numerical algorithm that computes the posterior\n",
        "init_1 = np.random.randn(x1.shape[1], l).astype(floatX)\n",
        "init_out = np.random.randn(l).astype(floatX)\n",
        "\n",
        "# pymc3 model as neural_network\n",
        "with pm.Model() as neural_network:\n",
        "    # we convert the data in theano type so we can do dot products with the correct type.\n",
        "    ann_input = pm.Data('ann_input', x1)\n",
        "    ann_output = pm.Data('ann_output', yn_train)\n",
        "    # Priors \n",
        "    # Weights from input to hidden layer\n",
        "    weights_in_1 = pm.Normal('w_1', 0, sigma=1,\n",
        "                             shape=(x1.shape[1], l), testval=init_1)\n",
        "    # Weights from hidden layer to output\n",
        "    weights_2_out = pm.Normal('w_0', 0, sigma=1,\n",
        "                              shape=(l,),testval=init_out)\n",
        "\n",
        "    # Build neural-network using tanh activation function\n",
        "    # Inner layer\n",
        "    act_1 = pm.math.tanh(pm.math.dot(ann_input,weights_in_1))\n",
        "    # Linear layer, like in Linear regression\n",
        "    act_out = pm.Deterministic('act_out',pm.math.dot(act_1, weights_2_out))\n",
        "\n",
        "    # standard deviation of noise\n",
        "    sigma = pm.HalfCauchy('sigma',5)\n",
        "\n",
        "    # Normal likelihood\n",
        "    out = pm.Normal('out',\n",
        "                       act_out,\n",
        "                       sigma=sigma,\n",
        "                       observed=ann_output)"
      ],
      "execution_count": 243,
      "outputs": []
    },
    {
      "cell_type": "code",
      "metadata": {
        "colab": {
          "base_uri": "https://localhost:8080/",
          "height": 161
        },
        "id": "SQYaskqj218r",
        "outputId": "a2c51f8d-6271-421f-e018-08a9ee93229b"
      },
      "source": [
        "# this can be slow because there are many parameters\n",
        "\n",
        "# some parameters\n",
        "par1 = 25  # start with 100, then use 1000+\n",
        "par2 = 250 # start with 1000, then use 10000+\n",
        "\n",
        "# neural network\n",
        "with neural_network:\n",
        "    posterior = pm.sample(par1,tune=par2,chains=1)"
      ],
      "execution_count": 244,
      "outputs": [
        {
          "output_type": "stream",
          "name": "stderr",
          "text": [
            "Only 25 samples in chain.\n",
            "Auto-assigning NUTS sampler...\n",
            "Initializing NUTS using jitter+adapt_diag...\n",
            "Sequential sampling (1 chains in 1 job)\n",
            "NUTS: [sigma, w_0, w_1]\n"
          ]
        },
        {
          "output_type": "display_data",
          "data": {
            "text/html": [
              "\n",
              "    <div>\n",
              "        <style>\n",
              "            /* Turns off some styling */\n",
              "            progress {\n",
              "                /* gets rid of default border in Firefox and Opera. */\n",
              "                border: none;\n",
              "                /* Needs to be in here for Safari polyfill so background images work as expected. */\n",
              "                background-size: auto;\n",
              "            }\n",
              "            .progress-bar-interrupted, .progress-bar-interrupted::-webkit-progress-bar {\n",
              "                background: #F44336;\n",
              "            }\n",
              "        </style>\n",
              "      <progress value='275' class='' max='275' style='width:300px; height:20px; vertical-align: middle;'></progress>\n",
              "      100.00% [275/275 02:04<00:00 Sampling chain 0, 0 divergences]\n",
              "    </div>\n",
              "    "
            ],
            "text/plain": [
              "<IPython.core.display.HTML object>"
            ]
          },
          "metadata": {}
        },
        {
          "output_type": "stream",
          "name": "stderr",
          "text": [
            "Sampling 1 chain for 250 tune and 25 draw iterations (250 + 25 draws total) took 125 seconds.\n",
            "There was 1 divergence after tuning. Increase `target_accept` or reparameterize.\n"
          ]
        }
      ]
    },
    {
      "cell_type": "code",
      "metadata": {
        "colab": {
          "base_uri": "https://localhost:8080/",
          "height": 54
        },
        "id": "YjRL4-o_IK2W",
        "outputId": "5278ee29-c909-40a0-e244-0424fc946793"
      },
      "source": [
        "# we can do instead an approximated inference\n",
        "param3 = 1000 # start with 1000, then use 50000+\n",
        "VI = 'advi'  # 'advi', 'fullrank_advi', 'svgd', 'asvgd', 'nfvi'\n",
        "OP = pm.adam # pm.adam, pm.sgd, pm.adagrad, pm.adagrad_window, pm.adadelta\n",
        "LR = 0.01    \n",
        "\n",
        "with neural_network:\n",
        "    approx = pm.fit(param3, method=VI, obj_optimizer=pm.adam(learning_rate=LR))"
      ],
      "execution_count": 245,
      "outputs": [
        {
          "output_type": "display_data",
          "data": {
            "text/html": [
              "\n",
              "    <div>\n",
              "        <style>\n",
              "            /* Turns off some styling */\n",
              "            progress {\n",
              "                /* gets rid of default border in Firefox and Opera. */\n",
              "                border: none;\n",
              "                /* Needs to be in here for Safari polyfill so background images work as expected. */\n",
              "                background-size: auto;\n",
              "            }\n",
              "            .progress-bar-interrupted, .progress-bar-interrupted::-webkit-progress-bar {\n",
              "                background: #F44336;\n",
              "            }\n",
              "        </style>\n",
              "      <progress value='1000' class='' max='1000' style='width:300px; height:20px; vertical-align: middle;'></progress>\n",
              "      100.00% [1000/1000 00:01<00:00 Average Loss = 2,458.5]\n",
              "    </div>\n",
              "    "
            ],
            "text/plain": [
              "<IPython.core.display.HTML object>"
            ]
          },
          "metadata": {}
        },
        {
          "output_type": "stream",
          "name": "stderr",
          "text": [
            "Finished [100%]: Average Loss = 2,449.8\n"
          ]
        }
      ]
    },
    {
      "cell_type": "code",
      "metadata": {
        "colab": {
          "base_uri": "https://localhost:8080/",
          "height": 278
        },
        "id": "aFoDHlJiIY49",
        "outputId": "68e0b795-c735-4c74-98db-71e6295fc98f"
      },
      "source": [
        "# plot \n",
        "pb.plot(approx.hist, label='Variational Inference: '+ VI.upper(), alpha=.3)\n",
        "pb.legend(loc='upper right')\n",
        "# Evidence Lower Bound (ELBO)\n",
        "# https://en.wikipedia.org/wiki/Evidence_lower_bound\n",
        "pb.ylabel('ELBO')\n",
        "pb.xlabel('iteration');"
      ],
      "execution_count": 246,
      "outputs": [
        {
          "output_type": "display_data",
          "data": {
            "image/png": "[encoded data removed]",
            "text/plain": [
              "<Figure size 432x288 with 1 Axes>"
            ]
          },
          "metadata": {
            "needs_background": "light"
          }
        }
      ]
    },
    {
      "cell_type": "code",
      "metadata": {
        "id": "5KwDHgvCIdkV"
      },
      "source": [
        "# draw samples from variational posterior\n",
        "D = 300\n",
        "posterior = approx.sample(draws=D)"
      ],
      "execution_count": 247,
      "outputs": []
    },
    {
      "cell_type": "markdown",
      "metadata": {
        "id": "2QFbeIJSmCD5"
      },
      "source": [
        "###Evaluate model on validation data set"
      ]
    },
    {
      "cell_type": "code",
      "metadata": {
        "id": "uoz5qh-WIjGk"
      },
      "source": [
        "# add a column of ones to include an intercept in the model\n",
        "x2 = np.hstack([np.ones((Xn_val.shape[0],1)), Xn_val])\n",
        "\n",
        "y_val_pred = []\n",
        "for i in range(posterior['w_1'].shape[0]):\n",
        "    #inner layer\n",
        "    t1 = np.tanh(np.dot(posterior['w_1'][i,:,:].T,x2.T))\n",
        "    #outer layer\n",
        "    y_val_pred.append(np.dot(posterior['w_0'][i,:],t1))\n",
        "\n",
        "# predictions   \n",
        "y_val_pred = np.array(y_val_pred).mean(axis=0)"
      ],
      "execution_count": 248,
      "outputs": []
    },
    {
      "cell_type": "code",
      "metadata": {
        "id": "5dqsuaw7JMAc"
      },
      "source": [
        "#We need to do the inverse transformation and scaling that was carried out on the y values at the start\n",
        "y_val_pred_final = np.exp(yscaler.inverse_transform(y_val_pred))"
      ],
      "execution_count": 249,
      "outputs": []
    },
    {
      "cell_type": "code",
      "metadata": {
        "colab": {
          "base_uri": "https://localhost:8080/"
        },
        "id": "S23VXAyb4QEE",
        "outputId": "b05d663d-8390-4b23-f157-a25e55f6dd86"
      },
      "source": [
        "print(\"MAE = \",(np.mean(abs(y_val_pred_final - yn_val))))\n",
        "print(\"MAPE = \",(np.mean(abs(y_val_pred_final - yn_val) / yn_val)))"
      ],
      "execution_count": 250,
      "outputs": [
        {
          "output_type": "stream",
          "name": "stdout",
          "text": [
            "MAE =  212287.71077396584\n",
            "MAPE =  0.2617171382120971\n"
          ]
        }
      ]
    },
    {
      "cell_type": "markdown",
      "metadata": {
        "id": "SE2AIf3Ml5t4"
      },
      "source": [
        "###Predict new y values for test data"
      ]
    },
    {
      "cell_type": "code",
      "metadata": {
        "id": "r9kMRTgGl1PB"
      },
      "source": [
        "# add a column of ones to include an intercept in the model\n",
        "x2 = np.hstack([np.ones((Xn_test.shape[0],1)), Xn_test])\n",
        "\n",
        "y_pred = []\n",
        "for i in range(posterior['w_1'].shape[0]):\n",
        "    #inner layer\n",
        "    t1 = np.tanh(np.dot(posterior['w_1'][i,:,:].T,x2.T))\n",
        "    #outer layer\n",
        "    y_pred.append(np.dot(posterior['w_0'][i,:],t1))\n",
        "\n",
        "# predictions   \n",
        "y_pred = np.array(y_pred).mean(axis=0)"
      ],
      "execution_count": 251,
      "outputs": []
    },
    {
      "cell_type": "code",
      "metadata": {
        "colab": {
          "base_uri": "https://localhost:8080/"
        },
        "id": "jWXHRYuizdHi",
        "outputId": "d4b5f1c1-6cd3-46df-fc84-7bd88f69abc2"
      },
      "source": [
        "y_pred_final = np.exp(yscaler.inverse_transform(y_pred))\n",
        "\n",
        "print(y_pred_final)"
      ],
      "execution_count": 252,
      "outputs": [
        {
          "output_type": "stream",
          "name": "stdout",
          "text": [
            "[ 371894.73077143  787694.89821297  453436.53004484 1061231.24899211\n",
            "  376978.09182667  233703.83199846  225162.4241788   389745.54712225\n",
            "  776365.33511568 1010116.90524438  265712.55486282  687882.97377129\n",
            "  225039.60647715  514694.90544139  427187.74002911  255109.17359255\n",
            "  671618.38429587  227063.19542924  345741.7722475   363237.10230305\n",
            " 1420405.73537291  221161.84745169  226508.27369771  829094.30750849\n",
            "  335223.86731753  309348.58131006 1186509.99676481  236543.08378627\n",
            "  329077.85170579  220232.24218542  510327.20800804 1003854.61440694\n",
            "  347771.5093448   747413.40158271  221578.64944954  777178.83324445\n",
            "  256802.83983716  269280.99896485  252487.87361935  466472.85046699\n",
            "  426091.49466535  273940.39734028  287499.75824972  339253.31667364\n",
            "  575791.09679569  252830.29866315  319256.15949544  563823.11084417\n",
            "  405186.76270937  709894.355101    392034.16391536  255284.89123069\n",
            "  360219.39134613  404820.65414984 1124331.52508757  226403.90063504\n",
            "  480811.36181044  278294.81347939  929734.9979325   217405.87407165\n",
            " 1062993.08662643  552293.42694383  253289.02669965  366190.15833271\n",
            "  243251.60539262  658255.26811657  452799.70577775  500038.49743633\n",
            "  480330.15068775 1203513.93489432  410608.45909001  215362.2777429\n",
            "  241768.76286896  467410.9070642   308697.24483859 1177274.56788438\n",
            "  235374.9558485  1291872.85814612  534807.898819   1173615.08692947\n",
            "  234516.90385257  503346.38948062  965071.87125952  282540.88326788\n",
            "  332700.91000469  364853.29769052  366034.66756725  405383.30585657\n",
            "  582156.65241124  251683.98758415  188357.76665551  466818.04219829\n",
            "  320879.53401339  298834.17239932 1273076.51628163  237887.91825776\n",
            "  453114.62134512 1105964.90416433  483419.16917285 1309026.95120628\n",
            "  310360.54566092  552910.99827023  490744.607707    570308.49846443\n",
            "  464941.55849652  264632.91276162  315306.2856121  1247381.09336201\n",
            "  341038.75174436  503485.57225066  318527.84495755  213106.52149963\n",
            "  346150.09162156  225045.59682365  333772.47026741  323206.35391112\n",
            "  470443.60606407  211674.77862484  243409.81935413 1419726.54569175\n",
            "  243073.65587652  273253.28505954  312814.90674047  422306.43151336\n",
            "  236162.08077538  268887.64543321  190980.42391696  921510.41907428\n",
            "  553672.86457918  332516.6886414   228212.69962684  233143.36049483\n",
            " 1293601.85392477  249438.49544005  343444.39678377  234960.27357629\n",
            "  919189.41460241  242905.50324861  392829.02068138  512870.8110584\n",
            "  246426.24568397  469813.41279359 1066996.00565061  214374.51685343\n",
            " 1264322.061441   1406555.05629989  357617.49056447  273859.30238032\n",
            "  567695.09036897  872552.50021345  452581.98965787  246317.5134468\n",
            "  746355.21793748  368153.49409575  605746.78197944  410201.49357434\n",
            "  297141.63516402  239121.18565509  490008.30695019 1285237.95039264\n",
            "  307266.44708307  252704.72782518 1010627.80023813  293293.57048792\n",
            " 1373381.68934039  483240.31184719  387878.4657575   295576.92743766\n",
            "  237899.79200653  376904.03103741  335005.01195047  341455.87997596\n",
            "  999173.28039345  205125.28303872  255564.2345068   282893.09533178\n",
            "  290289.44951441  323919.22913834  357482.06204003  506003.26419754\n",
            "  419459.91810019  602572.44606199  239270.36819134  470500.5651283\n",
            "  212445.22509232  402132.81690748  884804.77924353  184210.7047177\n",
            "  606571.14114579  579114.80379745  477926.56626649  576969.00940285\n",
            "  246357.09259488  635576.23315539  503530.02021161 1206186.1591815\n",
            "  270856.01679264  765938.40345271  246578.92606167  317739.93905191\n",
            "  326967.22299664  988113.82152303  311204.65808344  441614.10948272\n",
            "  367216.94987475  958812.55021867  664446.91743693  328174.12827711\n",
            "  387937.65201923  399281.60937583  224542.69385877  198829.02948118\n",
            "  947457.18454145  559319.09110383  293117.54010387  487911.97868469\n",
            "  473911.04899423  312724.82078966  388744.86789616  663507.76746443\n",
            " 1376571.945209    894633.49295267  504311.00031021  585797.32198576\n",
            "  307363.61663732  326482.1692228   395757.6074153   267134.14158779\n",
            "  305336.11820056  232457.94060247  953650.50204839  209991.67974904\n",
            "  579969.64120149  309483.43465493  248715.97786999  262697.93471244\n",
            "  209910.85260464  247294.38896657 1105059.35125728  353264.82666964\n",
            "  269914.77030166  466283.59989396  395061.14733432  440237.33526172\n",
            "  241111.21140227  597024.00440509 1413104.41462651  462618.79812886\n",
            "  210097.02687161  213565.5888763   480290.34288806 1388092.87623552\n",
            "  265988.88971848  703071.06436074  285140.10994824  455087.77576068\n",
            " 1258882.96303115  235855.84560873  450893.1845962   503332.79119658\n",
            " 1171952.06446358  365025.076673    459480.18775812 1112199.13895098\n",
            "  245093.7922605   249842.84323533 1179836.73408026  391551.40330505\n",
            "  313348.64199148  370079.17641187  557692.55735285  385538.11331865\n",
            "  303158.66372174  339616.17644093  302283.26065971  216525.72730041\n",
            "  379033.27620316  367483.07443493  450445.56952158  511981.48320736\n",
            "  307413.84714969  411025.921286    504329.10824765  213849.07493163\n",
            " 1341811.14830175  275918.29904518 1210994.41277484  882434.61324667\n",
            "  353703.09738253  395313.68990282  369675.6077354   291096.90384839\n",
            "  246746.49898475  474669.93639392  507705.99151537 1141361.76553381\n",
            "  882602.70964585  602223.6381171   381906.99213917  711690.75741647\n",
            "  502769.18179972 1142906.6850015   882609.90824738  423472.59153866\n",
            "  239662.66067588  748747.75736219  288486.25043189  276344.57538135\n",
            "  386192.04695412  710618.61349419  352165.34631923  371097.16958183\n",
            "  431325.60706442  467837.62522873  214751.8843431  1367711.07518147\n",
            "  242540.81445004  304764.68283281  319790.37724186  393131.86553855\n",
            "  465526.04747515  420272.92649228  243315.99120106  989134.17344747\n",
            "  213572.18855109  405240.27190958  795965.73394551  340097.83515063\n",
            "  904521.680464    715680.0357694   409738.49537484  240446.81445414\n",
            "  335182.88147701  847024.18084439  326361.1093591   397067.70029616\n",
            "  287711.12645169 1030295.45804661  493276.23887198  333630.81467294\n",
            "  465710.6374499  1407586.68506707  369193.69571976  549061.42963094\n",
            "  431300.01973644  539501.40663665  199082.86443966  299904.94990983\n",
            "  340643.40544242  588348.57533375  368199.48591566  405666.99677425\n",
            "  591692.40383599  421692.49197826 1061427.71756399  341605.19772961\n",
            "  278100.13711109  387963.66790901  215657.05048051  674056.49064968\n",
            "  252934.0559799   356825.36662426  806634.79368566  477835.28195234\n",
            "  347853.77173032  611811.75584171  435382.7059606   521245.74102123\n",
            "  285819.87258481  347198.60986107  454672.29661291  269835.06651651\n",
            "  293065.20674346  340117.32089746 1426135.2530142   239201.23853294\n",
            "  337219.58504443  425604.13108537  260986.78929448 1336034.39790945\n",
            "  339823.90046208  347445.42525925  349398.57109202  373640.98030596\n",
            "  342111.92251071  916716.92864264  558710.29397287  312777.56707179\n",
            "  220829.97253303  229151.64132358  225543.23366772  260028.38268979\n",
            "  929620.54601474  760208.59331683  995735.65784993  240659.57529305\n",
            "  425703.54377899  260814.29058038  578263.34937774  254200.68643243\n",
            "  745582.29234751  699852.7986029   254751.12137832  210398.69878322\n",
            "  664071.43256276  286658.35544882  873093.10593239  320932.61631509\n",
            "  846325.39069737  564820.36693353  225667.57640901  286137.01730796\n",
            "  287973.12083401  525462.70180811  247669.6806934  1382995.16795354\n",
            "  483833.46551675  267954.16530691  985783.14832143  381258.31463588\n",
            "  685030.68285905  341630.59519021  372133.29302979 1186772.89977751\n",
            " 1169693.716633    287629.19111111  376252.83698466  358700.34012995\n",
            "  263993.31282338  315137.46439688  453994.20901725  669790.61368624\n",
            "  765554.07317317  432966.95702232 1370083.5443916   743775.81236795\n",
            " 1351335.60033929  406670.28003933  319720.97545379  727710.02179801\n",
            "  612101.04186949  788490.87873858  885637.16443122 1042080.76339222\n",
            "  534161.17260586  379946.75794366  377261.2928122   286523.82075626\n",
            "  845011.9609389   438871.02028565  404161.33645441  702991.55854713\n",
            " 1291640.23399318  368135.17347851  236326.13865871  274363.28445439\n",
            "  403998.70738905  243201.65470505  344658.93680239  993079.98569906\n",
            "  570723.19238894  358177.06920061  368510.64515564  669895.31474665\n",
            "  629392.41954348  247104.41027598  884603.29047697  340234.4407416\n",
            "  465591.04969122  218947.40084695  226692.82230636  223428.51747298\n",
            "  308966.58239626  590815.15630037  249361.88873809  293328.52342575\n",
            "  203515.10342336  206800.34795188  322381.1517294   516715.88688816\n",
            "  609843.09017802  396907.12932587  252859.03031503  824179.40650427\n",
            "  525916.89871748  424109.28452796 1181021.80159148  536571.68892528\n",
            "  406391.97481886  402206.6030559   307704.20482948  770140.94888761\n",
            "  252630.58154004  225499.85738105  341068.05478181  323331.53677931\n",
            "  477708.23265177  236352.32582578  451261.37462077  472197.80610079\n",
            "  382690.19430771 1343800.56527115  285020.97865136  971752.20438455\n",
            " 1066597.95904254  219682.96880341  411192.27975887  748797.22925174\n",
            "  372933.11533958  348947.48367335 1104654.67207434  575586.1236037\n",
            "  280042.23041442  980868.32773976  981025.59929159  516656.71049058\n",
            "  241215.76743665  302756.58709359  507063.06447718  293842.08479929\n",
            "  420818.30951022  416958.17597528  415817.92967462  434194.35700377\n",
            "  237964.61027926  576761.14053386 1016572.82079631  850829.09029243\n",
            "  257307.94321544  246381.03101571  565079.94673906  304136.01910202\n",
            "  211156.96596722  697024.96241886  711412.505523    370195.69979754\n",
            "  592004.17850357  417639.6986749   232741.70047987  425432.03899964\n",
            " 1178073.81624689  297701.82250118  236695.02200586  463159.30391495\n",
            "  972872.36270094  466073.01764941  226818.61187791  367531.69351323\n",
            "  301698.53069717  595227.32310985  310435.08372491  207015.2346757\n",
            " 1115651.31694391  298838.48196874  452204.93197526  361941.03998462\n",
            "  270573.9201366  1178690.37379378  265649.2999486   240280.56073521\n",
            "  447923.3519323   401602.01298826  334960.18790897  469765.09838706\n",
            "  591730.4870593   675500.57001547  397937.51342583  467886.14619094\n",
            "  333438.65906117  246048.74441442  599192.93389957 1137014.2599332\n",
            "  512607.83696776  311725.3728008   231181.44715274 1027565.18991159\n",
            " 1214810.44963132  244741.06193988  254987.30283169  366949.98575019\n",
            "  445417.95471007  852420.29123882  464206.10105141  369825.05665126\n",
            "  692649.71627994  240343.32853416  717446.93174162  304011.29747561\n",
            "  470052.29203401  823646.15896095  386440.87232606  740821.29013207\n",
            "  259845.56131414 1003031.45976408  371429.75930133  901110.66180739\n",
            "  239548.70664141  416238.64303936  225853.75330215  312083.59283938\n",
            " 1009488.56891813  380470.30061106 1186227.38492123  656394.60910165\n",
            "  502669.51575351  495330.49004307  396662.17586379  240541.73612498\n",
            "  539794.57852203  542270.72645221 1024045.11156164  360188.9043591\n",
            " 1344390.80069263  320802.68583954  438392.27211601  980251.64994482\n",
            "  920739.68934867  612270.69840946 1385420.36952206  236359.29998048\n",
            " 1120025.82963935 1212375.26085117  232858.19119277  205249.09925902\n",
            "  223950.64156174  970832.45367414  500771.52745566  543970.56808848\n",
            "  399641.18914166  934862.04112059  305545.76189788  477504.4320889\n",
            "  232383.70678974  572492.06842388  233834.51456367  351241.4903781\n",
            "  217602.37857319  255523.07396326  446282.32362776  282152.24243229\n",
            "  447498.32920936  459786.04382904 1284083.38774054  377109.76989116\n",
            "  442049.51935447  256424.23862331  225969.18537004  333772.47026741\n",
            "  408202.96428775  315919.28446177  362464.51558098  246742.32739212\n",
            "  357926.04169502  332707.41624154  728915.02591879  381353.74806408\n",
            "  295555.12315376  737702.31058102  502392.2588349   359424.55624115\n",
            "  434503.06488087  508934.23513456  956179.16476761  423947.25640851\n",
            "  578326.9868411   717688.23629866  493818.70103848  432542.32727702\n",
            "  578896.41424861 1007675.62922174  220839.8465001   344761.34174976\n",
            "  444436.48889324  404298.7349838   589142.87625224  401950.87397792\n",
            "  239135.98507837 1139317.05471651  286082.30359958  234062.10470808\n",
            "  250259.73895296  589815.77147071  598407.43786957  294852.87662304\n",
            "  591090.52518377  653510.22951049  285237.77864801  487407.28053608\n",
            "  369736.42267325  237374.2536588  1124675.02782558  485854.10270068\n",
            "  963884.40998733  375957.9653023   571999.42445641  933788.00613963\n",
            "  313206.82938481  205838.0157542   237540.54630417  539583.89424636\n",
            "  568000.10303929  581853.01327608]\n"
          ]
        }
      ]
    },
    {
      "cell_type": "code",
      "metadata": {
        "id": "7WFTUjE-zhtp"
      },
      "source": [
        "#Not possible to calculate the MAE/MAPE on the test data as we do not have the true values\n",
        "#y_test = df_subset_cost.Expected.values\n",
        "#print(\"MAE = \",(np.mean(abs(y_pred_final - y_test))))\n",
        "#print(\"MAPE = \",(np.mean(abs(y_pred_final - y_test) / y_test)))"
      ],
      "execution_count": 253,
      "outputs": []
    },
    {
      "cell_type": "markdown",
      "metadata": {
        "id": "f0GYCpwEM09T"
      },
      "source": [
        "# SUMMARY"
      ]
    },
    {
      "cell_type": "markdown",
      "metadata": {
        "id": "rBDzsZSJ7HZp"
      },
      "source": [
        "Your summary here."
      ]
    }
  ]
}