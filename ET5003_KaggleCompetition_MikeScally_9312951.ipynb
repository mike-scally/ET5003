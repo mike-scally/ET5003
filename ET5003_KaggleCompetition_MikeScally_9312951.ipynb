{
  "nbformat": 4,
  "nbformat_minor": 0,
  "metadata": {
    "colab": {
      "name": "ET5003_KaggleCompetition_MikeScally_9312951.ipynb",
      "provenance": [],
      "collapsed_sections": [],
      "include_colab_link": true
    },
    "kernelspec": {
      "name": "python3",
      "display_name": "Python 3"
    },
    "language_info": {
      "name": "python"
    }
  },
  "cells": [
    {
      "cell_type": "markdown",
      "metadata": {
        "id": "view-in-github",
        "colab_type": "text"
      },
      "source": [
        "<a href=\"https://colab.research.google.com/github/mike-scally/ET5003/blob/main/ET5003_KaggleCompetition_MikeScally_9312951.ipynb\" target=\"_parent\"><img src=\"https://colab.research.google.com/assets/colab-badge.svg\" alt=\"Open In Colab\"/></a>"
      ]
    },
    {
      "cell_type": "markdown",
      "metadata": {
        "id": "930vlW5BrOtq"
      },
      "source": [
        "<div>\n",
        "<img src=\"https://drive.google.com/uc?export=view&id=1vK33e_EqaHgBHcbRV_m38hx6IkG0blK_\" width=\"350\"/>\n",
        "</div> \n",
        "\n",
        "#**Artificial Intelligence - MSc**\n",
        "##ET5003 - MACHINE LEARNING APPLICATIONS \n",
        "\n",
        "###Instructor: Enrique Naredo\n",
        "###ET5003_KaggleCompetition"
      ]
    },
    {
      "cell_type": "code",
      "metadata": {
        "id": "LqXD_IwUQuBF",
        "cellView": "form"
      },
      "source": [
        "#@title Current Date\n",
        "Today = '2021-10-05' #@param {type:\"date\"}\n"
      ],
      "execution_count": 1,
      "outputs": []
    },
    {
      "cell_type": "code",
      "metadata": {
        "id": "uzDKau31OjVO",
        "cellView": "form"
      },
      "source": [
        "#@markdown ---\n",
        "#@markdown ### Enter your details here:\n",
        "Team_Number = \"\" #@param {type:\"string\"}\n",
        "Student_ID_Name = \"9312951 Mike Scally\" #@param {type:\"string\"}\n",
        "Student_ID_Name = \"9312951 Mike Scally\" #@param {type:\"string\"}\n",
        "Student_ID_Name = \"\" #@param {type:\"string\"}\n",
        "Student_ID_Name = \"\" #@param {type:\"string\"}\n",
        "Student_ID_Name = \"\" #@param {type:\"string\"}\n",
        "#@markdown ---"
      ],
      "execution_count": 2,
      "outputs": []
    },
    {
      "cell_type": "code",
      "metadata": {
        "id": "r39xGZckTpKx"
      },
      "source": [
        "#@title Notebook information\n",
        "Notebook_type = 'Etivity' #@param [\"Example\", \"Lab\", \"Practice\", \"Etivity\", \"Assignment\", \"Exam\"]\n",
        "Version = \"Draft\" #@param [\"Draft\", \"Final\"] {type:\"raw\"}\n",
        "Submission = False #@param {type:\"boolean\"}"
      ],
      "execution_count": 3,
      "outputs": []
    },
    {
      "cell_type": "markdown",
      "metadata": {
        "id": "_A0Z6S-r6DpA"
      },
      "source": [
        "# INTRODUCTION"
      ]
    },
    {
      "cell_type": "markdown",
      "metadata": {
        "id": "d2vlkUAJ7Pz7"
      },
      "source": [
        "Your introduction here."
      ]
    },
    {
      "cell_type": "markdown",
      "metadata": {
        "id": "aajlS0WCJ8pm"
      },
      "source": [
        "***The goal is to use advanced Machine Learning methods to predict House price.***"
      ]
    },
    {
      "cell_type": "markdown",
      "metadata": {
        "id": "Wg7VCbX77eAA"
      },
      "source": [
        "## Imports"
      ]
    },
    {
      "cell_type": "code",
      "metadata": {
        "id": "iFFLThrpwibd"
      },
      "source": [
        "# Suppressing Warnings:\n",
        "import warnings\n",
        "warnings.filterwarnings(\"ignore\")"
      ],
      "execution_count": 4,
      "outputs": []
    },
    {
      "cell_type": "code",
      "metadata": {
        "id": "k96-GLUGE2ux"
      },
      "source": [
        "# standard libraries\n",
        "import pandas as pd\n",
        "import numpy as np\n",
        "import matplotlib.pyplot as plt\n",
        "%matplotlib inline\n",
        "from datetime import datetime"
      ],
      "execution_count": 5,
      "outputs": []
    },
    {
      "cell_type": "code",
      "metadata": {
        "id": "sYPJU_Y6O6Dq"
      },
      "source": [
        "# to plot\n",
        "import matplotlib.colors\n",
        "from mpl_toolkits.mplot3d import Axes3D\n",
        "\n",
        "# to generate classification, regression and clustering datasets\n",
        "import sklearn.datasets as dt\n",
        "\n",
        "# to create data frames\n",
        "from pandas import DataFrame\n",
        "\n",
        "# to generate data from an existing dataset\n",
        "from sklearn.neighbors import KernelDensity\n",
        "from sklearn.model_selection import GridSearchCV"
      ],
      "execution_count": 6,
      "outputs": []
    },
    {
      "cell_type": "code",
      "metadata": {
        "id": "mxMYIOx1FONV"
      },
      "source": [
        "# Scikit-learn is an open source machine learning library \n",
        "# that supports supervised and unsupervised learning\n",
        "# https://scikit-learn.org/stable/\n",
        "from sklearn.model_selection import train_test_split\n",
        "from sklearn.feature_extraction.text import CountVectorizer\n",
        "from sklearn.naive_bayes import MultinomialNB\n",
        "from sklearn.metrics import accuracy_score, confusion_matrix\n",
        "from sklearn import cluster"
      ],
      "execution_count": 7,
      "outputs": []
    },
    {
      "cell_type": "code",
      "metadata": {
        "id": "YLlFHWx4j7W6"
      },
      "source": [
        "# Regular expression operations\n",
        "#https://docs.python.org/3/library/re.html\n",
        "import re \n",
        "\n",
        "# Natural Language Toolkit\n",
        "# https://www.nltk.org/install.html\n",
        "import nltk\n",
        "\n",
        "# Stemming maps different forms of the same word to a common “stem” \n",
        "# https://pypi.org/project/snowballstemmer/\n",
        "from nltk.stem import SnowballStemmer\n",
        "\n",
        "# https://www.nltk.org/book/ch02.html\n",
        "from nltk.corpus import stopwords\n",
        "\n",
        "# https://scikit-learn.org/stable/modules/generated/sklearn.preprocessing.StandardScaler.html\n",
        "from sklearn.preprocessing import StandardScaler\n",
        "\n",
        "from sklearn.preprocessing import scale"
      ],
      "execution_count": 8,
      "outputs": []
    },
    {
      "cell_type": "code",
      "metadata": {
        "colab": {
          "base_uri": "https://localhost:8080/"
        },
        "id": "5cfDHD9BXh0s",
        "outputId": "6f90f9ee-8cf1-48b4-f265-2bbc52327e83"
      },
      "source": [
        "!pip install gpy"
      ],
      "execution_count": 9,
      "outputs": [
        {
          "output_type": "stream",
          "name": "stdout",
          "text": [
            "Requirement already satisfied: gpy in /usr/local/lib/python3.7/dist-packages (1.10.0)\n",
            "Requirement already satisfied: numpy>=1.7 in /usr/local/lib/python3.7/dist-packages (from gpy) (1.19.5)\n",
            "Requirement already satisfied: scipy>=1.3.0 in /usr/local/lib/python3.7/dist-packages (from gpy) (1.4.1)\n",
            "Requirement already satisfied: cython>=0.29 in /usr/local/lib/python3.7/dist-packages (from gpy) (0.29.24)\n",
            "Requirement already satisfied: paramz>=0.9.0 in /usr/local/lib/python3.7/dist-packages (from gpy) (0.9.5)\n",
            "Requirement already satisfied: six in /usr/local/lib/python3.7/dist-packages (from gpy) (1.15.0)\n",
            "Requirement already satisfied: decorator>=4.0.10 in /usr/local/lib/python3.7/dist-packages (from paramz>=0.9.0->gpy) (4.4.2)\n"
          ]
        }
      ]
    },
    {
      "cell_type": "code",
      "metadata": {
        "id": "SwGh2bagw4kg"
      },
      "source": [
        "import GPy as GPy\n",
        "import numpy as np\n",
        "import pylab as pb\n",
        "import pymc3 as pm\n",
        "import arviz as az"
      ],
      "execution_count": 10,
      "outputs": []
    },
    {
      "cell_type": "code",
      "metadata": {
        "id": "6MUJdlxSPSMM"
      },
      "source": [
        "# Define the seed so that results can be reproduced\n",
        "seed = 11\n",
        "rand_state = 11\n",
        "\n",
        "# Define the color maps for plots\n",
        "color_map = plt.cm.get_cmap('RdYlBu')\n",
        "color_map_discrete = matplotlib.colors.LinearSegmentedColormap.from_list(\"\", [\"red\",\"cyan\",\"magenta\",\"blue\"])"
      ],
      "execution_count": 11,
      "outputs": []
    },
    {
      "cell_type": "markdown",
      "metadata": {
        "id": "WL91ShB19RPw"
      },
      "source": [
        "# DATASET"
      ]
    },
    {
      "cell_type": "markdown",
      "metadata": {
        "id": "ESg5DGKWJSOf"
      },
      "source": [
        "Extract from this [paper](https://ieeexplore.ieee.org/document/9300074):\n",
        "\n",
        "* House prices are a significant impression of the economy, and its value ranges are of great concerns for the clients and property dealers. \n",
        "\n",
        "* Housing price escalate every year that eventually reinforced the need of strategy or technique that could predict house prices in future. \n",
        "\n",
        "* There are certain factors that influence house prices including physical conditions, locations, number of bedrooms and others.\n"
      ]
    },
    {
      "cell_type": "markdown",
      "metadata": {
        "id": "a8Y2pf50FlYL"
      },
      "source": [
        "1. [Download the dataset](https://github.com/UL-CS6134/CS6134_SEM1_2021-2/tree/main/Week-5). \n",
        "\n",
        "2. Upload the dataset into your folder.\n",
        "\n"
      ]
    },
    {
      "cell_type": "markdown",
      "metadata": {
        "id": "FMkdCQEmKTof"
      },
      "source": [
        "The challenge is to predict the final price of each house."
      ]
    },
    {
      "cell_type": "markdown",
      "metadata": {
        "id": "2PMoPLlUJ1Ly"
      },
      "source": [
        "## Training & Test Data"
      ]
    },
    {
      "cell_type": "markdown",
      "metadata": {
        "id": "ztBkSZluye87"
      },
      "source": [
        "### Train dataset"
      ]
    },
    {
      "cell_type": "code",
      "metadata": {
        "id": "4rosmH4665uJ",
        "colab": {
          "base_uri": "https://localhost:8080/"
        },
        "outputId": "66de8647-80f7-4bff-e635-812efdbdc00d"
      },
      "source": [
        "#Load the dataset\n",
        "from google.colab import drive\n",
        "drive.mount('/content/drive')\n",
        "\n",
        "# Path, copy the path from your Drive\n",
        "Path = '/content/drive/My Drive/Colab Notebooks/data/house-prices/Kaggle Data/'\n",
        "\n",
        "#training_file = Path + 'house_train.csv'\n",
        "#testing_file = Path + 'house_test.csv'\n",
        "#cost_file = Path + 'true_price.csv'\n",
        "\n",
        "training_file = Path + 'HousePrice_Train.csv'\n",
        "testing_file = Path + 'HousePrice_Test.csv'\n",
        "\n",
        "# Load training data\n",
        "dftrain = pd.read_csv(training_file)\n",
        "\n",
        "# test data\n",
        "dftest = pd.read_csv(testing_file)\n",
        "\n",
        "# test prices\n",
        "#dfcost = pd.read_csv(cost_file)\n",
        "\n",
        "print(\"Train Data Shape:\", dftrain.shape)\n",
        "print(\"Test Data Shape:\", dftest.shape)\n",
        "#print(\"True Data Shape:\", dfcost.shape)"
      ],
      "execution_count": 12,
      "outputs": [
        {
          "output_type": "stream",
          "name": "stdout",
          "text": [
            "Drive already mounted at /content/drive; to attempt to forcibly remount, call drive.mount(\"/content/drive\", force_remount=True).\n",
            "Train Data Shape: (1638, 14)\n",
            "Test Data Shape: (702, 13)\n"
          ]
        }
      ]
    },
    {
      "cell_type": "code",
      "metadata": {
        "colab": {
          "base_uri": "https://localhost:8080/"
        },
        "id": "zWNPq6XJkqUz",
        "outputId": "702eb1ed-9bed-417e-e50f-e5f96cb09ec3"
      },
      "source": [
        "print(dftrain.iloc[355,8])"
      ],
      "execution_count": 13,
      "outputs": [
        {
          "output_type": "stream",
          "name": "stdout",
          "text": [
            "None\n"
          ]
        }
      ]
    },
    {
      "cell_type": "code",
      "metadata": {
        "id": "6XUFUPABMHfF",
        "colab": {
          "base_uri": "https://localhost:8080/",
          "height": 202
        },
        "outputId": "81c9ca0b-8d2b-4d05-f6eb-a7929d749cb2"
      },
      "source": [
        "# show first data frame rows \n",
        "dftrain.head()"
      ],
      "execution_count": 14,
      "outputs": [
        {
          "output_type": "execute_result",
          "data": {
            "text/html": [
              "<div>\n",
              "<style scoped>\n",
              "    .dataframe tbody tr th:only-of-type {\n",
              "        vertical-align: middle;\n",
              "    }\n",
              "\n",
              "    .dataframe tbody tr th {\n",
              "        vertical-align: top;\n",
              "    }\n",
              "\n",
              "    .dataframe thead th {\n",
              "        text-align: right;\n",
              "    }\n",
              "</style>\n",
              "<table border=\"1\" class=\"dataframe\">\n",
              "  <thead>\n",
              "    <tr style=\"text-align: right;\">\n",
              "      <th></th>\n",
              "      <th>Index</th>\n",
              "      <th>ID</th>\n",
              "      <th>Location</th>\n",
              "      <th>Num_Bathrooms</th>\n",
              "      <th>Num_Beds</th>\n",
              "      <th>BER_class</th>\n",
              "      <th>Description</th>\n",
              "      <th>Services</th>\n",
              "      <th>Features</th>\n",
              "      <th>Latitude</th>\n",
              "      <th>Longitude</th>\n",
              "      <th>Type</th>\n",
              "      <th>Surface</th>\n",
              "      <th>Price</th>\n",
              "    </tr>\n",
              "  </thead>\n",
              "  <tbody>\n",
              "    <tr>\n",
              "      <th>0</th>\n",
              "      <td>1</td>\n",
              "      <td>12409116</td>\n",
              "      <td>Ongar</td>\n",
              "      <td>2</td>\n",
              "      <td>2</td>\n",
              "      <td>C3</td>\n",
              "      <td>DNG are delighted to present to the market no....</td>\n",
              "      <td>NaN</td>\n",
              "      <td>None</td>\n",
              "      <td>53.396659</td>\n",
              "      <td>-6.438791</td>\n",
              "      <td>apartment</td>\n",
              "      <td>67.00</td>\n",
              "      <td>195000</td>\n",
              "    </tr>\n",
              "    <tr>\n",
              "      <th>1</th>\n",
              "      <td>2</td>\n",
              "      <td>12320330</td>\n",
              "      <td>North Strand</td>\n",
              "      <td>1</td>\n",
              "      <td>2</td>\n",
              "      <td>D1</td>\n",
              "      <td>13 Northbrook Terrace is a charming red brick ...</td>\n",
              "      <td>NaN</td>\n",
              "      <td>Bight and Spacious interior\\nNumerous original...</td>\n",
              "      <td>53.357129</td>\n",
              "      <td>-6.239779</td>\n",
              "      <td>terraced</td>\n",
              "      <td>95.97</td>\n",
              "      <td>425000</td>\n",
              "    </tr>\n",
              "    <tr>\n",
              "      <th>2</th>\n",
              "      <td>3</td>\n",
              "      <td>12405953</td>\n",
              "      <td>Stepaside</td>\n",
              "      <td>3</td>\n",
              "      <td>3</td>\n",
              "      <td>A3</td>\n",
              "      <td>Welcome to No. 6 Cotter Close, an immaculately...</td>\n",
              "      <td>NaN</td>\n",
              "      <td>Special Features\\nLarge rear garden\\nGenerous ...</td>\n",
              "      <td>53.266468</td>\n",
              "      <td>-6.222771</td>\n",
              "      <td>semi-detached</td>\n",
              "      <td>107.00</td>\n",
              "      <td>535000</td>\n",
              "    </tr>\n",
              "    <tr>\n",
              "      <th>3</th>\n",
              "      <td>4</td>\n",
              "      <td>12202582</td>\n",
              "      <td>Cabinteely</td>\n",
              "      <td>1</td>\n",
              "      <td>3</td>\n",
              "      <td>E1</td>\n",
              "      <td>Welcome to 3 Sycamore Walk!\\n\\r\\nEnjoying a pr...</td>\n",
              "      <td>NaN</td>\n",
              "      <td>Wonderful 3 bed detached bungalow.     \\nAccom...</td>\n",
              "      <td>53.261600</td>\n",
              "      <td>-6.166738</td>\n",
              "      <td>detached</td>\n",
              "      <td>81.00</td>\n",
              "      <td>499000</td>\n",
              "    </tr>\n",
              "    <tr>\n",
              "      <th>4</th>\n",
              "      <td>5</td>\n",
              "      <td>12299336</td>\n",
              "      <td>Lusk</td>\n",
              "      <td>3</td>\n",
              "      <td>4</td>\n",
              "      <td>D1</td>\n",
              "      <td>'Four Seasons' comes to the market as a wonder...</td>\n",
              "      <td>NaN</td>\n",
              "      <td>Detached Property      \\nDouble Glazed Windows...</td>\n",
              "      <td>53.550731</td>\n",
              "      <td>-6.121415</td>\n",
              "      <td>detached</td>\n",
              "      <td>153.00</td>\n",
              "      <td>510000</td>\n",
              "    </tr>\n",
              "  </tbody>\n",
              "</table>\n",
              "</div>"
            ],
            "text/plain": [
              "   Index        ID      Location  ...           Type  Surface   Price\n",
              "0      1  12409116         Ongar  ...      apartment    67.00  195000\n",
              "1      2  12320330  North Strand  ...       terraced    95.97  425000\n",
              "2      3  12405953     Stepaside  ...  semi-detached   107.00  535000\n",
              "3      4  12202582    Cabinteely  ...       detached    81.00  499000\n",
              "4      5  12299336          Lusk  ...       detached   153.00  510000\n",
              "\n",
              "[5 rows x 14 columns]"
            ]
          },
          "metadata": {},
          "execution_count": 14
        }
      ]
    },
    {
      "cell_type": "code",
      "metadata": {
        "id": "5rq_p-D4yLBe",
        "colab": {
          "base_uri": "https://localhost:8080/",
          "height": 294
        },
        "outputId": "347f41a6-63b6-4bbb-865a-672daab8cc08"
      },
      "source": [
        "# Generate descriptive statistics\n",
        "dftrain.describe()"
      ],
      "execution_count": 15,
      "outputs": [
        {
          "output_type": "execute_result",
          "data": {
            "text/html": [
              "<div>\n",
              "<style scoped>\n",
              "    .dataframe tbody tr th:only-of-type {\n",
              "        vertical-align: middle;\n",
              "    }\n",
              "\n",
              "    .dataframe tbody tr th {\n",
              "        vertical-align: top;\n",
              "    }\n",
              "\n",
              "    .dataframe thead th {\n",
              "        text-align: right;\n",
              "    }\n",
              "</style>\n",
              "<table border=\"1\" class=\"dataframe\">\n",
              "  <thead>\n",
              "    <tr style=\"text-align: right;\">\n",
              "      <th></th>\n",
              "      <th>Index</th>\n",
              "      <th>ID</th>\n",
              "      <th>Num_Bathrooms</th>\n",
              "      <th>Num_Beds</th>\n",
              "      <th>Latitude</th>\n",
              "      <th>Longitude</th>\n",
              "      <th>Surface</th>\n",
              "      <th>Price</th>\n",
              "    </tr>\n",
              "  </thead>\n",
              "  <tbody>\n",
              "    <tr>\n",
              "      <th>count</th>\n",
              "      <td>1638.000000</td>\n",
              "      <td>1.638000e+03</td>\n",
              "      <td>1638.000000</td>\n",
              "      <td>1638.000000</td>\n",
              "      <td>1638.000000</td>\n",
              "      <td>1638.000000</td>\n",
              "      <td>1638.000000</td>\n",
              "      <td>1.638000e+03</td>\n",
              "    </tr>\n",
              "    <tr>\n",
              "      <th>mean</th>\n",
              "      <td>819.500000</td>\n",
              "      <td>1.231930e+07</td>\n",
              "      <td>2.054335</td>\n",
              "      <td>3.043346</td>\n",
              "      <td>53.350473</td>\n",
              "      <td>-6.255086</td>\n",
              "      <td>169.540695</td>\n",
              "      <td>5.547196e+05</td>\n",
              "    </tr>\n",
              "    <tr>\n",
              "      <th>std</th>\n",
              "      <td>472.994186</td>\n",
              "      <td>1.447540e+05</td>\n",
              "      <td>1.241259</td>\n",
              "      <td>1.379650</td>\n",
              "      <td>0.076832</td>\n",
              "      <td>0.144430</td>\n",
              "      <td>1791.793934</td>\n",
              "      <td>5.652032e+05</td>\n",
              "    </tr>\n",
              "    <tr>\n",
              "      <th>min</th>\n",
              "      <td>1.000000</td>\n",
              "      <td>1.118567e+07</td>\n",
              "      <td>1.000000</td>\n",
              "      <td>1.000000</td>\n",
              "      <td>52.501856</td>\n",
              "      <td>-6.497000</td>\n",
              "      <td>3.400000</td>\n",
              "      <td>1.999500e+04</td>\n",
              "    </tr>\n",
              "    <tr>\n",
              "      <th>25%</th>\n",
              "      <td>410.250000</td>\n",
              "      <td>1.228104e+07</td>\n",
              "      <td>1.000000</td>\n",
              "      <td>2.000000</td>\n",
              "      <td>53.294261</td>\n",
              "      <td>-6.309613</td>\n",
              "      <td>73.000000</td>\n",
              "      <td>2.950000e+05</td>\n",
              "    </tr>\n",
              "    <tr>\n",
              "      <th>50%</th>\n",
              "      <td>819.500000</td>\n",
              "      <td>1.238055e+07</td>\n",
              "      <td>2.000000</td>\n",
              "      <td>3.000000</td>\n",
              "      <td>53.341386</td>\n",
              "      <td>-6.247780</td>\n",
              "      <td>97.050000</td>\n",
              "      <td>3.950000e+05</td>\n",
              "    </tr>\n",
              "    <tr>\n",
              "      <th>75%</th>\n",
              "      <td>1228.750000</td>\n",
              "      <td>1.240548e+07</td>\n",
              "      <td>3.000000</td>\n",
              "      <td>4.000000</td>\n",
              "      <td>53.382031</td>\n",
              "      <td>-6.193982</td>\n",
              "      <td>135.000000</td>\n",
              "      <td>5.950000e+05</td>\n",
              "    </tr>\n",
              "    <tr>\n",
              "      <th>max</th>\n",
              "      <td>1638.000000</td>\n",
              "      <td>1.242836e+07</td>\n",
              "      <td>18.000000</td>\n",
              "      <td>27.000000</td>\n",
              "      <td>53.630588</td>\n",
              "      <td>-1.744995</td>\n",
              "      <td>72236.387140</td>\n",
              "      <td>8.900000e+06</td>\n",
              "    </tr>\n",
              "  </tbody>\n",
              "</table>\n",
              "</div>"
            ],
            "text/plain": [
              "             Index            ID  ...       Surface         Price\n",
              "count  1638.000000  1.638000e+03  ...   1638.000000  1.638000e+03\n",
              "mean    819.500000  1.231930e+07  ...    169.540695  5.547196e+05\n",
              "std     472.994186  1.447540e+05  ...   1791.793934  5.652032e+05\n",
              "min       1.000000  1.118567e+07  ...      3.400000  1.999500e+04\n",
              "25%     410.250000  1.228104e+07  ...     73.000000  2.950000e+05\n",
              "50%     819.500000  1.238055e+07  ...     97.050000  3.950000e+05\n",
              "75%    1228.750000  1.240548e+07  ...    135.000000  5.950000e+05\n",
              "max    1638.000000  1.242836e+07  ...  72236.387140  8.900000e+06\n",
              "\n",
              "[8 rows x 8 columns]"
            ]
          },
          "metadata": {},
          "execution_count": 15
        }
      ]
    },
    {
      "cell_type": "markdown",
      "metadata": {
        "id": "Iqg9_uxFyZli"
      },
      "source": [
        "### Test dataset"
      ]
    },
    {
      "cell_type": "code",
      "metadata": {
        "id": "bw2_yypxMfsi",
        "colab": {
          "base_uri": "https://localhost:8080/",
          "height": 202
        },
        "outputId": "18aac021-15f5-4f73-a281-4ae7f2a7219a"
      },
      "source": [
        "# show first data frame rows \n",
        "dftest.head()"
      ],
      "execution_count": 16,
      "outputs": [
        {
          "output_type": "execute_result",
          "data": {
            "text/html": [
              "<div>\n",
              "<style scoped>\n",
              "    .dataframe tbody tr th:only-of-type {\n",
              "        vertical-align: middle;\n",
              "    }\n",
              "\n",
              "    .dataframe tbody tr th {\n",
              "        vertical-align: top;\n",
              "    }\n",
              "\n",
              "    .dataframe thead th {\n",
              "        text-align: right;\n",
              "    }\n",
              "</style>\n",
              "<table border=\"1\" class=\"dataframe\">\n",
              "  <thead>\n",
              "    <tr style=\"text-align: right;\">\n",
              "      <th></th>\n",
              "      <th>Index</th>\n",
              "      <th>ID</th>\n",
              "      <th>Location</th>\n",
              "      <th>Num_Bathrooms</th>\n",
              "      <th>Num_Beds</th>\n",
              "      <th>BER_class</th>\n",
              "      <th>Description</th>\n",
              "      <th>Services</th>\n",
              "      <th>Features</th>\n",
              "      <th>Latitude</th>\n",
              "      <th>Longitude</th>\n",
              "      <th>Type</th>\n",
              "      <th>Surface</th>\n",
              "    </tr>\n",
              "  </thead>\n",
              "  <tbody>\n",
              "    <tr>\n",
              "      <th>0</th>\n",
              "      <td>1639</td>\n",
              "      <td>12292473</td>\n",
              "      <td>Milltown</td>\n",
              "      <td>2</td>\n",
              "      <td>2</td>\n",
              "      <td>C2</td>\n",
              "      <td>OMD Estate Agents are delighted to present thi...</td>\n",
              "      <td>Parking,Oil Fired Central Heating</td>\n",
              "      <td>Designated parking spaces\\nPresented in pristi...</td>\n",
              "      <td>53.316269</td>\n",
              "      <td>-6.243391</td>\n",
              "      <td>townhouse</td>\n",
              "      <td>65.0</td>\n",
              "    </tr>\n",
              "    <tr>\n",
              "      <th>1</th>\n",
              "      <td>1640</td>\n",
              "      <td>12314667</td>\n",
              "      <td>Glasnevin</td>\n",
              "      <td>2</td>\n",
              "      <td>5</td>\n",
              "      <td>E1</td>\n",
              "      <td>Welcome to Saint Anthony No.214 Glasnevin Aven...</td>\n",
              "      <td>Parking,Gas Fired Central Heating</td>\n",
              "      <td>Modern Worcester Gas Boiler\\nSingle Glazed Win...</td>\n",
              "      <td>53.390769</td>\n",
              "      <td>-6.281936</td>\n",
              "      <td>semi-detached</td>\n",
              "      <td>142.0</td>\n",
              "    </tr>\n",
              "    <tr>\n",
              "      <th>2</th>\n",
              "      <td>1641</td>\n",
              "      <td>11699240</td>\n",
              "      <td>Dalkey</td>\n",
              "      <td>1</td>\n",
              "      <td>2</td>\n",
              "      <td>G</td>\n",
              "      <td>Located in this ever popular road, on grounds ...</td>\n",
              "      <td>NaN</td>\n",
              "      <td>2 BEDROOM DETACHED HOUSE ON  1/5th ACRE\\nOIL F...</td>\n",
              "      <td>53.272486</td>\n",
              "      <td>-6.108675</td>\n",
              "      <td>detached</td>\n",
              "      <td>80.0</td>\n",
              "    </tr>\n",
              "    <tr>\n",
              "      <th>3</th>\n",
              "      <td>1642</td>\n",
              "      <td>12416984</td>\n",
              "      <td>Raheny</td>\n",
              "      <td>4</td>\n",
              "      <td>4</td>\n",
              "      <td>A2</td>\n",
              "      <td>DNG are delighted to represent the sale of thi...</td>\n",
              "      <td>Parking,Alarm</td>\n",
              "      <td>Detached House\\nSouth Facing Garden\\nOff Stree...</td>\n",
              "      <td>53.376932</td>\n",
              "      <td>-6.185334</td>\n",
              "      <td>detached</td>\n",
              "      <td>209.0</td>\n",
              "    </tr>\n",
              "    <tr>\n",
              "      <th>4</th>\n",
              "      <td>1643</td>\n",
              "      <td>12383407</td>\n",
              "      <td>Crumlin</td>\n",
              "      <td>2</td>\n",
              "      <td>3</td>\n",
              "      <td>F</td>\n",
              "      <td>A unique opportunity to acquire this red brick...</td>\n",
              "      <td>Parking,Gas Fired Central Heating,Alarm</td>\n",
              "      <td>Red brick end of terrace property \\nC. 108sqm ...</td>\n",
              "      <td>53.327208</td>\n",
              "      <td>-6.308938</td>\n",
              "      <td>end-of-terrace</td>\n",
              "      <td>108.0</td>\n",
              "    </tr>\n",
              "  </tbody>\n",
              "</table>\n",
              "</div>"
            ],
            "text/plain": [
              "   Index        ID   Location  ...  Longitude            Type Surface\n",
              "0   1639  12292473   Milltown  ...  -6.243391       townhouse    65.0\n",
              "1   1640  12314667  Glasnevin  ...  -6.281936   semi-detached   142.0\n",
              "2   1641  11699240     Dalkey  ...  -6.108675        detached    80.0\n",
              "3   1642  12416984     Raheny  ...  -6.185334        detached   209.0\n",
              "4   1643  12383407    Crumlin  ...  -6.308938  end-of-terrace   108.0\n",
              "\n",
              "[5 rows x 13 columns]"
            ]
          },
          "metadata": {},
          "execution_count": 16
        }
      ]
    },
    {
      "cell_type": "code",
      "metadata": {
        "id": "FXo0x2u7T7-1",
        "colab": {
          "base_uri": "https://localhost:8080/",
          "height": 294
        },
        "outputId": "0ff1582e-665c-4a48-c5f3-5c52c57fcde8"
      },
      "source": [
        "# Generate descriptive statistics\n",
        "dftest.describe()"
      ],
      "execution_count": 17,
      "outputs": [
        {
          "output_type": "execute_result",
          "data": {
            "text/html": [
              "<div>\n",
              "<style scoped>\n",
              "    .dataframe tbody tr th:only-of-type {\n",
              "        vertical-align: middle;\n",
              "    }\n",
              "\n",
              "    .dataframe tbody tr th {\n",
              "        vertical-align: top;\n",
              "    }\n",
              "\n",
              "    .dataframe thead th {\n",
              "        text-align: right;\n",
              "    }\n",
              "</style>\n",
              "<table border=\"1\" class=\"dataframe\">\n",
              "  <thead>\n",
              "    <tr style=\"text-align: right;\">\n",
              "      <th></th>\n",
              "      <th>Index</th>\n",
              "      <th>ID</th>\n",
              "      <th>Num_Bathrooms</th>\n",
              "      <th>Num_Beds</th>\n",
              "      <th>Latitude</th>\n",
              "      <th>Longitude</th>\n",
              "      <th>Surface</th>\n",
              "    </tr>\n",
              "  </thead>\n",
              "  <tbody>\n",
              "    <tr>\n",
              "      <th>count</th>\n",
              "      <td>702.000000</td>\n",
              "      <td>7.020000e+02</td>\n",
              "      <td>702.000000</td>\n",
              "      <td>702.000000</td>\n",
              "      <td>702.000000</td>\n",
              "      <td>702.000000</td>\n",
              "      <td>702.000000</td>\n",
              "    </tr>\n",
              "    <tr>\n",
              "      <th>mean</th>\n",
              "      <td>1989.500000</td>\n",
              "      <td>1.231545e+07</td>\n",
              "      <td>2.027066</td>\n",
              "      <td>2.987179</td>\n",
              "      <td>53.350445</td>\n",
              "      <td>-6.252411</td>\n",
              "      <td>132.603530</td>\n",
              "    </tr>\n",
              "    <tr>\n",
              "      <th>std</th>\n",
              "      <td>202.794231</td>\n",
              "      <td>1.420680e+05</td>\n",
              "      <td>1.071273</td>\n",
              "      <td>1.198480</td>\n",
              "      <td>0.073961</td>\n",
              "      <td>0.091600</td>\n",
              "      <td>330.347066</td>\n",
              "    </tr>\n",
              "    <tr>\n",
              "      <th>min</th>\n",
              "      <td>1639.000000</td>\n",
              "      <td>1.147889e+07</td>\n",
              "      <td>1.000000</td>\n",
              "      <td>1.000000</td>\n",
              "      <td>53.214227</td>\n",
              "      <td>-6.521183</td>\n",
              "      <td>32.100000</td>\n",
              "    </tr>\n",
              "    <tr>\n",
              "      <th>25%</th>\n",
              "      <td>1814.250000</td>\n",
              "      <td>1.227637e+07</td>\n",
              "      <td>1.000000</td>\n",
              "      <td>2.000000</td>\n",
              "      <td>53.295225</td>\n",
              "      <td>-6.304258</td>\n",
              "      <td>73.000000</td>\n",
              "    </tr>\n",
              "    <tr>\n",
              "      <th>50%</th>\n",
              "      <td>1989.500000</td>\n",
              "      <td>1.237928e+07</td>\n",
              "      <td>2.000000</td>\n",
              "      <td>3.000000</td>\n",
              "      <td>53.341153</td>\n",
              "      <td>-6.247799</td>\n",
              "      <td>99.200000</td>\n",
              "    </tr>\n",
              "    <tr>\n",
              "      <th>75%</th>\n",
              "      <td>2164.750000</td>\n",
              "      <td>1.240421e+07</td>\n",
              "      <td>3.000000</td>\n",
              "      <td>4.000000</td>\n",
              "      <td>53.381752</td>\n",
              "      <td>-6.184277</td>\n",
              "      <td>136.875000</td>\n",
              "    </tr>\n",
              "    <tr>\n",
              "      <th>max</th>\n",
              "      <td>2340.000000</td>\n",
              "      <td>1.242824e+07</td>\n",
              "      <td>9.000000</td>\n",
              "      <td>14.000000</td>\n",
              "      <td>53.617443</td>\n",
              "      <td>-6.057150</td>\n",
              "      <td>8576.000000</td>\n",
              "    </tr>\n",
              "  </tbody>\n",
              "</table>\n",
              "</div>"
            ],
            "text/plain": [
              "             Index            ID  ...   Longitude      Surface\n",
              "count   702.000000  7.020000e+02  ...  702.000000   702.000000\n",
              "mean   1989.500000  1.231545e+07  ...   -6.252411   132.603530\n",
              "std     202.794231  1.420680e+05  ...    0.091600   330.347066\n",
              "min    1639.000000  1.147889e+07  ...   -6.521183    32.100000\n",
              "25%    1814.250000  1.227637e+07  ...   -6.304258    73.000000\n",
              "50%    1989.500000  1.237928e+07  ...   -6.247799    99.200000\n",
              "75%    2164.750000  1.240421e+07  ...   -6.184277   136.875000\n",
              "max    2340.000000  1.242824e+07  ...   -6.057150  8576.000000\n",
              "\n",
              "[8 rows x 7 columns]"
            ]
          },
          "metadata": {},
          "execution_count": 17
        }
      ]
    },
    {
      "cell_type": "markdown",
      "metadata": {
        "id": "si_3eR5wAvvX"
      },
      "source": [
        "#Pre-processing of the data"
      ]
    },
    {
      "cell_type": "code",
      "metadata": {
        "colab": {
          "base_uri": "https://localhost:8080/"
        },
        "id": "VwYF92L9cshI",
        "outputId": "afaf1fce-d296-42d2-fe5e-b1f58a3749e2"
      },
      "source": [
        "#Count records where bedrooms or bathrooms are zero\n",
        "print(\"\\nNumber of records with zero beds:\", (dftrain['Num_Beds'] == 0).sum())\n",
        "print(\"Number of records with zero bathrooms:\", (dftrain['Num_Bathrooms'] == 0).sum())\n",
        "\n",
        "#Remove bathrooms and beds that are blank, and also blank prices as we cannot train on a predicted blank value\n",
        "#dftrain = dftrain.dropna(subset=['Num_Bathrooms'])\n",
        "#dftrain = dftrain.dropna(subset=['price'])\n",
        "\n",
        "#Remove records where bedrooms or bathrooms are zero\n",
        "#dftrain = dftrain[dftrain['Num_Beds'] > 0]\n",
        "#dftrain = dftrain[dftrain['bathrooms'] > 0]\n",
        "\n",
        "#Check for empty values in columns\n",
        "print(dftrain.isna().sum())"
      ],
      "execution_count": 18,
      "outputs": [
        {
          "output_type": "stream",
          "name": "stdout",
          "text": [
            "\n",
            "Number of records with zero beds: 0\n",
            "Number of records with zero bathrooms: 0\n",
            "Index               0\n",
            "ID                  0\n",
            "Location            0\n",
            "Num_Bathrooms       0\n",
            "Num_Beds            0\n",
            "BER_class         251\n",
            "Description         0\n",
            "Services         1061\n",
            "Features            0\n",
            "Latitude            0\n",
            "Longitude           0\n",
            "Type                0\n",
            "Surface             0\n",
            "Price               0\n",
            "dtype: int64\n"
          ]
        }
      ]
    },
    {
      "cell_type": "code",
      "metadata": {
        "colab": {
          "base_uri": "https://localhost:8080/",
          "height": 290
        },
        "id": "iemTu_btebtg",
        "outputId": "e88501c9-9123-4db9-b638-ac93b26fb530"
      },
      "source": [
        "#Lets have a look at longitude values and see if there are outliers\n",
        "plt.scatter(x=dftrain['Longitude'], y=dftrain['Price'])\n",
        "plt.ylabel('Sale Price')\n",
        "plt.xlabel('Longitude')\n",
        "plt.show()"
      ],
      "execution_count": 19,
      "outputs": [
        {
          "output_type": "display_data",
          "data": {
            "image/png": "[encoded data removed]",
            "text/plain": [
              "<Figure size 432x288 with 1 Axes>"
            ]
          },
          "metadata": {
            "needs_background": "light"
          }
        }
      ]
    },
    {
      "cell_type": "code",
      "metadata": {
        "colab": {
          "base_uri": "https://localhost:8080/",
          "height": 290
        },
        "id": "x634V8FHerq2",
        "outputId": "b7ba5f13-0983-4cd2-8701-f5c605982c50"
      },
      "source": [
        "#Remove outliers - where longitude > -4\n",
        "dftrain = dftrain[dftrain['Longitude'] < -4]\n",
        "plt.scatter(x=dftrain['Longitude'], y=dftrain['Price'])\n",
        "plt.ylabel('Sale Price')\n",
        "plt.xlabel('Longitude')\n",
        "plt.show()"
      ],
      "execution_count": 20,
      "outputs": [
        {
          "output_type": "display_data",
          "data": {
            "image/png": "[encoded data removed]",
            "text/plain": [
              "<Figure size 432x288 with 1 Axes>"
            ]
          },
          "metadata": {
            "needs_background": "light"
          }
        }
      ]
    },
    {
      "cell_type": "code",
      "metadata": {
        "colab": {
          "base_uri": "https://localhost:8080/",
          "height": 290
        },
        "id": "p52HdKn9fBg3",
        "outputId": "e77cd7ea-c6d8-465b-a60a-d76e2d671d22"
      },
      "source": [
        "#Lets have a look at the latitude values\n",
        "plt.scatter(x=dftrain['Latitude'], y=dftrain['Price'])\n",
        "plt.ylabel('Sale Price')\n",
        "plt.xlabel('Latitude')\n",
        "plt.show()"
      ],
      "execution_count": 21,
      "outputs": [
        {
          "output_type": "display_data",
          "data": {
            "image/png": "[encoded data removed]",
            "text/plain": [
              "<Figure size 432x288 with 1 Axes>"
            ]
          },
          "metadata": {
            "needs_background": "light"
          }
        }
      ]
    },
    {
      "cell_type": "code",
      "metadata": {
        "colab": {
          "base_uri": "https://localhost:8080/",
          "height": 290
        },
        "id": "jkkUy2XVfGMf",
        "outputId": "e315cf98-e75d-4f07-85af-82482c6aca1e"
      },
      "source": [
        "#Remove outliers where latitude < 53\n",
        "dftrain = dftrain[dftrain['Latitude'] > 53]\n",
        "plt.scatter(x=dftrain['Latitude'], y=dftrain['Price'])\n",
        "plt.ylabel('Sale Price')\n",
        "plt.xlabel('latitude')\n",
        "plt.show()"
      ],
      "execution_count": 22,
      "outputs": [
        {
          "output_type": "display_data",
          "data": {
            "image/png": "[encoded data removed]",
            "text/plain": [
              "<Figure size 432x288 with 1 Axes>"
            ]
          },
          "metadata": {
            "needs_background": "light"
          }
        }
      ]
    },
    {
      "cell_type": "code",
      "metadata": {
        "colab": {
          "base_uri": "https://localhost:8080/",
          "height": 290
        },
        "id": "y5JFdoeaBgpL",
        "outputId": "dc33f0d4-5b84-4620-8fdc-ee96a27d6001"
      },
      "source": [
        "#Lets have a look at the Surface values\n",
        "plt.scatter(x=dftrain['Surface'], y=dftrain['Price'])\n",
        "plt.ylabel('Sale Price')\n",
        "plt.xlabel('Surface')\n",
        "plt.show()"
      ],
      "execution_count": 23,
      "outputs": [
        {
          "output_type": "display_data",
          "data": {
            "image/png": "[encoded data removed]",
            "text/plain": [
              "<Figure size 432x288 with 1 Axes>"
            ]
          },
          "metadata": {
            "needs_background": "light"
          }
        }
      ]
    },
    {
      "cell_type": "code",
      "metadata": {
        "colab": {
          "base_uri": "https://localhost:8080/",
          "height": 290
        },
        "id": "NgSHYVlZBnjj",
        "outputId": "8da5c5ed-ea17-4417-a982-8f5b591cd8fa"
      },
      "source": [
        "#Remove outliers where surface > 3000\n",
        "dftrain = dftrain[dftrain['Surface'] < 3000]\n",
        "plt.scatter(x=dftrain['Surface'], y=dftrain['Price'])\n",
        "plt.ylabel('Sale Price')\n",
        "plt.xlabel('Surface')\n",
        "plt.show()"
      ],
      "execution_count": 24,
      "outputs": [
        {
          "output_type": "display_data",
          "data": {
            "image/png": "[encoded data removed]",
            "text/plain": [
              "<Figure size 432x288 with 1 Axes>"
            ]
          },
          "metadata": {
            "needs_background": "light"
          }
        }
      ]
    },
    {
      "cell_type": "code",
      "metadata": {
        "colab": {
          "base_uri": "https://localhost:8080/"
        },
        "id": "46HutrhNAm0d",
        "outputId": "cbe060db-6c4d-4de5-c561-5eb8c3a43049"
      },
      "source": [
        "# Specify the features we will use to train the model\n",
        "\n",
        "featrain = ['Num_Beds','Num_Bathrooms','Latitude', 'Longitude', 'Surface', 'Price']\n",
        "# dropna: remove missing values\n",
        "df_subset_train = dftrain[featrain].dropna(axis=0)\n",
        "\n",
        "featest = ['Num_Beds','Num_Bathrooms','Latitude', 'Longitude', 'Surface']\n",
        "df_subset_test  =  dftest[featest].dropna(axis=0)\n",
        "\n",
        "# cost\n",
        "#df_subset_cost = dfcost[dfcost.index.isin(df_subset_test.index)]\n",
        "\n",
        "print(df_subset_train.shape)\n",
        "print(df_subset_test.shape)\n",
        "#print(df_subset_cost.shape)"
      ],
      "execution_count": 25,
      "outputs": [
        {
          "output_type": "stream",
          "name": "stdout",
          "text": [
            "(1635, 6)\n",
            "(702, 5)\n"
          ]
        }
      ]
    },
    {
      "cell_type": "code",
      "metadata": {
        "colab": {
          "base_uri": "https://localhost:8080/"
        },
        "id": "2RcE6gRXcMUF",
        "outputId": "eeb33822-6765-4e9f-a263-3c9f5e7b54e4"
      },
      "source": [
        "#Check that all our nan values are now removed\n",
        "print('Number of nan in df_subset_train dataset: ',df_subset_test.isnull().sum().sum())\n",
        "print('Number of nan in df_subset_test dataset: ',df_subset_test.isnull().sum().sum())"
      ],
      "execution_count": 26,
      "outputs": [
        {
          "output_type": "stream",
          "name": "stdout",
          "text": [
            "Number of nan in df_subset_train dataset:  0\n",
            "Number of nan in df_subset_test dataset:  0\n"
          ]
        }
      ]
    },
    {
      "cell_type": "code",
      "metadata": {
        "colab": {
          "base_uri": "https://localhost:8080/"
        },
        "id": "EezgNC7WBimV",
        "outputId": "095bb4a0-07a0-4d54-cade-a8d1f314b2e5"
      },
      "source": [
        "# train set, input columns\n",
        "Xs_full_train = df_subset_train.iloc[:,0:-1].values \n",
        "# train set, output column, cost\n",
        "ys_full_train = df_subset_train.iloc[:,-1].values\n",
        "\n",
        "# test set, input columns\n",
        "Xs_test = df_subset_test.iloc[:,0:].values \n",
        "\n",
        "print(\"Xs_train shape:\", Xs_full_train.shape)\n",
        "print(\"ys_train shape:\", ys_full_train.shape)\n",
        "\n",
        "print(\"Xs_test shape:\", Xs_test.shape)\n",
        "#print(\"y_test shape:\", y_test.shape)"
      ],
      "execution_count": 27,
      "outputs": [
        {
          "output_type": "stream",
          "name": "stdout",
          "text": [
            "Xs_train shape: (1635, 5)\n",
            "ys_train shape: (1635,)\n",
            "Xs_test shape: (702, 5)\n"
          ]
        }
      ]
    },
    {
      "cell_type": "code",
      "metadata": {
        "colab": {
          "base_uri": "https://localhost:8080/"
        },
        "id": "QVIgsT9ckAGZ",
        "outputId": "fb415757-7f01-4a48-bc94-e33b6bf3385d"
      },
      "source": [
        "#We split the training dataset into training and validation, so we can validate/evaluate the model on the training data\n",
        "Xs_train,Xs_val,ys_train,ys_val = train_test_split(Xs_full_train, ys_full_train, test_size=0.2)\n",
        "ys_train = ys_train.reshape(-1,1)\n",
        "\n",
        "print(\"X train shape:\", Xs_train.shape)\n",
        "print(\"y train shape:\", ys_train.shape)\n",
        "print(\"X validation shape:\", Xs_val.shape)\n",
        "print(\"y validation shape:\", ys_val.shape)\n",
        "\n",
        "print(\"X test shape:\", Xs_test.shape)"
      ],
      "execution_count": 28,
      "outputs": [
        {
          "output_type": "stream",
          "name": "stdout",
          "text": [
            "X train shape: (1308, 5)\n",
            "y train shape: (1308, 1)\n",
            "X validation shape: (327, 5)\n",
            "y validation shape: (327,)\n",
            "X test shape: (702, 5)\n"
          ]
        }
      ]
    },
    {
      "cell_type": "code",
      "metadata": {
        "id": "sgt6pUzzBlVV"
      },
      "source": [
        "# StandardScaler() will normalize the features i.e. each column of X, \n",
        "# so, each column/feature/variable will have μ = 0 and σ = 1\n",
        "sc = StandardScaler()\n",
        "\n",
        "Xss_train = np.hstack([Xs_train,Xs_train[:,[2]]**2])\n",
        "xscaler = sc.fit(Xss_train)\n",
        "Xn_train = xscaler.transform(Xss_train)\n",
        "\n",
        "Xss_test = np.hstack([Xs_test,Xs_test[:,[2]]**2])\n",
        "Xn_test = xscaler.transform(Xss_test)\n",
        "\n",
        "Xss_val = np.hstack([Xs_val,Xs_val[:,[2]]**2])\n",
        "Xn_val = xscaler.transform(Xss_val)\n",
        "\n",
        "ylog = np.log(ys_train.astype('float'))\n",
        "yscaler = StandardScaler().fit(ylog)\n",
        "yn_train = yscaler.transform(ylog)\n",
        "\n",
        "#We don't want to scale or transform our validation true values\n",
        "yn_val = ys_val"
      ],
      "execution_count": 29,
      "outputs": []
    },
    {
      "cell_type": "markdown",
      "metadata": {
        "id": "G5oRiZxo2gpN"
      },
      "source": [
        "# NATURAL LANGUAGE PROCESSING"
      ]
    },
    {
      "cell_type": "markdown",
      "metadata": {
        "id": "e8s0Wi3a8yjN"
      },
      "source": [
        "Natural language processing ([NLP](https://en.wikipedia.org/wiki/Natural_language_processing)) is a subfield of linguistics, computer science, and artificial intelligence.\n",
        "\n",
        "* NLP concerned with the interactions between computers and human language.\n",
        "* In particular how to program computers to process and analyze large amounts of natural language data. \n",
        "* The goal is a computer capable of \"understanding\" the contents of documents.\n",
        "* Including the contextual nuances of the language within them. \n",
        "* The technology can then accurately extract information and insights contained in the documents.\n",
        "* As well as categorize and organize the documents themselves. "
      ]
    },
    {
      "cell_type": "markdown",
      "metadata": {
        "id": "oValFP-z2gpN"
      },
      "source": [
        "Your comments, explanation, and references here."
      ]
    },
    {
      "cell_type": "code",
      "metadata": {
        "id": "e_WND6NP2gpN",
        "colab": {
          "base_uri": "https://localhost:8080/"
        },
        "outputId": "7eead1fa-1e95-4cde-d9f7-ae79854e93af"
      },
      "source": [
        "from nltk.tokenize import word_tokenize  \n",
        "from nltk.stem import WordNetLemmatizer\n",
        "from nltk.stem.porter import *\n",
        "nltk.download('punkt')\n",
        "nltk.download('wordnet')\n",
        "import nltk\n",
        "nltk.download('stopwords')\n",
        "\n",
        "#def NLP_preprocess(input_text):\n",
        "#  new_text = input_text.str.replace(\"[^a-zA-Z#]\", \" \")\n",
        "#  short_word = 4\n",
        "#  new_text = new_text.apply(lambda x: ' '.join([w for w in x.split() if len(w)>short_word])\n",
        "#  new_text = new_text.apply(lambda x: x.lower())\n",
        "\n",
        "#  swords = stopwords.words('english')\n",
        "#  tokenized_doc = new_df['clean_message'].apply(lambda x: x.split())\n",
        "\n",
        "#  tokenized_doc = tokenized_doc.apply(lambda x: [item for item in x if item not in swords])\n",
        "\n",
        "  \n",
        "  # de-tokenization\n",
        "#  detokenized_doc = []\n",
        "#  for i in range(len(new_df)):\n",
        "#      t = ' '.join(tokenized_doc[i])\n",
        "#      detokenized_doc.append(t)\n"
      ],
      "execution_count": 30,
      "outputs": [
        {
          "output_type": "stream",
          "name": "stdout",
          "text": [
            "[nltk_data] Downloading package punkt to /root/nltk_data...\n",
            "[nltk_data]   Package punkt is already up-to-date!\n",
            "[nltk_data] Downloading package wordnet to /root/nltk_data...\n",
            "[nltk_data]   Package wordnet is already up-to-date!\n",
            "[nltk_data] Downloading package stopwords to /root/nltk_data...\n",
            "[nltk_data]   Package stopwords is already up-to-date!\n"
          ]
        },
        {
          "output_type": "execute_result",
          "data": {
            "text/plain": [
              "True"
            ]
          },
          "metadata": {},
          "execution_count": 30
        }
      ]
    },
    {
      "cell_type": "code",
      "metadata": {
        "id": "dUuC9vRST8LB"
      },
      "source": [
        "#We will utilise the features column to try and add more features to our model using NLP\n",
        "new_df = pd.DataFrame({'Features':dftrain[\"Features\"]})\n",
        "#print(dftrain[355])\n",
        "#Remove any non-alpha characters\n",
        "new_df['clean_message'] = new_df['Features'].str.replace(\"[^a-zA-Z#]\", \" \")\n",
        "\n",
        "# removing short words\n",
        "short_word = 4\n",
        "new_df['clean_message'] = new_df['clean_message'].apply(lambda x: ' '.join([w for w in x.split() if len(w)>short_word]))\n",
        "\n",
        "# make all text lowercase\n",
        "new_df['clean_message'] = new_df['clean_message'].apply(lambda x: x.lower())\n",
        "\n",
        "# tokenization of the features text\n",
        "tokenized_doc = new_df['clean_message'].apply(lambda x: x.split())\n",
        "\n",
        "# remove stop-words\n",
        "swords = stopwords.words('english')\n",
        "tokenized_doc = tokenized_doc.apply(lambda x: [item for item in x if item not in swords])\n",
        "\n",
        "# de-tokenization back to a string\n",
        "detokenized_doc = []\n",
        "for ind in new_df.index:\n",
        "    t = ' '.join(tokenized_doc[ind])\n",
        "    detokenized_doc.append(t)\n",
        "\n",
        "new_df['clean_message'] = detokenized_doc"
      ],
      "execution_count": 31,
      "outputs": []
    },
    {
      "cell_type": "markdown",
      "metadata": {
        "id": "Ik5xYmQNmedU"
      },
      "source": [
        "####TF-IDF Vectorization of Text Features"
      ]
    },
    {
      "cell_type": "code",
      "metadata": {
        "colab": {
          "base_uri": "https://localhost:8080/"
        },
        "id": "9-e2XRvPmmz8",
        "outputId": "10b97774-8747-407d-f014-1149b0172176"
      },
      "source": [
        "from sklearn.feature_extraction.text import TfidfVectorizer\n",
        "\n",
        "vectorizer = TfidfVectorizer(stop_words='english', max_features= 300, max_df=0.5, smooth_idf=True)\n",
        "print(vectorizer)\n",
        "\n",
        "vectorizer = TfidfVectorizer()\n",
        "X = vectorizer.fit_transform(new_df['clean_message'])\n",
        "vectorizer.get_feature_names()\n",
        "X.shape\n",
        "print(X.shape)"
      ],
      "execution_count": 32,
      "outputs": [
        {
          "output_type": "stream",
          "name": "stdout",
          "text": [
            "TfidfVectorizer(analyzer='word', binary=False, decode_error='strict',\n",
            "                dtype=<class 'numpy.float64'>, encoding='utf-8',\n",
            "                input='content', lowercase=True, max_df=0.5, max_features=300,\n",
            "                min_df=1, ngram_range=(1, 1), norm='l2', preprocessor=None,\n",
            "                smooth_idf=True, stop_words='english', strip_accents=None,\n",
            "                sublinear_tf=False, token_pattern='(?u)\\\\b\\\\w\\\\w+\\\\b',\n",
            "                tokenizer=None, use_idf=True, vocabulary=None)\n",
            "(1635, 2154)\n"
          ]
        }
      ]
    },
    {
      "cell_type": "code",
      "metadata": {
        "colab": {
          "base_uri": "https://localhost:8080/"
        },
        "id": "hzqGoCdDaEkC",
        "outputId": "ef748301-7a4f-46ea-e7d1-e0120a35203a"
      },
      "source": [
        "vectorizer.get_feature_names()"
      ],
      "execution_count": 1455,
      "outputs": [
        {
          "output_type": "execute_result",
          "data": {
            "text/plain": [
              "['abfter',\n",
              " 'absolute',\n",
              " 'absolutely',\n",
              " 'abundance',\n",
              " 'abundant',\n",
              " 'access',\n",
              " 'accessed',\n",
              " 'accessible',\n",
              " 'accomadation',\n",
              " 'accomm',\n",
              " 'accommodate',\n",
              " 'accommodates',\n",
              " 'accommodation',\n",
              " 'accommodtion',\n",
              " 'accomodation',\n",
              " 'accordian',\n",
              " 'acess',\n",
              " 'acquire',\n",
              " 'acre',\n",
              " 'acres',\n",
              " 'across',\n",
              " 'active',\n",
              " 'activities',\n",
              " 'adamstown',\n",
              " 'added',\n",
              " 'additional',\n",
              " 'address',\n",
              " 'adelaide',\n",
              " 'adjacent',\n",
              " 'adjoining',\n",
              " 'admission',\n",
              " 'advanced',\n",
              " 'advantage',\n",
              " 'advertising',\n",
              " 'aereco',\n",
              " 'aexander',\n",
              " 'afternoon',\n",
              " 'agent',\n",
              " 'agents',\n",
              " 'agletarchitecture',\n",
              " 'agreement',\n",
              " 'ailesbury',\n",
              " 'aircoach',\n",
              " 'airfield',\n",
              " 'airlink',\n",
              " 'airport',\n",
              " 'airy',\n",
              " 'alarm',\n",
              " 'alarmed',\n",
              " 'alarms',\n",
              " 'alike',\n",
              " 'allocated',\n",
              " 'allowing',\n",
              " 'allows',\n",
              " 'almost',\n",
              " 'alno',\n",
              " 'along',\n",
              " 'alongside',\n",
              " 'also',\n",
              " 'aluclad',\n",
              " 'aluminium',\n",
              " 'amazing',\n",
              " 'ameinity',\n",
              " 'amemities',\n",
              " 'amenities',\n",
              " 'amenity',\n",
              " 'amenties',\n",
              " 'american',\n",
              " 'amid',\n",
              " 'amidst',\n",
              " 'amneties',\n",
              " 'ample',\n",
              " 'ancillary',\n",
              " 'anderson',\n",
              " 'andrew',\n",
              " 'anne',\n",
              " 'annex',\n",
              " 'annexe',\n",
              " 'annual',\n",
              " 'annum',\n",
              " 'annunciator',\n",
              " 'anti',\n",
              " 'antique',\n",
              " 'anum',\n",
              " 'anyone',\n",
              " 'apartment',\n",
              " 'apartments',\n",
              " 'apex',\n",
              " 'appealing',\n",
              " 'appliances',\n",
              " 'applicable',\n",
              " 'application',\n",
              " 'applied',\n",
              " 'applies',\n",
              " 'appointed',\n",
              " 'appointment',\n",
              " 'approved',\n",
              " 'approx',\n",
              " 'approximate',\n",
              " 'approximately',\n",
              " 'approxr',\n",
              " 'april',\n",
              " 'aramark',\n",
              " 'arbour',\n",
              " 'arch',\n",
              " 'architect',\n",
              " 'architects',\n",
              " 'architecturally',\n",
              " 'architrave',\n",
              " 'architraving',\n",
              " 'ardbeg',\n",
              " 'ardee',\n",
              " 'ardgillen',\n",
              " 'area',\n",
              " 'areas',\n",
              " 'arena',\n",
              " 'around',\n",
              " 'array',\n",
              " 'artane',\n",
              " 'artificial',\n",
              " 'artisan',\n",
              " 'ashleaf',\n",
              " 'ashtown',\n",
              " 'aside',\n",
              " 'aspect',\n",
              " 'aspects',\n",
              " 'atmosphere',\n",
              " 'atrium',\n",
              " 'attached',\n",
              " 'attention',\n",
              " 'attic',\n",
              " 'attractive',\n",
              " 'auburn',\n",
              " 'audio',\n",
              " 'austrian',\n",
              " 'authority',\n",
              " 'available',\n",
              " 'avenue',\n",
              " 'aviva',\n",
              " 'avoca',\n",
              " 'awaits',\n",
              " 'award',\n",
              " 'away',\n",
              " 'back',\n",
              " 'backing',\n",
              " 'backs',\n",
              " 'balally',\n",
              " 'balance',\n",
              " 'balanced',\n",
              " 'balbriggan',\n",
              " 'balconies',\n",
              " 'balcony',\n",
              " 'ballaley',\n",
              " 'ballinclea',\n",
              " 'ballinteer',\n",
              " 'ballsbridge',\n",
              " 'ballylusk',\n",
              " 'ballyowen',\n",
              " 'balnchardstownshopping',\n",
              " 'balocny',\n",
              " 'balterio',\n",
              " 'bang',\n",
              " 'barbecue',\n",
              " 'barna',\n",
              " 'barrel',\n",
              " 'barrier',\n",
              " 'bars',\n",
              " 'base',\n",
              " 'basement',\n",
              " 'basins',\n",
              " 'baskets',\n",
              " 'bath',\n",
              " 'bathroom',\n",
              " 'bathrooms',\n",
              " 'baths',\n",
              " 'bathtub',\n",
              " 'baxi',\n",
              " 'bays',\n",
              " 'beach',\n",
              " 'beaches',\n",
              " 'beacon',\n",
              " 'beam',\n",
              " 'beamed',\n",
              " 'beamwork',\n",
              " 'beaumont',\n",
              " 'beautiful',\n",
              " 'beautifully',\n",
              " 'beauty',\n",
              " 'bedroms',\n",
              " 'bedroom',\n",
              " 'bedroomed',\n",
              " 'bedrooms',\n",
              " 'beds',\n",
              " 'behind',\n",
              " 'belfast',\n",
              " 'belgrove',\n",
              " 'belleville',\n",
              " 'benchmark',\n",
              " 'benefit',\n",
              " 'benefiting',\n",
              " 'benefits',\n",
              " 'benefitting',\n",
              " 'beside',\n",
              " 'bespoke',\n",
              " 'best',\n",
              " 'beyond',\n",
              " 'bicycle',\n",
              " 'bicycles',\n",
              " 'bight',\n",
              " 'bijou',\n",
              " 'bike',\n",
              " 'bikes',\n",
              " 'bills',\n",
              " 'bins',\n",
              " 'biomass',\n",
              " 'blacam',\n",
              " 'blachardstown',\n",
              " 'black',\n",
              " 'blackglen',\n",
              " 'blackhall',\n",
              " 'blackhorse',\n",
              " 'blackrock',\n",
              " 'blanchardstown',\n",
              " 'blank',\n",
              " 'blend',\n",
              " 'blinds',\n",
              " 'block',\n",
              " 'blue',\n",
              " 'bluebell',\n",
              " 'board',\n",
              " 'boards',\n",
              " 'boasting',\n",
              " 'boasts',\n",
              " 'boch',\n",
              " 'bohan',\n",
              " 'boiler',\n",
              " 'bolton',\n",
              " 'bond',\n",
              " 'booterstown',\n",
              " 'bord',\n",
              " 'border',\n",
              " 'bore',\n",
              " 'bosch',\n",
              " 'botanic',\n",
              " 'bottles',\n",
              " 'boundaries',\n",
              " 'boutique',\n",
              " 'boutiques',\n",
              " 'boys',\n",
              " 'braemor',\n",
              " 'brand',\n",
              " 'brassware',\n",
              " 'bray',\n",
              " 'brazilian',\n",
              " 'breakfast',\n",
              " 'breath',\n",
              " 'breathtaking',\n",
              " 'brewery',\n",
              " 'brick',\n",
              " 'briefly',\n",
              " 'bright',\n",
              " 'brigid',\n",
              " 'brigids',\n",
              " 'broadband',\n",
              " 'broombridge',\n",
              " 'brushed',\n",
              " 'budget',\n",
              " 'build',\n",
              " 'building',\n",
              " 'buildings',\n",
              " 'built',\n",
              " 'bungalow',\n",
              " 'bungalows',\n",
              " 'burglar',\n",
              " 'burner',\n",
              " 'burning',\n",
              " 'buses',\n",
              " 'bushy',\n",
              " 'business',\n",
              " 'businesses',\n",
              " 'busses',\n",
              " 'busy',\n",
              " 'butterfield',\n",
              " 'buyer',\n",
              " 'buyers',\n",
              " 'cabelling',\n",
              " 'cabin',\n",
              " 'cabinets',\n",
              " 'cabinteely',\n",
              " 'cable',\n",
              " 'cabling',\n",
              " 'cabra',\n",
              " 'cafe',\n",
              " 'cafes',\n",
              " 'call',\n",
              " 'camden',\n",
              " 'camera',\n",
              " 'cameras',\n",
              " 'campus',\n",
              " 'campuses',\n",
              " 'canadian',\n",
              " 'canal',\n",
              " 'cantilevered',\n",
              " 'canvas',\n",
              " 'canvass',\n",
              " 'capital',\n",
              " 'caps',\n",
              " 'carbon',\n",
              " 'carefully',\n",
              " 'caretaker',\n",
              " 'carpark',\n",
              " 'carparking',\n",
              " 'carpenterstown',\n",
              " 'carpentry',\n",
              " 'carpet',\n",
              " 'carpeted',\n",
              " 'carpets',\n",
              " 'carrickmines',\n",
              " 'carried',\n",
              " 'cars',\n",
              " 'case',\n",
              " 'cash',\n",
              " 'cast',\n",
              " 'castle',\n",
              " 'castleknock',\n",
              " 'castlemill',\n",
              " 'castlemilll',\n",
              " 'castlethorn',\n",
              " 'catalano',\n",
              " 'catchment',\n",
              " 'cavity',\n",
              " 'cawley',\n",
              " 'cctv',\n",
              " 'cedar',\n",
              " 'ceiling',\n",
              " 'ceilinged',\n",
              " 'ceilings',\n",
              " 'ceillings',\n",
              " 'cellar',\n",
              " 'cenre',\n",
              " 'cent',\n",
              " 'cental',\n",
              " 'center',\n",
              " 'centers',\n",
              " 'central',\n",
              " 'centralised',\n",
              " 'centrally',\n",
              " 'centre',\n",
              " 'centres',\n",
              " 'ceramic',\n",
              " 'cert',\n",
              " 'chain',\n",
              " 'chance',\n",
              " 'change',\n",
              " 'channel',\n",
              " 'chantries',\n",
              " 'chapelizod',\n",
              " 'character',\n",
              " 'charelstown',\n",
              " 'charge',\n",
              " 'charges',\n",
              " 'charging',\n",
              " 'charlemont',\n",
              " 'charlestown',\n",
              " 'charm',\n",
              " 'charming',\n",
              " 'chequered',\n",
              " 'cherrywood',\n",
              " 'children',\n",
              " 'chimney',\n",
              " 'choice',\n",
              " 'chosen',\n",
              " 'christian',\n",
              " 'christoff',\n",
              " 'chrome',\n",
              " 'church',\n",
              " 'churches',\n",
              " 'churchtown',\n",
              " 'chute',\n",
              " 'cills',\n",
              " 'cinema',\n",
              " 'circa',\n",
              " 'circular',\n",
              " 'city',\n",
              " 'citywest',\n",
              " 'clad',\n",
              " 'claddin',\n",
              " 'cladding',\n",
              " 'clanforce',\n",
              " 'clarehall',\n",
              " 'classical',\n",
              " 'classlawn',\n",
              " 'clean',\n",
              " 'clever',\n",
              " 'cleverly',\n",
              " 'click',\n",
              " 'cliff',\n",
              " 'climate',\n",
              " 'clive',\n",
              " 'cloakroom',\n",
              " 'clock',\n",
              " 'clondalkin',\n",
              " 'clongriffin',\n",
              " 'clonliffe',\n",
              " 'clonsilla',\n",
              " 'clontarf',\n",
              " 'close',\n",
              " 'closeby',\n",
              " 'club',\n",
              " 'clubs',\n",
              " 'coach',\n",
              " 'coal',\n",
              " 'coastal',\n",
              " 'coated',\n",
              " 'cobble',\n",
              " 'cobbled',\n",
              " 'cobblelock',\n",
              " 'cobblestone',\n",
              " 'cobblestones',\n",
              " 'cold',\n",
              " 'college',\n",
              " 'colleges',\n",
              " 'colmcilles',\n",
              " 'coloured',\n",
              " 'colourful',\n",
              " 'combi',\n",
              " 'combining',\n",
              " 'come',\n",
              " 'comes',\n",
              " 'comfortable',\n",
              " 'comfortably',\n",
              " 'coming',\n",
              " 'commercial',\n",
              " 'committee',\n",
              " 'common',\n",
              " 'communal',\n",
              " 'community',\n",
              " 'commute',\n",
              " 'commuter',\n",
              " 'commuting',\n",
              " 'company',\n",
              " 'complemented',\n",
              " 'complete',\n",
              " 'completed',\n",
              " 'completely',\n",
              " 'complex',\n",
              " 'compliant',\n",
              " 'complimented',\n",
              " 'composite',\n",
              " 'comprise',\n",
              " 'comprising',\n",
              " 'computer',\n",
              " 'concierge',\n",
              " 'concrete',\n",
              " 'condenser',\n",
              " 'condensing',\n",
              " 'condition',\n",
              " 'conditioning',\n",
              " 'confirmation',\n",
              " 'conjunction',\n",
              " 'connected',\n",
              " 'connection',\n",
              " 'connects',\n",
              " 'connell',\n",
              " 'connolly',\n",
              " 'cons',\n",
              " 'consealed',\n",
              " 'conservation',\n",
              " 'conservatory',\n",
              " 'considerable',\n",
              " 'consists',\n",
              " 'consolidation',\n",
              " 'constant',\n",
              " 'constructed',\n",
              " 'construction',\n",
              " 'consumption',\n",
              " 'contained',\n",
              " 'contemporary',\n",
              " 'contents',\n",
              " 'continental',\n",
              " 'contractor',\n",
              " 'contrasting',\n",
              " 'control',\n",
              " 'controlled',\n",
              " 'controls',\n",
              " 'convenie',\n",
              " 'convenience',\n",
              " 'conveniences',\n",
              " 'convenient',\n",
              " 'conveniently',\n",
              " 'convererted',\n",
              " 'conversion',\n",
              " 'convert',\n",
              " 'converted',\n",
              " 'cooker',\n",
              " 'cooking',\n",
              " 'cooler',\n",
              " 'coolmine',\n",
              " 'coombe',\n",
              " 'cooper',\n",
              " 'copper',\n",
              " 'core',\n",
              " 'corkagh',\n",
              " 'corn',\n",
              " 'cornelscourt',\n",
              " 'corner',\n",
              " 'cornice',\n",
              " 'cornices',\n",
              " 'cornicing',\n",
              " 'corridor',\n",
              " 'corrig',\n",
              " 'cosgrave',\n",
              " 'cosgrove',\n",
              " 'cost',\n",
              " 'cosy',\n",
              " 'cottage',\n",
              " 'could',\n",
              " 'council',\n",
              " 'counter',\n",
              " 'countertops',\n",
              " 'country',\n",
              " 'countryside',\n",
              " 'county',\n",
              " 'cour',\n",
              " 'court',\n",
              " 'courts',\n",
              " 'courtyard',\n",
              " 'covered',\n",
              " 'coveted',\n",
              " 'coving',\n",
              " 'covings',\n",
              " 'cowper',\n",
              " 'crafted',\n",
              " 'crcche',\n",
              " 'cream',\n",
              " 'create',\n",
              " 'creating',\n",
              " 'creatively',\n",
              " 'crech',\n",
              " 'creche',\n",
              " 'creches',\n",
              " 'crema',\n",
              " 'crescent',\n",
              " 'creston',\n",
              " 'cricket',\n",
              " 'croke',\n",
              " 'cross',\n",
              " 'crumlin',\n",
              " 'cultural',\n",
              " 'cupboards',\n",
              " 'current',\n",
              " 'currently',\n",
              " 'curtains',\n",
              " 'custom',\n",
              " 'cylinder',\n",
              " 'dado',\n",
              " 'dalkey',\n",
              " 'dame',\n",
              " 'damp',\n",
              " 'danish',\n",
              " 'dart',\n",
              " 'daryl',\n",
              " 'dashed',\n",
              " 'dates',\n",
              " 'dating',\n",
              " 'dawson',\n",
              " 'days',\n",
              " 'dean',\n",
              " 'deansgrange',\n",
              " 'deceptively',\n",
              " 'deck',\n",
              " 'decked',\n",
              " 'decking',\n",
              " 'decor',\n",
              " 'decorated',\n",
              " 'decoration',\n",
              " 'decorative',\n",
              " 'dedicated',\n",
              " 'deep',\n",
              " 'deerpark',\n",
              " 'defects',\n",
              " 'degree',\n",
              " 'deitrich',\n",
              " 'delay',\n",
              " 'delightful',\n",
              " 'demense',\n",
              " 'density',\n",
              " 'depicting',\n",
              " 'design',\n",
              " 'designated',\n",
              " 'designed',\n",
              " 'designer',\n",
              " 'designers',\n",
              " 'designs',\n",
              " 'desirable',\n",
              " 'desired',\n",
              " 'detached',\n",
              " 'detail',\n",
              " 'detailing',\n",
              " 'details',\n",
              " 'detection',\n",
              " 'detectors',\n",
              " 'develop',\n",
              " 'developed',\n",
              " 'developement',\n",
              " 'development',\n",
              " 'developments',\n",
              " 'devleopment',\n",
              " 'different',\n",
              " 'digital',\n",
              " 'dimplex',\n",
              " 'diner',\n",
              " 'dinesen',\n",
              " 'dining',\n",
              " 'direct',\n",
              " 'directly',\n",
              " 'disc',\n",
              " 'dish',\n",
              " 'dishwasher',\n",
              " 'disk',\n",
              " 'display',\n",
              " 'distance',\n",
              " 'distinct',\n",
              " 'distinction',\n",
              " 'district',\n",
              " 'diverse',\n",
              " 'divided',\n",
              " 'djouce',\n",
              " 'dock',\n",
              " 'docklands',\n",
              " 'docks',\n",
              " 'dodder',\n",
              " 'dolby',\n",
              " 'dollymount',\n",
              " 'domestic',\n",
              " 'done',\n",
              " 'donnybrook',\n",
              " 'door',\n",
              " 'doors',\n",
              " 'doorstep',\n",
              " 'dormer',\n",
              " 'double',\n",
              " 'doubleglazing',\n",
              " 'doubles',\n",
              " 'douglas',\n",
              " 'doule',\n",
              " 'dove',\n",
              " 'downsizers',\n",
              " 'downsizing',\n",
              " 'downstairs',\n",
              " 'drapes',\n",
              " 'drawing',\n",
              " 'dream',\n",
              " 'drenched',\n",
              " 'dresser',\n",
              " 'dressing',\n",
              " 'drive',\n",
              " 'driveway',\n",
              " 'drop',\n",
              " 'drumcondra',\n",
              " 'dryer',\n",
              " 'drying',\n",
              " 'dswc',\n",
              " 'dual',\n",
              " 'dublin',\n",
              " 'dublins',\n",
              " 'duncan',\n",
              " 'dundrum',\n",
              " 'dunnes',\n",
              " 'duplex',\n",
              " 'durat',\n",
              " 'duravit',\n",
              " 'dwelling',\n",
              " 'ease',\n",
              " 'easily',\n",
              " 'east',\n",
              " 'easterly',\n",
              " 'eastpoint',\n",
              " 'easy',\n",
              " 'edinburgh',\n",
              " 'education',\n",
              " 'educational',\n",
              " 'edwardian',\n",
              " 'effect',\n",
              " 'effected',\n",
              " 'efficiency',\n",
              " 'efficient',\n",
              " 'eight',\n",
              " 'eircom',\n",
              " 'elec',\n",
              " 'electric',\n",
              " 'electrical',\n",
              " 'electrically',\n",
              " 'electricity',\n",
              " 'electro',\n",
              " 'electronic',\n",
              " 'elegance',\n",
              " 'elegant',\n",
              " 'elevated',\n",
              " 'elevation',\n",
              " 'elevator',\n",
              " 'elevators',\n",
              " 'embellishments',\n",
              " 'embossed',\n",
              " 'enables',\n",
              " 'enclave',\n",
              " 'enclosed',\n",
              " 'enclosing',\n",
              " 'enclosures',\n",
              " 'encompassing',\n",
              " 'endless',\n",
              " 'energy',\n",
              " 'enery',\n",
              " 'engineered',\n",
              " 'england',\n",
              " 'enhanced',\n",
              " 'enjoy',\n",
              " 'enjoying',\n",
              " 'enjoys',\n",
              " 'enormous',\n",
              " 'ensuite',\n",
              " 'ensuites',\n",
              " 'ensure',\n",
              " 'ensures',\n",
              " 'entertaining',\n",
              " 'entertainment',\n",
              " 'enthusiasts',\n",
              " 'entire',\n",
              " 'entrance',\n",
              " 'entrances',\n",
              " 'enviable',\n",
              " 'enviably',\n",
              " 'environment',\n",
              " 'equidistant',\n",
              " 'equipment',\n",
              " 'equipped',\n",
              " 'equivalent',\n",
              " 'esch',\n",
              " 'essential',\n",
              " 'established',\n",
              " 'estate',\n",
              " 'estimated',\n",
              " 'estuary',\n",
              " 'ethernet',\n",
              " 'euros',\n",
              " 'even',\n",
              " 'evening',\n",
              " 'ever',\n",
              " 'every',\n",
              " 'exacting',\n",
              " 'example',\n",
              " 'excellect',\n",
              " 'excellent',\n",
              " 'excellently',\n",
              " 'exceptional',\n",
              " 'exceptionally',\n",
              " 'exchange',\n",
              " 'excl',\n",
              " 'excluding',\n",
              " 'exclusive',\n",
              " 'exemplary',\n",
              " 'exempt',\n",
              " 'existing',\n",
              " 'exit',\n",
              " 'expand',\n",
              " 'expansion',\n",
              " 'expansive',\n",
              " 'expected',\n",
              " 'expenditure',\n",
              " 'expense',\n",
              " 'expensive',\n",
              " 'experience',\n",
              " 'expert',\n",
              " 'expertly',\n",
              " 'exposed',\n",
              " 'express',\n",
              " 'exquisite',\n",
              " 'extend',\n",
              " 'extended',\n",
              " 'extending',\n",
              " 'extends',\n",
              " 'extension',\n",
              " 'extensions',\n",
              " 'extensive',\n",
              " 'extensively',\n",
              " 'exterior',\n",
              " 'external',\n",
              " 'externally',\n",
              " 'extra',\n",
              " 'extractor',\n",
              " 'extras',\n",
              " 'extremely',\n",
              " 'extremly',\n",
              " 'fabulous',\n",
              " 'facade',\n",
              " 'face',\n",
              " 'faced',\n",
              " 'facia',\n",
              " 'facilities',\n",
              " 'facility',\n",
              " 'facing',\n",
              " 'fairview',\n",
              " 'fall',\n",
              " 'famiily',\n",
              " 'families',\n",
              " 'family',\n",
              " 'fanlight',\n",
              " 'fantasic',\n",
              " 'fantastic',\n",
              " 'faral',\n",
              " 'farmleigh',\n",
              " 'fascia',\n",
              " 'fassaugh',\n",
              " 'favourable',\n",
              " 'feature',\n",
              " 'features',\n",
              " 'fees',\n",
              " 'feet',\n",
              " 'felted',\n",
              " 'fence',\n",
              " 'fenced',\n",
              " 'fernhill',\n",
              " 'ferroli',\n",
              " 'fforster',\n",
              " 'fiber',\n",
              " 'fields',\n",
              " 'fifteen',\n",
              " 'fifth',\n",
              " 'filled',\n",
              " 'filtration',\n",
              " 'fine',\n",
              " 'finest',\n",
              " 'finglas',\n",
              " 'finish',\n",
              " 'finished',\n",
              " 'finishes',\n",
              " 'fire',\n",
              " 'fired',\n",
              " 'fireplace',\n",
              " 'fireplaces',\n",
              " 'fires',\n",
              " 'first',\n",
              " 'fishing',\n",
              " 'fitted',\n",
              " 'fittings',\n",
              " 'fitzgerald',\n",
              " 'five',\n",
              " 'fixtures',\n",
              " 'flagstone',\n",
              " 'flaherty',\n",
              " 'flair',\n",
              " 'flashing',\n",
              " 'flat',\n",
              " 'fleet',\n",
              " 'flexible',\n",
              " 'flooded',\n",
              " 'floor',\n",
              " 'floored',\n",
              " 'flooring',\n",
              " 'floors',\n",
              " 'flower',\n",
              " 'flynn',\n",
              " 'followed',\n",
              " 'foot',\n",
              " 'football',\n",
              " 'foothills',\n",
              " 'format',\n",
              " 'former',\n",
              " 'forty',\n",
              " 'foundation',\n",
              " 'four',\n",
              " 'fourth',\n",
              " 'foxrock',\n",
              " 'fraction',\n",
              " 'frame',\n",
              " 'framed',\n",
              " 'free',\n",
              " 'freestanding',\n",
              " 'freezer',\n",
              " 'french',\n",
              " 'frequen',\n",
              " 'frequent',\n",
              " 'fresco',\n",
              " 'fresh',\n",
              " 'freshly',\n",
              " 'fridge',\n",
              " 'friendly',\n",
              " 'fringes',\n",
              " 'front',\n",
              " 'frontage',\n",
              " 'fronted',\n",
              " 'fuel',\n",
              " 'fueled',\n",
              " 'full',\n",
              " 'fully',\n",
              " 'functioning',\n",
              " 'fund',\n",
              " 'furbished',\n",
              " 'furniished',\n",
              " 'furnish',\n",
              " 'furnished',\n",
              " 'furniture',\n",
              " 'fuse',\n",
              " 'future',\n",
              " 'gable',\n",
              " 'gaggenau',\n",
              " 'galvanised',\n",
              " 'games',\n",
              " 'gangway',\n",
              " 'gaol',\n",
              " 'garage',\n",
              " 'garda',\n",
              " 'garden',\n",
              " 'gardening',\n",
              " 'gardens',\n",
              " 'gargoyle',\n",
              " 'garville',\n",
              " 'gate',\n",
              " 'gated',\n",
              " 'gates',\n",
              " 'gateway',\n",
              " 'generations',\n",
              " 'generous',\n",
              " 'generously',\n",
              " 'gentle',\n",
              " 'georgian',\n",
              " 'geostone',\n",
              " 'geothermal',\n",
              " 'german',\n",
              " 'gfch',\n",
              " 'gigabit',\n",
              " 'gillian',\n",
              " 'giraffe',\n",
              " 'girls',\n",
              " 'gives',\n",
              " 'giving',\n",
              " 'glasnevin',\n",
              " 'glass',\n",
              " 'glasthule',\n",
              " 'glaze',\n",
              " 'glazed',\n",
              " 'glazing',\n",
              " 'glenageary',\n",
              " 'glencairn',\n",
              " 'glenheather',\n",
              " 'glorious',\n",
              " 'gloss',\n",
              " 'glow',\n",
              " 'goes',\n",
              " 'gold',\n",
              " 'golf',\n",
              " 'good',\n",
              " 'goods',\n",
              " 'gothic',\n",
              " 'graceful',\n",
              " 'gracious',\n",
              " 'grade',\n",
              " 'graftom',\n",
              " 'grafton',\n",
              " 'grain',\n",
              " 'granada',\n",
              " 'grand',\n",
              " 'grangegorman',\n",
              " 'granite',\n",
              " 'granny',\n",
              " 'grant',\n",
              " 'granted',\n",
              " 'grass',\n",
              " 'gravel',\n",
              " 'gravelled',\n",
              " 'great',\n",
              " 'green',\n",
              " 'greenhouse',\n",
              " 'greenspace',\n",
              " 'grenville',\n",
              " 'grey',\n",
              " 'griffith',\n",
              " 'grohe',\n",
              " 'gross',\n",
              " 'ground',\n",
              " 'grounds',\n",
              " 'grove',\n",
              " 'growing',\n",
              " 'guarantee',\n",
              " 'guest',\n",
              " 'guide',\n",
              " 'gulliver',\n",
              " 'gutter',\n",
              " 'gutters',\n",
              " 'gymnasium',\n",
              " 'gyms',\n",
              " 'habitat',\n",
              " 'haddington',\n",
              " 'half',\n",
              " 'hall',\n",
              " 'hallway',\n",
              " 'hamlet',\n",
              " 'hamptons',\n",
              " 'hand',\n",
              " 'handcrafted',\n",
              " ...]"
            ]
          },
          "metadata": {},
          "execution_count": 1455
        }
      ]
    },
    {
      "cell_type": "markdown",
      "metadata": {
        "id": "bJFJQxAS9HZK"
      },
      "source": [
        "# PIECEWISE REGRESSION"
      ]
    },
    {
      "cell_type": "code",
      "metadata": {
        "id": "dyFAefJbG2lI"
      },
      "source": [
        "# model\n",
        "with pm.Model() as model:\n",
        "    #prior over the parameters of linear regression\n",
        "    alpha = pm.Normal('alpha', mu=0, sigma=100)\n",
        "    #we have one beta for each column of Xn\n",
        "    beta = pm.Normal('beta', mu=0, sigma=100, shape=Xn_train.shape[1])\n",
        "    #prior over the variance of the noise\n",
        "    sigma = pm.HalfCauchy('sigma_n', 5)\n",
        "    #linear regression model in matrix form\n",
        "    mu = alpha + pm.math.dot(beta, Xn_train.T)\n",
        "    #likelihood, be sure that observed is a 1d vector\n",
        "    like = pm.Normal('like', mu=mu, sigma=sigma, observed=yn_train[:,0])"
      ],
      "execution_count": 1275,
      "outputs": []
    },
    {
      "cell_type": "code",
      "metadata": {
        "colab": {
          "base_uri": "https://localhost:8080/",
          "height": 332
        },
        "id": "560gg0TeG4gX",
        "outputId": "f990fdc6-3a8d-451b-f478-3b610d1307d3"
      },
      "source": [
        "#number of iterations of the algorithms\n",
        "iter = 50000 \n",
        "\n",
        "# run the model\n",
        "with model:\n",
        "    approximation = pm.fit(iter,method='advi')\n",
        "    \n",
        "# check the convergence\n",
        "plt.plot(approximation.hist);\n",
        "plt.title('Loss per Iteration')\n",
        "plt.xlabel('Iteration')\n",
        "plt.ylabel('Loss')\n",
        "plt.show()"
      ],
      "execution_count": 1276,
      "outputs": [
        {
          "output_type": "display_data",
          "data": {
            "text/html": [
              "\n",
              "    <div>\n",
              "        <style>\n",
              "            /* Turns off some styling */\n",
              "            progress {\n",
              "                /* gets rid of default border in Firefox and Opera. */\n",
              "                border: none;\n",
              "                /* Needs to be in here for Safari polyfill so background images work as expected. */\n",
              "                background-size: auto;\n",
              "            }\n",
              "            .progress-bar-interrupted, .progress-bar-interrupted::-webkit-progress-bar {\n",
              "                background: #F44336;\n",
              "            }\n",
              "        </style>\n",
              "      <progress value='50000' class='' max='50000' style='width:300px; height:20px; vertical-align: middle;'></progress>\n",
              "      100.00% [50000/50000 00:06<00:00 Average Loss = 1,301.8]\n",
              "    </div>\n",
              "    "
            ],
            "text/plain": [
              "<IPython.core.display.HTML object>"
            ]
          },
          "metadata": {}
        },
        {
          "output_type": "stream",
          "name": "stderr",
          "text": [
            "Finished [100%]: Average Loss = 1,301.8\n"
          ]
        },
        {
          "output_type": "display_data",
          "data": {
            "image/png": "[encoded data removed]",
            "text/plain": [
              "<Figure size 432x288 with 1 Axes>"
            ]
          },
          "metadata": {
            "needs_background": "light"
          }
        }
      ]
    },
    {
      "cell_type": "code",
      "metadata": {
        "id": "rmXZFTDbG64H"
      },
      "source": [
        "# samples from the posterior\n",
        "posterior = approximation.sample(5000)"
      ],
      "execution_count": 1277,
      "outputs": []
    },
    {
      "cell_type": "code",
      "metadata": {
        "colab": {
          "base_uri": "https://localhost:8080/"
        },
        "id": "4eHQYQzgG80f",
        "outputId": "c4404c6a-f8c6-4fe0-c7e9-8f6bb968f8d6"
      },
      "source": [
        "# prediction\n",
        "ll=np.mean(posterior['alpha']) + np.dot(np.mean(posterior['beta'],axis=0), Xn_val.T)\n",
        "y_pred_BLR = np.exp(yscaler.inverse_transform(ll.reshape(-1,1)))[:,0]\n",
        "print(\"MAE = \",(np.mean(abs(y_pred_BLR - yn_val))))\n",
        "print(\"MAPE = \",(np.mean(abs(y_pred_BLR - yn_val) / yn_val)))\n",
        "\n",
        "from sklearn.metrics import mean_squared_error\n",
        "from math import sqrt\n",
        "\n",
        "rms = sqrt(mean_squared_error(yn_val, y_pred_BLR))\n",
        "print(\"RMSE = \", rms)"
      ],
      "execution_count": 1278,
      "outputs": [
        {
          "output_type": "stream",
          "name": "stdout",
          "text": [
            "MAE =  125310.37495058992\n",
            "MAPE =  0.2209267008473644\n",
            "RMSE =  236595.70968837227\n"
          ]
        }
      ]
    },
    {
      "cell_type": "markdown",
      "metadata": {
        "id": "QkRchZtf6IV-"
      },
      "source": [
        "**Piecewise regression**, extract from [Wikipedia](https://en.wikipedia.org/wiki/Segmented_regression):\n",
        "\n",
        "Segmented regression, also known as piecewise regression or broken-stick regression, is a method in regression analysis in which the independent variable is partitioned into intervals and a separate line segment is fit to each interval. \n",
        "\n",
        "* Segmented regression analysis can also be performed on \n",
        "multivariate data by partitioning the various independent variables. \n",
        "* Segmented regression is useful when the independent variables, clustered into different groups, exhibit different relationships between the variables in these regions. \n",
        "\n",
        "* The boundaries between the segments are breakpoints.\n",
        "\n",
        "* Segmented linear regression is segmented regression whereby the relations in the intervals are obtained by linear regression. "
      ]
    },
    {
      "cell_type": "markdown",
      "metadata": {
        "id": "po84zvge2NS7"
      },
      "source": [
        "Your comments, explanation, and references here."
      ]
    },
    {
      "cell_type": "markdown",
      "metadata": {
        "id": "FeDCvyVc9W_6"
      },
      "source": [
        "### Gaussian Mixture Model \n",
        "We need to determine the optimum number of clusters to use"
      ]
    },
    {
      "cell_type": "markdown",
      "metadata": {
        "id": "j7MDWCR29lAB"
      },
      "source": [
        "### Determine the number of clusters - K-Means\n",
        "\n",
        "We will use K-Means clustering to partition all our data points into k clusters. We will try for multiple different clusters, and calculate the inertia for each cluster, which is the sum of the distances of the samples to their closest cluster center. \n",
        "\n",
        "We are looking for an 'elbow' in the graph to determine the most appropriate k value. From the plot below, it appears 4 or 5 clusters are the optimum, I will choose 5 as an extra cluster might give a slight improvement in the model without overfitting."
      ]
    },
    {
      "cell_type": "code",
      "metadata": {
        "colab": {
          "base_uri": "https://localhost:8080/",
          "height": 404
        },
        "id": "wzdOKp5j9q_x",
        "outputId": "a369ead5-eae9-4c4a-8123-12a76c188dc1"
      },
      "source": [
        "data = df_subset_train\n",
        "\n",
        "sse = {}\n",
        "for k in range(1, 20):\n",
        "    kmeans = cluster.KMeans(init='k-means++', n_clusters=k, max_iter=300).fit(data)\n",
        "    sse[k] = kmeans.inertia_ # Inertia: Sum of distances of samples to their closest cluster center\n",
        "\n",
        "plt.figure(figsize=(14, 6))\n",
        "plt.plot(list(sse.keys()), list(sse.values()), 'rx-')\n",
        "plt.xlabel(\"Number of cluster\")\n",
        "plt.ylabel(\"SSE\")\n",
        "plt.title(\"plot of sum of the mean square distances from each point to its center\")\n",
        "plt.show()"
      ],
      "execution_count": 1279,
      "outputs": [
        {
          "output_type": "display_data",
          "data": {
            "image/png": "[encoded data removed]",
            "text/plain": [
              "<Figure size 1008x432 with 1 Axes>"
            ]
          },
          "metadata": {
            "needs_background": "light"
          }
        }
      ]
    },
    {
      "cell_type": "markdown",
      "metadata": {
        "id": "CJDfJmrjEP_b"
      },
      "source": [
        "From the plot above, the elbow seems to occur at 4 clusters, so we will use that"
      ]
    },
    {
      "cell_type": "code",
      "metadata": {
        "id": "pXX7Mq2Y2NrK",
        "colab": {
          "base_uri": "https://localhost:8080/",
          "height": 282
        },
        "outputId": "aa38e684-b118-4013-b7c3-25b82e72c40d"
      },
      "source": [
        "# training gaussian mixture model \n",
        "from sklearn.mixture import GaussianMixture\n",
        "\n",
        "gmm = GaussianMixture(n_components=4)\n",
        "\n",
        "# clustering by features latitude and longitude\n",
        "ind=[2,3]\n",
        "X_ind = np.vstack([Xn_train[:,ind],Xn_val[:,ind]])\n",
        "# Gaussian Mixture\n",
        "gmm.fit(X_ind)\n",
        "\n",
        "# plot blue dots\n",
        "plt.scatter(X_ind[:,0],X_ind[:,1])\n",
        "# centroids:  orange dots\n",
        "plt.scatter(gmm.means_[:,0],gmm.means_[:,1])\n"
      ],
      "execution_count": 1280,
      "outputs": [
        {
          "output_type": "execute_result",
          "data": {
            "text/plain": [
              "<matplotlib.collections.PathCollection at 0x7f932efdb0d0>"
            ]
          },
          "metadata": {},
          "execution_count": 1280
        },
        {
          "output_type": "display_data",
          "data": {
            "image/png": "[encoded data removed]",
            "text/plain": [
              "<Figure size 432x288 with 1 Axes>"
            ]
          },
          "metadata": {
            "needs_background": "light"
          }
        }
      ]
    },
    {
      "cell_type": "markdown",
      "metadata": {
        "id": "EydYy-Zp-vjh"
      },
      "source": [
        "### Generating Clusters of Data"
      ]
    },
    {
      "cell_type": "code",
      "metadata": {
        "id": "dP1-w1dZ-mJh",
        "colab": {
          "base_uri": "https://localhost:8080/"
        },
        "outputId": "611ffa09-4860-4f77-812c-8ffc4200ac0d"
      },
      "source": [
        "# split the data for train clusters\n",
        "clusters_train = gmm.predict(Xn_train[:,ind])\n",
        "unique_train, counts_train = np.unique(clusters_train, return_counts=True)\n",
        "dict(zip(unique_train, counts_train))\n"
      ],
      "execution_count": 1281,
      "outputs": [
        {
          "output_type": "execute_result",
          "data": {
            "text/plain": [
              "{0: 264, 1: 302, 2: 76, 3: 666}"
            ]
          },
          "metadata": {},
          "execution_count": 1281
        }
      ]
    },
    {
      "cell_type": "code",
      "metadata": {
        "colab": {
          "base_uri": "https://localhost:8080/"
        },
        "id": "bzkXSWT4-7mS",
        "outputId": "1e04d334-cf48-4639-ae53-1c71bbe649d6"
      },
      "source": [
        "# split the data for validation clusters\n",
        "clusters_test = gmm.predict(Xn_val[:,ind])\n",
        "unique_test, counts_test = np.unique(clusters_test, return_counts=True)\n",
        "dict(zip(unique_test, counts_test))"
      ],
      "execution_count": 1282,
      "outputs": [
        {
          "output_type": "execute_result",
          "data": {
            "text/plain": [
              "{0: 57, 1: 83, 2: 20, 3: 167}"
            ]
          },
          "metadata": {},
          "execution_count": 1282
        }
      ]
    },
    {
      "cell_type": "code",
      "metadata": {
        "id": "Bl4-Ioxj_SXh"
      },
      "source": [
        "# cluster 0\n",
        "Xn0 = Xn_train[clusters_train==0,:]\n",
        "Xtestn0 = Xn_val[clusters_test==0,:]\n",
        "\n",
        "ylog0 = np.log(ys_train.astype('float')[clusters_train==0,:])\n",
        "yscaler0 = StandardScaler().fit(ylog0)\n",
        "yn0 = yscaler0.transform(ylog0)"
      ],
      "execution_count": 1283,
      "outputs": []
    },
    {
      "cell_type": "code",
      "metadata": {
        "id": "Eh7wGOKjEZ0S"
      },
      "source": [
        "# cluster 1\n",
        "Xn1 = Xn_train[clusters_train==1,:]\n",
        "Xtestn1 = Xn_val[clusters_test==1,:]\n",
        "\n",
        "ylog1 = np.log(ys_train.astype('float')[clusters_train==1,:])\n",
        "yscaler1 = StandardScaler().fit(ylog1)\n",
        "yn1 = yscaler1.transform(ylog1)"
      ],
      "execution_count": 1284,
      "outputs": []
    },
    {
      "cell_type": "code",
      "metadata": {
        "id": "7PCZzG7cEbya"
      },
      "source": [
        "# cluster 2\n",
        "Xn2 = Xn_train[clusters_train==2,:]\n",
        "Xtestn2 = Xn_val[clusters_test==2,:]\n",
        "ylog2 = np.log(ys_train.astype('float')[clusters_train==2,:])\n",
        "yscaler2 = StandardScaler().fit(ylog2)\n",
        "yn2 = yscaler2.transform(ylog2)\n"
      ],
      "execution_count": 1285,
      "outputs": []
    },
    {
      "cell_type": "code",
      "metadata": {
        "id": "ki-gA1moEdw6"
      },
      "source": [
        "# cluster 3\n",
        "Xn3 = Xn_train[clusters_train==3,:]\n",
        "Xtestn3 = Xn_val[clusters_test==3,:]\n",
        "ylog3 = np.log(ys_train.astype('float')[clusters_train==3,:])\n",
        "yscaler3 = StandardScaler().fit(ylog3)\n",
        "yn3 = yscaler3.transform(ylog3)"
      ],
      "execution_count": 1286,
      "outputs": []
    },
    {
      "cell_type": "markdown",
      "metadata": {
        "id": "fh7HZq4HEgii"
      },
      "source": [
        "## Piecewise Model\n",
        "Train a different model on each of the clusters individually"
      ]
    },
    {
      "cell_type": "code",
      "metadata": {
        "colab": {
          "base_uri": "https://localhost:8080/",
          "height": 54
        },
        "id": "TsvdRtSFEkey",
        "outputId": "69f0ad99-4afa-4054-dc06-7dd473d64f23"
      },
      "source": [
        "# model_0\n",
        "with pm.Model() as model_0:\n",
        "  # prior over the parameters of linear regression\n",
        "  alpha = pm.Normal('alpha', mu=0, sigma=30)\n",
        "  # we have a beta for each column of Xn0\n",
        "  beta = pm.Normal('beta', mu=0, sigma=30, shape=Xn0.shape[1])\n",
        "  # prior over the variance of the noise\n",
        "  sigma = pm.HalfCauchy('sigma_n', 5)\n",
        "  # linear regression relationship\n",
        "  #linear regression model in matrix form\n",
        "  mu = alpha + pm.math.dot(beta, Xn0.T)\n",
        "  # likelihood, be sure that observed is a 1d vector\n",
        "  like = pm.Normal('like', mu=mu, sigma=sigma, observed=yn0[:,0])\n",
        "\n",
        "with model_0:\n",
        "  # iterations of the algorithm\n",
        "  approximation = pm.fit(40000,method='advi')\n",
        "\n",
        "# samples from the posterior   \n",
        "posterior0 = approximation.sample(5000)"
      ],
      "execution_count": 1287,
      "outputs": [
        {
          "output_type": "display_data",
          "data": {
            "text/html": [
              "\n",
              "    <div>\n",
              "        <style>\n",
              "            /* Turns off some styling */\n",
              "            progress {\n",
              "                /* gets rid of default border in Firefox and Opera. */\n",
              "                border: none;\n",
              "                /* Needs to be in here for Safari polyfill so background images work as expected. */\n",
              "                background-size: auto;\n",
              "            }\n",
              "            .progress-bar-interrupted, .progress-bar-interrupted::-webkit-progress-bar {\n",
              "                background: #F44336;\n",
              "            }\n",
              "        </style>\n",
              "      <progress value='40000' class='' max='40000' style='width:300px; height:20px; vertical-align: middle;'></progress>\n",
              "      100.00% [40000/40000 00:03<00:00 Average Loss = 241.5]\n",
              "    </div>\n",
              "    "
            ],
            "text/plain": [
              "<IPython.core.display.HTML object>"
            ]
          },
          "metadata": {}
        },
        {
          "output_type": "stream",
          "name": "stderr",
          "text": [
            "Finished [100%]: Average Loss = 241.49\n"
          ]
        }
      ]
    },
    {
      "cell_type": "code",
      "metadata": {
        "colab": {
          "base_uri": "https://localhost:8080/",
          "height": 54
        },
        "id": "w14_jRnnEngD",
        "outputId": "6f7cbbc4-9fa2-4a98-d572-9d8f0e75fb74"
      },
      "source": [
        "# model_1\n",
        "with pm.Model() as model_1:\n",
        "  # prior over the parameters of linear regression\n",
        "  alpha = pm.Normal('alpha', mu=0, sigma=30)\n",
        "  # we have a beta for each column of Xn\n",
        "  beta = pm.Normal('beta', mu=0, sigma=30, shape=Xn1.shape[1])\n",
        "  # prior over the variance of the noise\n",
        "  sigma = pm.HalfCauchy('sigma_n', 5)\n",
        "  # linear regression relationship\n",
        "  #linear regression model in matrix form\n",
        "  mu = alpha + pm.math.dot(beta, Xn1.T)\n",
        "  # likelihood, # \n",
        "  like = pm.Normal('like', mu=mu, sigma=sigma, observed=yn1[:,0])\n",
        "  \n",
        "with model_1:\n",
        "  # iterations of the algorithm\n",
        "  approximation = pm.fit(40000,method='advi')\n",
        "\n",
        "# samples from the posterior    \n",
        "posterior1 = approximation.sample(5000)"
      ],
      "execution_count": 1288,
      "outputs": [
        {
          "output_type": "display_data",
          "data": {
            "text/html": [
              "\n",
              "    <div>\n",
              "        <style>\n",
              "            /* Turns off some styling */\n",
              "            progress {\n",
              "                /* gets rid of default border in Firefox and Opera. */\n",
              "                border: none;\n",
              "                /* Needs to be in here for Safari polyfill so background images work as expected. */\n",
              "                background-size: auto;\n",
              "            }\n",
              "            .progress-bar-interrupted, .progress-bar-interrupted::-webkit-progress-bar {\n",
              "                background: #F44336;\n",
              "            }\n",
              "        </style>\n",
              "      <progress value='40000' class='' max='40000' style='width:300px; height:20px; vertical-align: middle;'></progress>\n",
              "      100.00% [40000/40000 00:03<00:00 Average Loss = 350.9]\n",
              "    </div>\n",
              "    "
            ],
            "text/plain": [
              "<IPython.core.display.HTML object>"
            ]
          },
          "metadata": {}
        },
        {
          "output_type": "stream",
          "name": "stderr",
          "text": [
            "Finished [100%]: Average Loss = 350.89\n"
          ]
        }
      ]
    },
    {
      "cell_type": "code",
      "metadata": {
        "colab": {
          "base_uri": "https://localhost:8080/",
          "height": 54
        },
        "id": "mxgJPm13Eq4s",
        "outputId": "cbcf2b4f-490d-42f5-ebcc-a2924cd1e1dd"
      },
      "source": [
        "# model_2\n",
        "with pm.Model() as model_2:\n",
        "  # prior over the parameters of linear regression\n",
        "  alpha = pm.Normal('alpha', mu=0, sigma=30)\n",
        "  # we have a beta for each column of Xn\n",
        "  beta = pm.Normal('beta', mu=0, sigma=30, shape=Xn2.shape[1])\n",
        "  # prior over the variance of the noise\n",
        "  sigma = pm.HalfCauchy('sigma_n', 5)\n",
        "  # linear regression relationship\n",
        "  # linear regression model in matrix form\n",
        "  mu = alpha + pm.math.dot(beta, Xn2.T)\n",
        "  # likelihood, be sure that observed is a 1d vector\n",
        "  like = pm.Normal('like', mu=mu, sigma=sigma, observed=yn2[:,0])\n",
        "    \n",
        "with model_2:\n",
        "  # iterations of the algorithms\n",
        "  approximation = pm.fit(40000,method='advi')\n",
        "\n",
        "# samples from the posterior    \n",
        "posterior2 = approximation.sample(5000)"
      ],
      "execution_count": 1289,
      "outputs": [
        {
          "output_type": "display_data",
          "data": {
            "text/html": [
              "\n",
              "    <div>\n",
              "        <style>\n",
              "            /* Turns off some styling */\n",
              "            progress {\n",
              "                /* gets rid of default border in Firefox and Opera. */\n",
              "                border: none;\n",
              "                /* Needs to be in here for Safari polyfill so background images work as expected. */\n",
              "                background-size: auto;\n",
              "            }\n",
              "            .progress-bar-interrupted, .progress-bar-interrupted::-webkit-progress-bar {\n",
              "                background: #F44336;\n",
              "            }\n",
              "        </style>\n",
              "      <progress value='40000' class='' max='40000' style='width:300px; height:20px; vertical-align: middle;'></progress>\n",
              "      100.00% [40000/40000 00:03<00:00 Average Loss = 98.878]\n",
              "    </div>\n",
              "    "
            ],
            "text/plain": [
              "<IPython.core.display.HTML object>"
            ]
          },
          "metadata": {}
        },
        {
          "output_type": "stream",
          "name": "stderr",
          "text": [
            "Finished [100%]: Average Loss = 98.887\n"
          ]
        }
      ]
    },
    {
      "cell_type": "code",
      "metadata": {
        "colab": {
          "base_uri": "https://localhost:8080/",
          "height": 54
        },
        "id": "wX3MXbuQEs8s",
        "outputId": "2190b785-64c9-4f0b-e509-e6112afd4bc2"
      },
      "source": [
        "# model_3\n",
        "with pm.Model() as model3:\n",
        "  # prior over the parameters of linear regression\n",
        "  alpha = pm.Normal('alpha', mu=0, sigma=30)\n",
        "  # we have a beta for each column of Xn\n",
        "  beta = pm.Normal('beta', mu=0, sigma=30, shape=Xn3.shape[1])\n",
        "  # prior over the variance of the noise\n",
        "  sigma = pm.HalfCauchy('sigma_n', 5)\n",
        "  # linear regression relationship\n",
        "  mu = alpha + pm.math.dot(beta, Xn3.T)#linear regression model in matrix form\n",
        "  # likelihood, be sure that observed is a 1d vector\n",
        "  like = pm.Normal('like', mu=mu, sigma=sigma, observed=yn3[:,0])\n",
        "    \n",
        "with model3:\n",
        "  # number of iterations of the algorithms\n",
        "  approximation = pm.fit(40000,method='advi')\n",
        "\n",
        "# samples from the posterior     \n",
        "posterior3 = approximation.sample(5000)"
      ],
      "execution_count": 1290,
      "outputs": [
        {
          "output_type": "display_data",
          "data": {
            "text/html": [
              "\n",
              "    <div>\n",
              "        <style>\n",
              "            /* Turns off some styling */\n",
              "            progress {\n",
              "                /* gets rid of default border in Firefox and Opera. */\n",
              "                border: none;\n",
              "                /* Needs to be in here for Safari polyfill so background images work as expected. */\n",
              "                background-size: auto;\n",
              "            }\n",
              "            .progress-bar-interrupted, .progress-bar-interrupted::-webkit-progress-bar {\n",
              "                background: #F44336;\n",
              "            }\n",
              "        </style>\n",
              "      <progress value='40000' class='' max='40000' style='width:300px; height:20px; vertical-align: middle;'></progress>\n",
              "      100.00% [40000/40000 00:04<00:00 Average Loss = 647.26]\n",
              "    </div>\n",
              "    "
            ],
            "text/plain": [
              "<IPython.core.display.HTML object>"
            ]
          },
          "metadata": {}
        },
        {
          "output_type": "stream",
          "name": "stderr",
          "text": [
            "Finished [100%]: Average Loss = 647.24\n"
          ]
        }
      ]
    },
    {
      "cell_type": "markdown",
      "metadata": {
        "id": "GTfI7k9iEw1Z"
      },
      "source": [
        "## Simulations\n",
        "We review how the predicted values from the model compare with the true values using posterior predictive checks"
      ]
    },
    {
      "cell_type": "code",
      "metadata": {
        "id": "KVsOgo59FEmC"
      },
      "source": [
        "# Posterior predictive checks (PPCs)\n",
        "def ppc(alpha,beta,sigma, X,  nsamples=500):\n",
        "    #we select nsamples random samples from the posterior\n",
        "    ind = np.random.randint(0,beta.shape[0],size=nsamples)\n",
        "    alphai = alpha[ind]\n",
        "    betai = beta[ind,:]\n",
        "    sigmai = sigma[ind]\n",
        "\n",
        "    Ypred = np.zeros((nsamples,X.shape[0]))\n",
        "    for i in range(X.shape[0]):\n",
        "        #we generate data from linear model\n",
        "        y_pred = alphai + np.dot(betai, X[i:i+1,:].T).T +np.random.randn(len(sigmai))*sigmai\n",
        "        Ypred[:,i]=y_pred[0,:]\n",
        "    return Ypred\n",
        "\n"
      ],
      "execution_count": 1291,
      "outputs": []
    },
    {
      "cell_type": "code",
      "metadata": {
        "colab": {
          "base_uri": "https://localhost:8080/",
          "height": 287
        },
        "id": "TGkwkFzqE1WC",
        "outputId": "9ffeb7ec-6978-4fa6-bb73-dfa856a1937f"
      },
      "source": [
        "#Simulation CLuster 0\n",
        "Ypred0 = yscaler0.inverse_transform(ppc(posterior0['alpha'],posterior0['beta'],posterior0['sigma_n'],Xn0,  nsamples=200))\n",
        "for i in range(Ypred0.shape[0]):\n",
        "    az.plot_dist( Ypred0[i,:],color='r',plot_kwargs={\"linewidth\": 0.2})\n",
        "az.plot_dist(Ypred0[i,:],color='r',plot_kwargs={\"linewidth\": 0.2}, label=\"prediction\")\n",
        "#plt.plot(np.linspace(-8,8,100),norm.pdf(np.linspace(-8,8,100),df=np.mean(posterior_1['nu'])))\n",
        "#plt.xlim([0,10e7])\n",
        "az.plot_dist(ylog0,label='true observations');\n",
        "plt.legend()\n",
        "plt.xlabel(\"log(y) - output variable\")\n",
        "plt.ylabel(\"density plot\");"
      ],
      "execution_count": 1292,
      "outputs": [
        {
          "output_type": "display_data",
          "data": {
            "image/png": "[encoded data removed]",
            "text/plain": [
              "<Figure size 432x288 with 1 Axes>"
            ]
          },
          "metadata": {
            "needs_background": "light"
          }
        }
      ]
    },
    {
      "cell_type": "code",
      "metadata": {
        "colab": {
          "base_uri": "https://localhost:8080/",
          "height": 283
        },
        "id": "S7iqkGYJFLWy",
        "outputId": "d43393f6-479e-4848-aa2a-f25105feb03a"
      },
      "source": [
        "#Simulation Cluster 1\n",
        "#Simulation\n",
        "Ypred1 = yscaler1.inverse_transform(ppc(posterior1['alpha'],posterior1['beta'],posterior1['sigma_n'],Xn1,  nsamples=200))\n",
        "for i in range(Ypred1.shape[0]):\n",
        "    az.plot_dist( Ypred1[i,:],color='r',plot_kwargs={\"linewidth\": 0.2})\n",
        "az.plot_dist(Ypred1[i,:],color='r',plot_kwargs={\"linewidth\": 0.2}, label=\"prediction\")\n",
        "#plt.plot(np.linspace(-8,8,100),norm.pdf(np.linspace(-8,8,100),df=np.mean(posterior_1['nu'])))\n",
        "#plt.xlim([0,10e7])\n",
        "az.plot_dist(ylog1,label='true observations');\n",
        "plt.legend()\n",
        "plt.xlabel(\"log(y) - output variable\")\n",
        "plt.ylabel(\"density plot\");"
      ],
      "execution_count": 1293,
      "outputs": [
        {
          "output_type": "display_data",
          "data": {
            "image/png": "[encoded data removed]",
            "text/plain": [
              "<Figure size 432x288 with 1 Axes>"
            ]
          },
          "metadata": {
            "needs_background": "light"
          }
        }
      ]
    },
    {
      "cell_type": "code",
      "metadata": {
        "colab": {
          "base_uri": "https://localhost:8080/",
          "height": 283
        },
        "id": "pa_fy8QyFQQ6",
        "outputId": "68c970b9-67ec-47c4-dc28-9ff609fcaada"
      },
      "source": [
        "#Simulation Cluster 2\n",
        "Ypred2 = yscaler2.inverse_transform(ppc(posterior2['alpha'],posterior2['beta'],posterior2['sigma_n'],Xn2,  nsamples=200))\n",
        "for i in range(Ypred2.shape[0]):\n",
        "    az.plot_dist( Ypred2[i,:],color='r',plot_kwargs={\"linewidth\": 0.2})\n",
        "az.plot_dist(Ypred2[i,:],color='r',plot_kwargs={\"linewidth\": 0.2}, label=\"prediction\")\n",
        "#plt.plot(np.linspace(-8,8,100),norm.pdf(np.linspace(-8,8,100),df=np.mean(posterior_1['nu'])))\n",
        "#plt.xlim([0,10e7])\n",
        "az.plot_dist(ylog2,label='true observations');\n",
        "plt.legend()\n",
        "plt.xlabel(\"log(y) - output variable\")\n",
        "plt.ylabel(\"density plot\");"
      ],
      "execution_count": 1294,
      "outputs": [
        {
          "output_type": "display_data",
          "data": {
            "image/png": "[encoded data removed]",
            "text/plain": [
              "<Figure size 432x288 with 1 Axes>"
            ]
          },
          "metadata": {
            "needs_background": "light"
          }
        }
      ]
    },
    {
      "cell_type": "code",
      "metadata": {
        "colab": {
          "base_uri": "https://localhost:8080/",
          "height": 283
        },
        "id": "aoIFkgOoHUjK",
        "outputId": "bbabf28a-4479-4823-e08e-51170aedcc3e"
      },
      "source": [
        "#Simulation\n",
        "Ypred3 = yscaler3.inverse_transform(ppc(posterior3['alpha'],posterior3['beta'],posterior3['sigma_n'],Xn3,  nsamples=200))\n",
        "for i in range(Ypred3.shape[0]):\n",
        "    az.plot_dist( Ypred3[i,:],color='r',plot_kwargs={\"linewidth\": 0.2})\n",
        "az.plot_dist(Ypred3[i,:],color='r',plot_kwargs={\"linewidth\": 0.2}, label=\"prediction\")\n",
        "#plt.plot(np.linspace(-8,8,100),norm.pdf(np.linspace(-8,8,100),df=np.mean(posterior_1['nu'])))\n",
        "#plt.xlim([0,10e7])\n",
        "az.plot_dist(ylog3,label='true observations');\n",
        "plt.legend()\n",
        "plt.xlabel(\"log(y) - output variable\")\n",
        "plt.ylabel(\"density plot\");"
      ],
      "execution_count": 1295,
      "outputs": [
        {
          "output_type": "display_data",
          "data": {
            "image/png": "[encoded data removed]",
            "text/plain": [
              "<Figure size 432x288 with 1 Axes>"
            ]
          },
          "metadata": {
            "needs_background": "light"
          }
        }
      ]
    },
    {
      "cell_type": "code",
      "metadata": {
        "colab": {
          "base_uri": "https://localhost:8080/",
          "height": 283
        },
        "id": "6aRNUKAEFYQJ",
        "outputId": "0c6567c1-129a-422f-85ef-3b747f9cf93f"
      },
      "source": [
        "#Simulation on all clusters combined\n",
        "# posteriors\n",
        "Ypred0 = ppc(posterior0['alpha'],posterior0['beta'],posterior0['sigma_n'],Xn0,  nsamples=200)\n",
        "Ypred1 = ppc(posterior1['alpha'],posterior1['beta'],posterior1['sigma_n'],Xn1,  nsamples=200)\n",
        "Ypred2 = ppc(posterior2['alpha'],posterior2['beta'],posterior2['sigma_n'],Xn2,  nsamples=200)\n",
        "Ypred3 = ppc(posterior3['alpha'],posterior3['beta'],posterior3['sigma_n'],Xn3,  nsamples=200)\n",
        "\n",
        "# simulation\n",
        "Ypred = np.hstack([ yscaler0.inverse_transform(Ypred0),\n",
        "                 yscaler1.inverse_transform(Ypred1),\n",
        "                 yscaler2.inverse_transform(Ypred2),\n",
        "                 yscaler3.inverse_transform(Ypred3)])\n",
        "\n",
        "# prediction\n",
        "for i in range(Ypred.shape[0]):\n",
        "    az.plot_dist( Ypred[i,:],color='r',plot_kwargs={\"linewidth\": 0.2})\n",
        "\n",
        "# plot\n",
        "az.plot_dist(Ypred[i,:],color='r',plot_kwargs={\"linewidth\": 0.2}, label=\"prediction\")\n",
        "ylog=np.vstack([ylog0,ylog1,ylog2,ylog3,ylog3])\n",
        "az.plot_dist(ylog,label='true observations');\n",
        "plt.legend()\n",
        "plt.xlabel(\"log(y) - output variable\")\n",
        "plt.ylabel(\"density plot\");"
      ],
      "execution_count": 1296,
      "outputs": [
        {
          "output_type": "display_data",
          "data": {
            "image/png": "[encoded data removed]",
            "text/plain": [
              "<Figure size 432x288 with 1 Axes>"
            ]
          },
          "metadata": {
            "needs_background": "light"
          }
        }
      ]
    },
    {
      "cell_type": "markdown",
      "metadata": {
        "id": "bvllwEUpF0iC"
      },
      "source": [
        "### Evaluate Performance on Validation Dataset"
      ]
    },
    {
      "cell_type": "code",
      "metadata": {
        "colab": {
          "base_uri": "https://localhost:8080/"
        },
        "id": "Hi_Udzx3Fz1j",
        "outputId": "a1a61971-c2e4-424b-ad16-b6ca25c54ecd"
      },
      "source": [
        "# cluster 0\n",
        "y_pred_BLR0 = np.exp(yscaler0.inverse_transform(np.mean(posterior0['alpha']) \n",
        "              + np.dot(np.mean(posterior0['beta'],axis=0), Xtestn0.T)))\n",
        "print(\"Size Cluster0\", np.sum(clusters_test==0), \", \\nMAE Cluster0=\",\n",
        "      (np.mean(abs(y_pred_BLR0 - yn_val[clusters_test==0]))))\n",
        "print(\"MAPE = \",(np.mean(abs(y_pred_BLR0 - yn_val[clusters_test==0]) /yn_val[clusters_test==0])))\n",
        "\n",
        "# cluster 1\n",
        "y_pred_BLR1 = np.exp(yscaler1.inverse_transform(np.mean(posterior1['alpha']) \n",
        "              + np.dot(np.mean(posterior1['beta'],axis=0), Xtestn1.T)))\n",
        "print(\"Size Cluster1\", np.sum(clusters_test==1), \", MAE Cluster1=\",\n",
        "      (np.mean(abs(y_pred_BLR1 - yn_val[clusters_test==1]))))\n",
        "print(\"MAPE = \",(np.mean(abs(y_pred_BLR1 - yn_val[clusters_test==1]) /yn_val[clusters_test==1])))\n",
        "\n",
        "# cluster 2\n",
        "y_pred_BLR2 = np.exp(yscaler2.inverse_transform(np.mean(posterior2['alpha']) \n",
        "              + np.dot(np.mean(posterior2['beta'],axis=0), Xtestn2.T)))\n",
        "print(\"Size Cluster2\", np.sum(clusters_test==2), \", MAE Cluster2=\",\n",
        "      (np.mean(abs(y_pred_BLR2 - yn_val[clusters_test==2]))))\n",
        "print(\"MAPE = \",(np.mean(abs(y_pred_BLR2 - yn_val[clusters_test==2]) /yn_val[clusters_test==2])))\n",
        "\n",
        "# cluster 3\n",
        "y_pred_BLR3 = np.exp(yscaler3.inverse_transform(np.mean(posterior3['alpha']) \n",
        "              + np.dot(np.mean(posterior3['beta'],axis=0), Xtestn3.T)))\n",
        "print(\"Size Cluster3\", np.sum(clusters_test==3), \", MAE Cluster3=\",\n",
        "      (np.mean(abs(y_pred_BLR3 - yn_val[clusters_test==3]))))\n",
        "print(\"MAPE = \",(np.mean(abs(y_pred_BLR3 - yn_val[clusters_test==3]) /yn_val[clusters_test==3])))\n",
        "\n",
        "# joint\n",
        "joint=np.hstack([abs(y_pred_BLR0 - yn_val[clusters_test==0]),\n",
        "                 abs(y_pred_BLR1 - yn_val[clusters_test==1]),\n",
        "                 abs(y_pred_BLR2 - yn_val[clusters_test==2]),\n",
        "                 abs(y_pred_BLR3 - yn_val[clusters_test==3])])\n",
        "\n",
        "joint_mape = np.mean(np.hstack([\n",
        "                        abs(y_pred_BLR0 - yn_val[clusters_test==0]) /yn_val[clusters_test==0],\n",
        "                        abs(y_pred_BLR1 - yn_val[clusters_test==1]) /yn_val[clusters_test==1],\n",
        "                        abs(y_pred_BLR2 - yn_val[clusters_test==2]) /yn_val[clusters_test==2],\n",
        "                        abs(y_pred_BLR3 - yn_val[clusters_test==3]) /yn_val[clusters_test==3]\n",
        "                       ]))\n",
        "\n",
        "# MAE\n",
        "print(\"Overall MAE=\",np.mean(joint))\n",
        "print(\"Overall MAPE = \", joint_mape)"
      ],
      "execution_count": 1297,
      "outputs": [
        {
          "output_type": "stream",
          "name": "stdout",
          "text": [
            "Size Cluster0 57 , \n",
            "MAE Cluster0= 49638.39574180523\n",
            "MAPE =  0.14443257111135308\n",
            "Size Cluster1 83 , MAE Cluster1= 252536.15505256862\n",
            "MAPE =  0.20636393762784816\n",
            "Size Cluster2 20 , MAE Cluster2= 44939.14041904936\n",
            "MAPE =  0.1435428696640806\n",
            "Size Cluster3 167 , MAE Cluster3= 112707.88581082484\n",
            "MAPE =  0.23220748698148894\n",
            "Overall MAE= 133060.82313588634\n",
            "Overall MAPE =  0.20492468224969046\n"
          ]
        }
      ]
    },
    {
      "cell_type": "markdown",
      "metadata": {
        "id": "_kFgkUA85_pn"
      },
      "source": [
        "# BAYESIAN NN"
      ]
    },
    {
      "cell_type": "markdown",
      "metadata": {
        "id": "ELer5PV37ftX"
      },
      "source": [
        "A [Bayesian network](https://en.wikipedia.org/wiki/Bayesian_network) (also known as a Bayes network, Bayes net, belief network, or decision network) is a probabilistic graphical model that represents a set of variables and their conditional dependencies via a directed acyclic graph (DAG). \n",
        "\n",
        "* Bayesian networks are ideal for taking an event that occurred and predicting the likelihood that any one of several possible known causes was the contributing factor. \n",
        "* For example, a Bayesian network could represent the probabilistic relationships between diseases and symptoms. \n",
        "* Given symptoms, the network can be used to compute the probabilities of the presence of various diseases."
      ]
    },
    {
      "cell_type": "markdown",
      "metadata": {
        "id": "z0kauv1L5_po"
      },
      "source": [
        "Your comments, explanation, and references here."
      ]
    },
    {
      "cell_type": "markdown",
      "metadata": {
        "id": "Vb8JR4C7Dk1X"
      },
      "source": [
        "Reference Document:\n",
        "\n",
        "https://pymc3-testing.readthedocs.io/en/rtd-docs/notebooks/bayesian_neural_network_opvi-advi.html"
      ]
    },
    {
      "cell_type": "code",
      "metadata": {
        "id": "0smpwCET5_pp"
      },
      "source": [
        "# https://theano-pymc.readthedocs.io/en/latest/\n",
        "import theano\n",
        "\n",
        "# add a column of ones to include an intercept in the model\n",
        "x1 = np.hstack([np.ones((Xn_train.shape[0],1)), Xn_train])\n",
        "floatX = theano.config.floatX\n",
        "\n",
        "l = 25\n",
        "# Initialize random weights between each layer\n",
        "# we do that to help the numerical algorithm that computes the posterior\n",
        "init_1 = np.random.randn(x1.shape[1], l).astype(floatX)\n",
        "init_out = np.random.randn(l).astype(floatX)\n",
        "\n",
        "# pymc3 model as neural_network\n",
        "with pm.Model() as neural_network:\n",
        "    # we convert the data in theano type so we can do dot products with the correct type.\n",
        "    ann_input = pm.Data('ann_input', x1)\n",
        "    ann_output = pm.Data('ann_output', yn_train)\n",
        "    # Priors \n",
        "    # Weights from input to hidden layer\n",
        "    weights_in_1 = pm.Normal('w_1', 0, sigma=1,\n",
        "                             shape=(x1.shape[1], l), testval=init_1)\n",
        "    # Weights from hidden layer to output\n",
        "    weights_2_out = pm.Normal('w_0', 0, sigma=1,\n",
        "                              shape=(l,),testval=init_out)\n",
        "\n",
        "    # Build neural-network using tanh activation function\n",
        "    # Inner layer\n",
        "    act_1 = pm.math.tanh(pm.math.dot(ann_input,weights_in_1))\n",
        "    # Linear layer, like in Linear regression\n",
        "    act_out = pm.Deterministic('act_out',pm.math.dot(act_1, weights_2_out))\n",
        "\n",
        "    # standard deviation of noise\n",
        "    sigma = pm.HalfCauchy('sigma',5)\n",
        "\n",
        "    # Normal likelihood\n",
        "    out = pm.Normal('out',\n",
        "                       act_out,\n",
        "                       sigma=sigma,\n",
        "                       observed=ann_output[:,0])"
      ],
      "execution_count": 1298,
      "outputs": []
    },
    {
      "cell_type": "code",
      "metadata": {
        "id": "SQYaskqj218r"
      },
      "source": [
        "# this can be slow because there are many parameters\n",
        "\n",
        "# some parameters\n",
        "par1 = 25  # start with 100, then use 1000+\n",
        "par2 = 250 # start with 1000, then use 10000+\n",
        "\n",
        "# neural network\n",
        "#with neural_network:\n",
        "#    posterior = pm.sample(par1,tune=par2,chains=1)"
      ],
      "execution_count": 1299,
      "outputs": []
    },
    {
      "cell_type": "code",
      "metadata": {
        "colab": {
          "base_uri": "https://localhost:8080/",
          "height": 54
        },
        "id": "YjRL4-o_IK2W",
        "outputId": "4b41ee57-8bca-49c6-d28b-25a14b1568c4"
      },
      "source": [
        "# we can do instead an approximated inference\n",
        "param3 = 10000 # start with 1000, then use 50000+\n",
        "VI = 'advi'  # 'advi', 'fullrank_advi', 'svgd', 'asvgd', 'nfvi'\n",
        "OP = pm.sgd # pm.adam, pm.sgd, pm.adagrad, pm.adagrad_window, pm.adadelta\n",
        "LR = 0.1    \n",
        "\n",
        "with neural_network:\n",
        "    approx = pm.fit(param3, method=VI, obj_optimizer=pm.adam(learning_rate=LR))"
      ],
      "execution_count": 1300,
      "outputs": [
        {
          "output_type": "display_data",
          "data": {
            "text/html": [
              "\n",
              "    <div>\n",
              "        <style>\n",
              "            /* Turns off some styling */\n",
              "            progress {\n",
              "                /* gets rid of default border in Firefox and Opera. */\n",
              "                border: none;\n",
              "                /* Needs to be in here for Safari polyfill so background images work as expected. */\n",
              "                background-size: auto;\n",
              "            }\n",
              "            .progress-bar-interrupted, .progress-bar-interrupted::-webkit-progress-bar {\n",
              "                background: #F44336;\n",
              "            }\n",
              "        </style>\n",
              "      <progress value='10000' class='' max='10000' style='width:300px; height:20px; vertical-align: middle;'></progress>\n",
              "      100.00% [10000/10000 00:23<00:00 Average Loss = 1,244.9]\n",
              "    </div>\n",
              "    "
            ],
            "text/plain": [
              "<IPython.core.display.HTML object>"
            ]
          },
          "metadata": {}
        },
        {
          "output_type": "stream",
          "name": "stderr",
          "text": [
            "Finished [100%]: Average Loss = 1,244.1\n"
          ]
        }
      ]
    },
    {
      "cell_type": "code",
      "metadata": {
        "colab": {
          "base_uri": "https://localhost:8080/",
          "height": 278
        },
        "id": "aFoDHlJiIY49",
        "outputId": "41c7328a-2c0d-407a-dae7-04d8d3dbe016"
      },
      "source": [
        "# plot \n",
        "pb.plot(approx.hist, label='Variational Inference: '+ VI.upper(), alpha=.3)\n",
        "pb.legend(loc='upper right')\n",
        "# Evidence Lower Bound (ELBO)\n",
        "# https://en.wikipedia.org/wiki/Evidence_lower_bound\n",
        "pb.ylabel('ELBO')\n",
        "pb.xlabel('iteration');"
      ],
      "execution_count": 1301,
      "outputs": [
        {
          "output_type": "display_data",
          "data": {
            "image/png": "[encoded data removed]",
            "text/plain": [
              "<Figure size 432x288 with 1 Axes>"
            ]
          },
          "metadata": {
            "needs_background": "light"
          }
        }
      ]
    },
    {
      "cell_type": "code",
      "metadata": {
        "id": "5KwDHgvCIdkV"
      },
      "source": [
        "# draw samples from variational posterior\n",
        "D = 300\n",
        "posterior = approx.sample(draws=D)"
      ],
      "execution_count": 1302,
      "outputs": []
    },
    {
      "cell_type": "markdown",
      "metadata": {
        "id": "2QFbeIJSmCD5"
      },
      "source": [
        "###Evaluate model on validation data set"
      ]
    },
    {
      "cell_type": "code",
      "metadata": {
        "id": "uoz5qh-WIjGk"
      },
      "source": [
        "# add a column of ones to include an intercept in the model\n",
        "x2 = np.hstack([np.ones((Xn_val.shape[0],1)), Xn_val])\n",
        "\n",
        "y_val_pred = []\n",
        "for i in range(posterior['w_1'].shape[0]):\n",
        "    #inner layer\n",
        "    t1 = np.tanh(np.dot(posterior['w_1'][i,:,:].T,x2.T))\n",
        "    #outer layer\n",
        "    y_val_pred.append(np.dot(posterior['w_0'][i,:],t1))\n",
        "\n",
        "# predictions   \n",
        "y_val_pred = np.array(y_val_pred).mean(axis=0)"
      ],
      "execution_count": 1303,
      "outputs": []
    },
    {
      "cell_type": "code",
      "metadata": {
        "id": "5dqsuaw7JMAc"
      },
      "source": [
        "#We need to do the inverse transformation and scaling that was carried out on the y values at the start\n",
        "y_val_pred_final = np.exp(yscaler.inverse_transform(y_val_pred))"
      ],
      "execution_count": 1304,
      "outputs": []
    },
    {
      "cell_type": "code",
      "metadata": {
        "colab": {
          "base_uri": "https://localhost:8080/"
        },
        "id": "S23VXAyb4QEE",
        "outputId": "f0fc1c5e-1829-4c57-ccbb-73a52f2ec755"
      },
      "source": [
        "print(\"MAE = \",(np.mean(abs(y_val_pred_final - yn_val))))\n",
        "print(\"MAPE = \",(np.mean(abs(y_val_pred_final - yn_val) / yn_val)))"
      ],
      "execution_count": 1305,
      "outputs": [
        {
          "output_type": "stream",
          "name": "stdout",
          "text": [
            "MAE =  146408.2959518572\n",
            "MAPE =  0.2523492947084223\n"
          ]
        }
      ]
    },
    {
      "cell_type": "markdown",
      "metadata": {
        "id": "SE2AIf3Ml5t4"
      },
      "source": [
        "###Predict new y values for test data"
      ]
    },
    {
      "cell_type": "code",
      "metadata": {
        "id": "r9kMRTgGl1PB"
      },
      "source": [
        "# add a column of ones to include an intercept in the model\n",
        "x2 = np.hstack([np.ones((Xn_test.shape[0],1)), Xn_test])\n",
        "\n",
        "y_pred = []\n",
        "for i in range(posterior['w_1'].shape[0]):\n",
        "    #inner layer\n",
        "    t1 = np.tanh(np.dot(posterior['w_1'][i,:,:].T,x2.T))\n",
        "    #outer layer\n",
        "    y_pred.append(np.dot(posterior['w_0'][i,:],t1))\n",
        "\n",
        "# predictions   \n",
        "y_pred = np.array(y_pred).mean(axis=0)"
      ],
      "execution_count": 1306,
      "outputs": []
    },
    {
      "cell_type": "code",
      "metadata": {
        "id": "jWXHRYuizdHi"
      },
      "source": [
        "y_pred_final = np.exp(yscaler.inverse_transform(y_pred))\n",
        "\n",
        "#print(y_pred_final)"
      ],
      "execution_count": 1307,
      "outputs": []
    },
    {
      "cell_type": "code",
      "metadata": {
        "id": "bsbtMJT5qhRI"
      },
      "source": [
        "df = pd.DataFrame({\"Index\" :  dftest.iloc[:,0].values , \"Price\" : y_pred_final})\n",
        "date = datetime.now().strftime(\"%Y_%m_%d-%I:%M:%S_%p\")\n",
        "df.to_csv(f\"House Price Prediction_{date}.csv\", index=False)"
      ],
      "execution_count": 1308,
      "outputs": []
    },
    {
      "cell_type": "code",
      "metadata": {
        "id": "7WFTUjE-zhtp"
      },
      "source": [
        "#Not possible to calculate the MAE/MAPE on the test data as we do not have the true values\n",
        "#y_test = df_subset_cost.Expected.values\n",
        "#print(\"MAE = \",(np.mean(abs(y_pred_final - y_test))))\n",
        "#print(\"MAPE = \",(np.mean(abs(y_pred_final - y_test) / y_test)))"
      ],
      "execution_count": 1309,
      "outputs": []
    },
    {
      "cell_type": "markdown",
      "metadata": {
        "id": "f0GYCpwEM09T"
      },
      "source": [
        "# SUMMARY"
      ]
    },
    {
      "cell_type": "markdown",
      "metadata": {
        "id": "rBDzsZSJ7HZp"
      },
      "source": [
        "Your summary here."
      ]
    }
  ]
}