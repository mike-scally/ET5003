{
  "nbformat": 4,
  "nbformat_minor": 0,
  "metadata": {
    "colab": {
      "name": "Etivity_1_MikeScally_9312951-New.ipynb",
      "provenance": [],
      "collapsed_sections": [
        "nMRKRTQZe5fW"
      ]
    },
    "kernelspec": {
      "name": "python3",
      "display_name": "Python 3"
    },
    "language_info": {
      "name": "python"
    }
  },
  "cells": [
    {
      "cell_type": "markdown",
      "metadata": {
        "id": "jxK1_8f1dvrc"
      },
      "source": [
        "<div>\n",
        "<img src=\"https://drive.google.com/uc?export=view&id=1vK33e_EqaHgBHcbRV_m38hx6IkG0blK_\" width=\"350\"/>\n",
        "</div> \n",
        "\n",
        "#**Artificial Intelligence - MSc**\n",
        "ET5003 - MACHINE LEARNING APPLICATIONS \n",
        "\n",
        "###Instructor: Enrique Naredo\n",
        "###ET5003_Etivity-1"
      ]
    },
    {
      "cell_type": "code",
      "metadata": {
        "id": "LqXD_IwUQuBF",
        "cellView": "form"
      },
      "source": [
        "#@title Current Date\n",
        "Today = '2021-09-15' #@param {type:\"date\"}\n"
      ],
      "execution_count": 8,
      "outputs": []
    },
    {
      "cell_type": "code",
      "metadata": {
        "id": "uzDKau31OjVO",
        "cellView": "form"
      },
      "source": [
        "#@markdown ---\n",
        "#@markdown ### Enter your details here:\n",
        "Student_ID = \"9312951\" #@param {type:\"string\"}\n",
        "Student_full_name = \"Michael Scally\" #@param {type:\"string\"}\n",
        "#@markdown ---"
      ],
      "execution_count": 9,
      "outputs": []
    },
    {
      "cell_type": "code",
      "metadata": {
        "id": "r39xGZckTpKx",
        "cellView": "form"
      },
      "source": [
        "#@title Notebook information\n",
        "Notebook_type = 'Etivity' #@param [\"Example\", \"Lab\", \"Practice\", \"Etivity\", \"Assignment\", \"Exam\"]\n",
        "Version = 'Final' #@param [\"Draft\", \"Final\"] {type:\"raw\"}\n",
        "Submission = True #@param {type:\"boolean\"}"
      ],
      "execution_count": null,
      "outputs": []
    },
    {
      "cell_type": "markdown",
      "metadata": {
        "id": "jBeR1BnwOEpd"
      },
      "source": [
        "### Resources Used\n",
        "https://www.youtube.com/watch?v=M-kBB2I4QlE&ab_channel=Montreal-Python\n",
        "\n",
        "https://medium.com/@jdwittenauer/an-intro-to-probablistic-programming-de28cec81baf\n",
        "\n",
        "https://www.youtube.com/watch?v=W-lqgS4IdaA&ab_channel=PeadarCoyle\n",
        "\n",
        "http://inverseprobability.com/talks/notes/probabilistic-machine-learning.html"
      ]
    },
    {
      "cell_type": "markdown",
      "metadata": {
        "id": "80m304lUefG4"
      },
      "source": [
        "## MNIST dataset"
      ]
    },
    {
      "cell_type": "markdown",
      "metadata": {
        "id": "Bs8mHGcidHSa"
      },
      "source": [
        "\n",
        "\n",
        "The MNIST database  is a dataset of handwritten digits that has been and is extensively used in machine learning. There are $10$ classes, each image is $28\\times28$ pixels and, therefore, each input is $x_i\\in\\mathbb{R}^{784}$. "
      ]
    },
    {
      "cell_type": "markdown",
      "metadata": {
        "id": "ailycCq5epj2"
      },
      "source": [
        "## Task"
      ]
    },
    {
      "cell_type": "markdown",
      "metadata": {
        "id": "a-yNAxhUemjM"
      },
      "source": [
        "You have to extend the code to manage any arbitrary number of classes, in other words you have to implement a general-recipe multinomial logistic classifier and Bayesian multinomial logistic classifier.\n",
        "\n",
        "You must then select  3 digits at random and perform  the following task. \n",
        "\n",
        "1. Your goal is to use Bayesian multinomial logistic regression (as in the road-sign notebook) to solve this classification problem. \n",
        "\n",
        "2. You can downsize the training dataset (e.g., 40% training and 60%testing) if the computation of the posterior takes too much time in your computer.\n",
        "\n",
        "3. Use the posterior uncertainty to detect the instances (digits) in the test set that are hard to classify and remove them from the test-set.\n",
        "\n",
        "4. Then you need to compute again the accuracy of the general-recipe logistic regression on the remaining (non-difficult) instances and comment on the result.\n",
        "\n",
        "5. In practice, the task is to use uncertainty estimation to detect the difficult instances in the test-set. This is equivalent to refuse to classify all high-uncertainty instances or, in other words, when we are uncertain we say \"I don't know\" and we do not return any class. In this way, you will learn how uncertainty can be used to make safer decisions, by detecting the instances that are difficult to classify.\n"
      ]
    },
    {
      "cell_type": "markdown",
      "metadata": {
        "id": "nMRKRTQZe5fW"
      },
      "source": [
        "## Libraries"
      ]
    },
    {
      "cell_type": "code",
      "metadata": {
        "id": "IxusAui7AX_f"
      },
      "source": [
        "# Suppressing Warnings:\n",
        "import warnings\n",
        "warnings.filterwarnings(\"ignore\")"
      ],
      "execution_count": 10,
      "outputs": []
    },
    {
      "cell_type": "code",
      "metadata": {
        "id": "MQOfGMQpdHSb"
      },
      "source": [
        "# Import libraries\n",
        "from sklearn.linear_model import LogisticRegression\n",
        "from sklearn.metrics import accuracy_score\n",
        "from sklearn.model_selection import train_test_split\n",
        "import scipy.optimize as optimize\n",
        "from scipy.special import erf\n",
        "import pandas as pd\n",
        "import numpy as np\n",
        "import seaborn as sns\n",
        "from tqdm import tqdm\n",
        "from skimage.io import imread, imshow\n",
        "import matplotlib.image as mpimg\n",
        "import matplotlib.pyplot as plt\n",
        "import matplotlib\n",
        "%matplotlib inline\n",
        "import arviz as az\n",
        "from scipy.io import loadmat\n",
        "import pymc3 as pm\n",
        "import random\n",
        "from IPython.display import HTML\n",
        "import pickle\n",
        "import theano as tt\n",
        "import cv2\n",
        "from sklearn.utils import shuffle\n",
        "from skimage.color import rgb2gray"
      ],
      "execution_count": 11,
      "outputs": []
    },
    {
      "cell_type": "code",
      "metadata": {
        "id": "P5-qMSjpAQ-9"
      },
      "source": [
        "# Setting a seed:\n",
        "np.random.seed(123)"
      ],
      "execution_count": 12,
      "outputs": []
    },
    {
      "cell_type": "markdown",
      "metadata": {
        "id": "r4hSuwkUfVQb"
      },
      "source": [
        "## Dataset"
      ]
    },
    {
      "cell_type": "markdown",
      "metadata": {
        "id": "w99Pc66YdHSd"
      },
      "source": [
        "### Loading the MNIST dataset"
      ]
    },
    {
      "cell_type": "code",
      "metadata": {
        "colab": {
          "base_uri": "https://localhost:8080/"
        },
        "id": "CYFWAbXVzynp",
        "outputId": "1112c508-c447-48f9-a656-5c5c6bf1b859"
      },
      "source": [
        "from google.colab import drive\n",
        "drive.mount('/content/drive')"
      ],
      "execution_count": 13,
      "outputs": [
        {
          "output_type": "stream",
          "name": "stdout",
          "text": [
            "Mounted at /content/drive\n"
          ]
        }
      ]
    },
    {
      "cell_type": "code",
      "metadata": {
        "colab": {
          "base_uri": "https://localhost:8080/"
        },
        "id": "g4rCnS4vdHSd",
        "outputId": "dca077ee-1f0c-4972-d0c4-897d5925afc9"
      },
      "source": [
        "# Path, copy the path from your Drive\n",
        "Path = '/content/drive/My Drive/Colab Notebooks/data/mnist-data/'\n",
        "\n",
        "# MNIST Data\n",
        "train_data = Path + 'mnist_train.csv'\n",
        "test_data = Path + 'mnist_test.csv'\n",
        "\n",
        "# train data\n",
        "df_train = pd.read_csv(train_data)\n",
        "X_train = df_train.drop(\"label\",axis=1).values\n",
        "y_train = df_train.label.values\n",
        "print(X_train.shape)\n",
        "\n",
        "# test data\n",
        "df_test = pd.read_csv(test_data)\n",
        "X_test = df_test.drop(\"label\",axis=1).values\n",
        "y_test = df_test.label.values\n",
        "print(X_test.shape)"
      ],
      "execution_count": 14,
      "outputs": [
        {
          "output_type": "stream",
          "name": "stdout",
          "text": [
            "(60000, 784)\n",
            "(10000, 784)\n"
          ]
        }
      ]
    },
    {
      "cell_type": "markdown",
      "metadata": {
        "id": "T_53cUkdd-ZC"
      },
      "source": [
        "###Display the first few images\n",
        "Display a few of the images to visualise before we start the normalisation or building the model"
      ]
    },
    {
      "cell_type": "code",
      "metadata": {
        "id": "DDsuuS1ncg5n",
        "colab": {
          "base_uri": "https://localhost:8080/",
          "height": 373
        },
        "outputId": "63769c20-384f-4367-c146-3f252fa9e20f"
      },
      "source": [
        "# setup figure to show images; 2 rows, 5 cols\n",
        "fig, axs = plt.subplots(2,5, figsize=(15, 6))\n",
        "# setup spaces between images\n",
        "fig.subplots_adjust(hspace = .2, wspace=.001)\n",
        "axs = axs.ravel()\n",
        "\n",
        "#Take 10 random images from the X_train data to show, ensuring no repeats\n",
        "sample_images = np.random.choice(X_train.shape[0], 10, replace=False)  \n",
        "\n",
        "for i in range(10):\n",
        "    image = X_train[i]\n",
        "    axs[i].axis('off')\n",
        "    # reshape and show the image\n",
        "    pixels = X_train[i].reshape((28, 28))\n",
        "    axs[i].imshow(pixels, cmap=\"Greys_r\")\n",
        "    # Show the labelled value for the image\n",
        "    axs[i].set_title('Label for digit:' + str(y_train[i].astype(int)))"
      ],
      "execution_count": null,
      "outputs": [
        {
          "output_type": "display_data",
          "data": {
            "image/png": "[encoded data removed]",
            "text/plain": [
              "<Figure size 1080x432 with 10 Axes>"
            ]
          },
          "metadata": {
            "needs_background": "light"
          }
        }
      ]
    },
    {
      "cell_type": "markdown",
      "metadata": {
        "id": "QZ6KZgK_d0OY"
      },
      "source": [
        "### Normalise the Data:\n",
        "Transform the input features to a common scale between 0 and 1, instead of 0 to 255 in the data. "
      ]
    },
    {
      "cell_type": "code",
      "metadata": {
        "colab": {
          "base_uri": "https://localhost:8080/"
        },
        "id": "O2ubJ_WoAqBh",
        "outputId": "22c077e1-6eed-4687-cd4d-525952e59826"
      },
      "source": [
        "# Normalizing the Inputs:\n",
        "X_train = X_train/255\n",
        "X_test = X_test/255\n",
        "\n",
        "# Printing the new input range of values:\n",
        "minv = np.min(X_train)\n",
        "maxv = np.max(X_train)\n",
        "print(minv,maxv)"
      ],
      "execution_count": null,
      "outputs": [
        {
          "output_type": "stream",
          "name": "stdout",
          "text": [
            "0.0 1.0\n"
          ]
        }
      ]
    },
    {
      "cell_type": "markdown",
      "metadata": {
        "id": "SR6HpkWndHSe"
      },
      "source": [
        "### Description of Data:"
      ]
    },
    {
      "cell_type": "code",
      "metadata": {
        "colab": {
          "base_uri": "https://localhost:8080/"
        },
        "id": "sibN1Vv1dHSf",
        "outputId": "4add576d-392c-410a-97a5-c1e463060dd3"
      },
      "source": [
        "# Number of examples\n",
        "n_train =  len(X_train)\n",
        "n_test =  len(X_test)\n",
        "\n",
        "# Shape of the image, a series of 28 X 28 pixels\n",
        "image_shape = X_train.shape[1]\n",
        "\n",
        "# unique classes/labels in the training dataset.\n",
        "alltotal = set(y_train)\n",
        "n_classes = len(alltotal)\n",
        "\n",
        "print(\"Number of Training examples =\", n_train)\n",
        "print(\"Number of Test examples =\", n_test)\n",
        "print(\"Image input shape =\", image_shape)\n",
        "print(\"Number of classes =\", n_classes)"
      ],
      "execution_count": null,
      "outputs": [
        {
          "output_type": "stream",
          "name": "stdout",
          "text": [
            "Number of Training examples = 60000\n",
            "Number of Test examples = 10000\n",
            "Image input shape = 784\n",
            "Number of classes = 10\n"
          ]
        }
      ]
    },
    {
      "cell_type": "markdown",
      "metadata": {
        "id": "6HQDSvrRKZF6"
      },
      "source": [
        "### Class Distribution:"
      ]
    },
    {
      "cell_type": "code",
      "metadata": {
        "id": "XG8GdlpBKdCt",
        "colab": {
          "base_uri": "https://localhost:8080/",
          "height": 294
        },
        "outputId": "84fd0d66-4474-48ab-ff13-5d82fa874246"
      },
      "source": [
        "#Plot the distribution of each of the classes, to see if any class is over or under represented\n",
        "fig, ax = plt.subplots()\n",
        "ind = np.arange(n_classes)\n",
        "\n",
        "n, bins, patches = ax.hist(y_train, n_classes)\n",
        "ax.set_xlabel('class')\n",
        "ax.set_ylabel('count')\n",
        "ax.set_title(r'Histogram of Digit images')\n",
        "plt.show()"
      ],
      "execution_count": null,
      "outputs": [
        {
          "output_type": "display_data",
          "data": {
            "image/png": "[encoded data removed]",
            "text/plain": [
              "<Figure size 432x288 with 1 Axes>"
            ]
          },
          "metadata": {
            "needs_background": "light"
          }
        }
      ]
    },
    {
      "cell_type": "markdown",
      "metadata": {
        "id": "EyLWw3nsLCtk"
      },
      "source": [
        "## Downsampling"
      ]
    },
    {
      "cell_type": "markdown",
      "metadata": {
        "id": "2U1lFEwhLKBf"
      },
      "source": [
        "### Randomly selecting 3 of the 10 Digit Classes"
      ]
    },
    {
      "cell_type": "code",
      "metadata": {
        "id": "0EeRZZWdLRPT",
        "colab": {
          "base_uri": "https://localhost:8080/"
        },
        "outputId": "26977bde-7706-463f-dce0-b2adb149cb35"
      },
      "source": [
        "# Specify the number of classes we want to train on\n",
        "n_classes = 3\n",
        "\n",
        "# Empty list to append the random digit classes we select:\n",
        "classes = []\n",
        "\n",
        "# We select 3 digits at random and make sure they are unique:\n",
        "while len(classes) < n_classes:\n",
        "    \n",
        "    # Randomly drawing a digit from 0-9:\n",
        "    num2choose = np.random.randint(0,10)\n",
        "\n",
        "    # Append the digit if it's not already in our list of classes:\n",
        "    if num2choose not in classes: \n",
        "        classes.append(num2choose)\n",
        "        \n",
        "# Sorting the Classes smallest to largest    \n",
        "classes.sort()\n",
        "# print classes selected\n",
        "print(classes)"
      ],
      "execution_count": null,
      "outputs": [
        {
          "output_type": "stream",
          "name": "stdout",
          "text": [
            "[2, 4, 8]\n"
          ]
        }
      ]
    },
    {
      "cell_type": "code",
      "metadata": {
        "id": "2M8R5NqKMB_M",
        "colab": {
          "base_uri": "https://localhost:8080/"
        },
        "outputId": "e6e7c089-3c04-46e7-a984-88d57fc294d6"
      },
      "source": [
        "# Specify number of instances we'll keep for each of our 3 digits. We are choosing a fixed number of samples for each digit here and not using all the data, just to train the model faster while still achieving a high degree of accuracy\n",
        "inst_class = 1000\n",
        "X = []\n",
        "labels = []\n",
        "\n",
        "# Loop to randomly sample the instances for each digit:\n",
        "for r in classes:\n",
        "    imgs = X_train[np.where(y_train==r)[0],:]\n",
        "    X.append(imgs[np.random.permutation(imgs.shape[0]),:][0:inst_class,:])\n",
        "    labels.append(np.ones(inst_class)*r)\n",
        "# Shaping inputs and labels in the right format    \n",
        "X_train = np.vstack(X).astype(np.float64)\n",
        "y_train = np.hstack(labels)\n",
        "\n",
        "print('Shape of X_train:', X_train.shape)\n",
        "print('Shape of y_train:', y_train.shape)"
      ],
      "execution_count": null,
      "outputs": [
        {
          "output_type": "stream",
          "name": "stdout",
          "text": [
            "Shape of X_train: (3000, 784)\n",
            "Shape of y_train: (3000,)\n"
          ]
        }
      ]
    },
    {
      "cell_type": "markdown",
      "metadata": {
        "id": "_6-YHrQQMicy"
      },
      "source": [
        "New Classes Distribution for selected three classes"
      ]
    },
    {
      "cell_type": "code",
      "metadata": {
        "id": "RA300COaMxWm",
        "colab": {
          "base_uri": "https://localhost:8080/",
          "height": 294
        },
        "outputId": "846670c0-5c4e-40e5-cfe7-ca0eca90a2ca"
      },
      "source": [
        "# new histogram for selected digits\n",
        "fig, ax = plt.subplots()\n",
        "\n",
        "n, bins, patches = ax.hist(y_train, len(alltotal))\n",
        "ax.set_xlabel('classes')\n",
        "ax.set_ylabel('counts')\n",
        "ax.set_title(r'Histogram of selected digits')\n",
        "plt.show()"
      ],
      "execution_count": null,
      "outputs": [
        {
          "output_type": "display_data",
          "data": {
            "image/png": "[encoded data removed]",
            "text/plain": [
              "<Figure size 432x288 with 1 Axes>"
            ]
          },
          "metadata": {
            "needs_background": "light"
          }
        }
      ]
    },
    {
      "cell_type": "code",
      "metadata": {
        "id": "eFgP4xugMvJm"
      },
      "source": [
        "# plot digits\n",
        "def plot_digits(instances, images_per_row=5, **options):\n",
        "    size = 28\n",
        "    images_per_row = min(len(instances), images_per_row)\n",
        "    images = [instance.reshape(size,size) for instance in instances]\n",
        "    n_rows = (len(instances) - 1) // images_per_row + 1\n",
        "    row_images = []\n",
        "    n_empty = n_rows * images_per_row - len(instances)\n",
        "    images.append(np.zeros((size, size * n_empty)))\n",
        "    for row in range(n_rows):\n",
        "        rimages = images[row * images_per_row : (row + 1) * images_per_row]\n",
        "        row_images.append(np.concatenate(rimages, axis=1))\n",
        "    image = np.concatenate(row_images, axis=0)\n",
        "    plt.imshow(image,  cmap='gist_yarg', **options)\n",
        "    plt.axis(\"off\")"
      ],
      "execution_count": null,
      "outputs": []
    },
    {
      "cell_type": "code",
      "metadata": {
        "id": "zeEG-LGOM4fJ",
        "colab": {
          "base_uri": "https://localhost:8080/",
          "height": 164
        },
        "outputId": "301ae2ee-2ea9-42ca-e2ef-58ce2615f875"
      },
      "source": [
        "# Show a few instances from each Digit:\n",
        "plt.figure(figsize=(8,8))\n",
        "no_instances_to_show = 6\n",
        "images_to_show_indexes = []\n",
        "\n",
        "# Selecting a few label indices from each of the 3 classes to show:\n",
        "for r in classes:\n",
        "  indexes = np.where(y_train==r);\n",
        "  images_to_show_indexes = np.append(images_to_show_indexes, np.random.choice(indexes[0], no_instances_to_show, replace=False)).astype(int)\n",
        "    \n",
        "# Plotting 'original' image\n",
        "plot_digits(X_train[images_to_show_indexes,:],images_per_row=9)\n",
        "plt.title(\"Original\", fontsize=14)"
      ],
      "execution_count": null,
      "outputs": [
        {
          "output_type": "execute_result",
          "data": {
            "text/plain": [
              "Text(0.5, 1.0, 'Original')"
            ]
          },
          "metadata": {},
          "execution_count": 422
        },
        {
          "output_type": "display_data",
          "data": {
            "image/png": "[encoded data removed]",
            "text/plain": [
              "<Figure size 576x576 with 1 Axes>"
            ]
          },
          "metadata": {
            "needs_background": "light"
          }
        }
      ]
    },
    {
      "cell_type": "markdown",
      "metadata": {
        "id": "FsAOnOcNNG_V"
      },
      "source": [
        "###  Splitting the Training data into both Training and Validation Sets:\n",
        "\n",
        "- Although this is the Training set, we can still set aside some samples (for instance 20%) of the 1,500 instances we have for Model Validation purposes.\n",
        "\n",
        "\n",
        "- With that Validation Set, we can then select the amount of Uncertainty we are happy with from our Model to use out of sample on other unseen data.\n",
        "\n",
        "\n",
        "- We can then test out how well our decision performs on the Test Set that we put aside earlier."
      ]
    },
    {
      "cell_type": "code",
      "metadata": {
        "id": "YdsmyVAtPXNn"
      },
      "source": [
        "### Split tha dataset in training and validation sets, I will set aside 20% for validation\n",
        "w = 0.20\n",
        "X_train, X_val, y_train, y_val = train_test_split(X_train, y_train, test_size=w, random_state=0)\n",
        " \n",
        "# Shuffling the training instaces around to randomize the order of inputs to the model:\n",
        "X_train, y_train = shuffle(X_train, y_train)"
      ],
      "execution_count": null,
      "outputs": []
    },
    {
      "cell_type": "code",
      "metadata": {
        "id": "qXwJwP0iPxhi",
        "colab": {
          "base_uri": "https://localhost:8080/"
        },
        "outputId": "c0489542-88fb-4a9f-9a3f-e356f10d5880"
      },
      "source": [
        "# print shape of your validation and training set\n",
        "print(\"Training input shape =\", X_train.shape)\n",
        "print(\"Training output shape =\", y_train.shape)\n",
        "\n",
        "print(\"Validation input shape =\", X_val.shape)\n",
        "print(\"Validation output shape =\", y_val.shape)"
      ],
      "execution_count": null,
      "outputs": [
        {
          "output_type": "stream",
          "name": "stdout",
          "text": [
            "Training input shape = (2400, 784)\n",
            "Training output shape = (2400,)\n",
            "Validation input shape = (600, 784)\n",
            "Validation output shape = (600,)\n"
          ]
        }
      ]
    },
    {
      "cell_type": "markdown",
      "metadata": {
        "id": "rjUaqWTqQIcp"
      },
      "source": [
        "### General-Recipe ML"
      ]
    },
    {
      "cell_type": "code",
      "metadata": {
        "id": "QzgdivxfQNv5",
        "colab": {
          "base_uri": "https://localhost:8080/",
          "height": 353
        },
        "outputId": "01beca9e-0065-470a-cbec-c30126a9232a"
      },
      "source": [
        "# model\n",
        "model_log = LogisticRegression(random_state=0, max_iter=2000, C=100, solver='lbfgs', multi_class='multinomial').fit(X_train, y_train)\n",
        "\n",
        "# Classification:\n",
        "y_pred_log = model_log.predict(X_val)\n",
        "y_pred_logi_prob = model_log.predict_proba(X_val)\n",
        "\n",
        "# Maybe taking the maximum probability \n",
        "# in any of the classes for each observation\n",
        "prob_classmax = np.max(y_pred_logi_prob,axis=1)\n",
        "min_prob = np.amin(prob_classmax)\n",
        "max_prob = np.amax(prob_classmax)\n",
        "\n",
        "#Get the probability scores for each of the 3 classes for the image hardest to classify. This will return the probability for the image\n",
        "#for each of the 3 classes \n",
        "prob_obs_hardest_classify = y_pred_logi_prob[np.argmin(prob_classmax)]\n",
        "\n",
        "# Computing the original accuracy of the model\n",
        "original_accuracy_score = accuracy_score(y_pred_log, y_val)\n",
        "\n",
        "print(\"Accuracy=\", original_accuracy_score)\n",
        "print(\"Maximum probability for any class:\", max_prob)\n",
        "print(\"Minimum probability for any class:\", min_prob)\n",
        "print(\"Probability scores for observation hardest to classify:\", prob_obs_hardest_classify)\n",
        "\n",
        "#Plot image hardest to recognise\n",
        "plot_digits(X_train[np.array([np.argmin(prob_classmax)]),:],images_per_row=9)\n",
        "plt.title(\"Hardest image to classify\", fontsize=14)"
      ],
      "execution_count": null,
      "outputs": [
        {
          "output_type": "stream",
          "name": "stdout",
          "text": [
            "Accuracy= 0.9483333333333334\n",
            "Maximum probability for any class: 1.0\n",
            "Minimum probability for any class: 0.5111059450085338\n",
            "Probability scores for observation hardest to classify: [0.51110595 0.0012403  0.48765376]\n"
          ]
        },
        {
          "output_type": "execute_result",
          "data": {
            "text/plain": [
              "Text(0.5, 1.0, 'Hardest image to classify')"
            ]
          },
          "metadata": {},
          "execution_count": 425
        },
        {
          "output_type": "display_data",
          "data": {
            "image/png": "[encoded data removed]",
            "text/plain": [
              "<Figure size 432x288 with 1 Axes>"
            ]
          },
          "metadata": {
            "needs_background": "light"
          }
        }
      ]
    },
    {
      "cell_type": "markdown",
      "metadata": {
        "id": "aOroY1QoP8DY"
      },
      "source": [
        "### Encoding the Class labels for the Probabilistic ML Model:\n",
        "\n",
        "This is an example:\n",
        "\n",
        "- **[1,0,0]** for first digit\n",
        "- **[0,1,0]** for second digit\n",
        "- **[0,0,1]** for third digit"
      ]
    },
    {
      "cell_type": "markdown",
      "metadata": {
        "id": "3uQG6JsOQxH5"
      },
      "source": [
        "### Probabilistic Multinomial Logistic Regression:"
      ]
    },
    {
      "cell_type": "markdown",
      "metadata": {
        "id": "irlmUNw7Q5YL"
      },
      "source": [
        "The Multinomial Logistic Regression has some parameters:\n",
        "\n",
        "- $\\alpha$, which is the intercept term:\n",
        "\n",
        "- $\\beta$, which is a vector of coefficients which give a weighting to the importance of each input feature:\n"
      ]
    },
    {
      "cell_type": "code",
      "metadata": {
        "id": "W3jzczJzRAtT",
        "colab": {
          "base_uri": "https://localhost:8080/"
        },
        "outputId": "584190b3-b3a4-4896-92e2-2eaaaaf97eaf"
      },
      "source": [
        "import sklearn.preprocessing\n",
        "\n",
        "## Encode the class lables using the LabelBinarizer\n",
        "## First digit  1 0 0\n",
        "## Second Digit 0 1 0\n",
        "## Third Digit  0 0 1\n",
        "y_2_bin = sklearn.preprocessing.LabelBinarizer().fit_transform(y_train.reshape(-1,1))\n",
        "\n",
        "#Number of features in the input data\n",
        "nf = X_train.shape[1]\n",
        "\n",
        "# number of classes we are looking to predict\n",
        "nc = len(classes)\n",
        "# floatX = float32\n",
        "floatX = tt.config.floatX\n",
        "\n",
        "print(\"Number of Features:\", nf)\n",
        "print(\"Number of Classes:\", nc)\n",
        "\n",
        "#We will initialise the prior with some random data for each beta class and feature\n",
        "init_b = np.random.randn(nf, nc-1).astype(floatX)\n",
        "print(\"init_b.shape:\", init_b.shape)\n",
        "\n",
        "#We will initialise the prior with some random data for alpha for each class\n",
        "init_a = np.random.randn(nc-1).astype(floatX)\n",
        "print(\"init_a.shape:\", init_a.shape)\n",
        "\n",
        "with pm.Model() as multi_logistic:\n",
        "##    # Prior\n",
        "  β = pm.Normal('beta', 0, sigma=100, shape=(nf, nc-1), testval=init_b)\n",
        "  α = pm.Normal('alpha', 0, sigma=100, shape=(nc-1,), testval=init_a)\n",
        "    \n",
        "  # we need to consider nc-1 features because the model is not identifiable\n",
        "  # the softmax turns a vector into a probability that sums up to one\n",
        "  # therefore we add zeros to go back to dimension nc\n",
        "  # so that softmax returns a vector of dimension nc\n",
        "  β1  = tt.tensor.concatenate([np.zeros((nf,1)),β ],axis=1)\n",
        "  α1  = tt.tensor.concatenate([[0],α ],)\n",
        "    \n",
        "  # Likelihood\n",
        "  mu = pm.math.matrix_dot(X_train,β1) + α1\n",
        "\n",
        "  # It doesn't work if the problem is binary\n",
        "  p = tt.tensor.nnet.nnet.softmax(mu)\n",
        "  observed = pm.Multinomial('likelihood', p=p, n=1, observed=y_2_bin)"
      ],
      "execution_count": null,
      "outputs": [
        {
          "output_type": "stream",
          "name": "stdout",
          "text": [
            "Number of Features: 784\n",
            "Number of Classes: 3\n",
            "init_b.shape: (784, 2)\n",
            "init_a.shape: (2,)\n"
          ]
        }
      ]
    },
    {
      "cell_type": "markdown",
      "metadata": {
        "id": "4UlKCTZ9p3ZB"
      },
      "source": [
        "#### We now fit our training data to the model"
      ]
    },
    {
      "cell_type": "code",
      "metadata": {
        "id": "1o7mbKWmRhz5",
        "colab": {
          "base_uri": "https://localhost:8080/",
          "height": 54
        },
        "outputId": "884c8d35-c041-486e-f174-6b7bc5904c08"
      },
      "source": [
        "with multi_logistic:\n",
        "    approx = pm.fit(3000, method='advi')"
      ],
      "execution_count": null,
      "outputs": [
        {
          "output_type": "display_data",
          "data": {
            "text/html": [
              "\n",
              "    <div>\n",
              "        <style>\n",
              "            /* Turns off some styling */\n",
              "            progress {\n",
              "                /* gets rid of default border in Firefox and Opera. */\n",
              "                border: none;\n",
              "                /* Needs to be in here for Safari polyfill so background images work as expected. */\n",
              "                background-size: auto;\n",
              "            }\n",
              "            .progress-bar-interrupted, .progress-bar-interrupted::-webkit-progress-bar {\n",
              "                background: #F44336;\n",
              "            }\n",
              "        </style>\n",
              "      <progress value='3000' class='' max='3000' style='width:300px; height:20px; vertical-align: middle;'></progress>\n",
              "      100.00% [3000/3000 00:44<00:00 Average Loss = 10,698]\n",
              "    </div>\n",
              "    "
            ],
            "text/plain": [
              "<IPython.core.display.HTML object>"
            ]
          },
          "metadata": {}
        },
        {
          "output_type": "stream",
          "name": "stderr",
          "text": [
            "Finished [100%]: Average Loss = 10,676\n"
          ]
        }
      ]
    },
    {
      "cell_type": "code",
      "metadata": {
        "id": "2MFH4gwlRhrB"
      },
      "source": [
        "#We draw samples from the model as our posterior which will allow us to predict new values\n",
        "dd = 300\n",
        "posterior = approx.sample(draws=dd)"
      ],
      "execution_count": null,
      "outputs": []
    },
    {
      "cell_type": "code",
      "metadata": {
        "id": "aj6Uzc05Rhtr",
        "colab": {
          "base_uri": "https://localhost:8080/",
          "height": 247
        },
        "outputId": "1996ba9f-b58b-4f8e-ad4c-43389204a4e4"
      },
      "source": [
        "## The softmax function transforms each element of a collection by computing the exponential\n",
        "#  of each element divided by the sum of the exponentials of all the elements.\n",
        "from scipy.special import softmax\n",
        "\n",
        "#select an image in the test set\n",
        "i = random.randint(0, X_val.shape[0])\n",
        "\n",
        "#select a sample in the posterior\n",
        "s = random.randint(0, dd)\n",
        "\n",
        "#Calculate the alpha and beta values from the posterior\n",
        "beta  = np.hstack([np.zeros((nf,1)),  posterior['beta'][s,:] ])\n",
        "alpha = np.hstack([[0],  posterior['alpha'][s,:] ])\n",
        "\n",
        "image = X_val[i,:].reshape(28,28)\n",
        "plt.figure(figsize=(2,2))\n",
        "plt.imshow(image, cmap=\"Greys_r\")\n",
        "np.set_printoptions(suppress=True)\n",
        "\n",
        "print(\"test image #\" + str(i))\n",
        "print(\"posterior sample #\" + str(s))\n",
        "print(\"true class=\", y_val[i])\n",
        "print(\"classes: \" + str(classes))\n",
        "\n",
        "#Here we calculat the estimated probability from the posterior alpha and beta values\n",
        "print(\"estimated prob=\",softmax((np.array([X_val[i,:].dot(beta) + alpha])))[0,:])"
      ],
      "execution_count": null,
      "outputs": [
        {
          "output_type": "stream",
          "name": "stdout",
          "text": [
            "test image #232\n",
            "posterior sample #110\n",
            "true class= 2.0\n",
            "classes: [2, 4, 8]\n",
            "estimated prob= [0.00232375 0.         0.99767625]\n"
          ]
        },
        {
          "output_type": "display_data",
          "data": {
            "image/png": "[encoded data removed]",
            "text/plain": [
              "<Figure size 144x144 with 1 Axes>"
            ]
          },
          "metadata": {
            "needs_background": "light"
          }
        }
      ]
    },
    {
      "cell_type": "code",
      "metadata": {
        "id": "WNmJvYc4Rho7"
      },
      "source": [
        "# Bayesian prediction\n",
        "# return the class that has the highest posterior probability for each digit in the validation set\n",
        "y_pred_Bayesian=[]\n",
        "\n",
        "#Calculate the \n",
        "for i in range(X_val.shape[0]):\n",
        "    val=np.zeros((1,len(classes)))\n",
        "    \n",
        "    for s in range(posterior['beta'].shape[0]):\n",
        "        beta = np.hstack([np.zeros((nf,1)),  posterior['beta'][s,:] ])\n",
        "        alpha = np.hstack([[0],  posterior['alpha'][s,:] ])     \n",
        "        val = val + softmax((np.array([X_val[i,:].dot(beta) + alpha])))\n",
        "    \n",
        "    mean_probability = val/posterior['beta'].shape[0]\n",
        "    y_pred_Bayesian.append( np.argmax(mean_probability))"
      ],
      "execution_count": null,
      "outputs": []
    },
    {
      "cell_type": "code",
      "metadata": {
        "id": "_th8Qnjvq6bL",
        "colab": {
          "base_uri": "https://localhost:8080/"
        },
        "outputId": "c61133e3-ffdd-4a18-8682-9f1cb34c73e0"
      },
      "source": [
        "print(y_pred_Bayesian)"
      ],
      "execution_count": null,
      "outputs": [
        {
          "output_type": "stream",
          "name": "stdout",
          "text": [
            "[0, 1, 1, 2, 2, 2, 2, 0, 1, 0, 1, 2, 0, 0, 1, 2, 1, 0, 0, 2, 2, 1, 1, 1, 2, 0, 1, 0, 1, 0, 2, 1, 2, 1, 1, 2, 2, 1, 2, 1, 1, 0, 0, 0, 0, 0, 2, 1, 2, 0, 1, 1, 2, 2, 0, 1, 2, 2, 2, 2, 2, 0, 2, 0, 2, 0, 1, 2, 2, 1, 1, 1, 1, 2, 0, 1, 0, 1, 1, 1, 1, 0, 0, 2, 0, 0, 2, 0, 1, 0, 1, 2, 0, 1, 0, 0, 2, 0, 0, 0, 2, 2, 1, 1, 0, 1, 1, 1, 0, 2, 2, 1, 1, 2, 1, 1, 2, 1, 2, 1, 0, 0, 2, 2, 0, 2, 1, 0, 2, 0, 1, 0, 2, 1, 0, 0, 2, 1, 2, 0, 2, 0, 2, 2, 2, 1, 1, 2, 1, 2, 0, 0, 2, 2, 0, 0, 1, 0, 0, 0, 2, 1, 0, 0, 2, 1, 1, 0, 1, 2, 0, 2, 2, 0, 1, 0, 1, 0, 2, 2, 0, 1, 2, 1, 2, 0, 1, 1, 2, 2, 2, 0, 0, 1, 1, 2, 0, 0, 0, 0, 0, 1, 0, 2, 2, 2, 2, 0, 2, 2, 1, 0, 1, 1, 2, 1, 0, 0, 0, 2, 0, 2, 2, 1, 2, 0, 1, 1, 0, 1, 2, 0, 2, 1, 1, 2, 2, 2, 1, 2, 1, 0, 0, 2, 0, 2, 2, 1, 2, 1, 1, 2, 1, 2, 0, 1, 2, 1, 0, 2, 2, 0, 0, 0, 0, 0, 0, 0, 2, 0, 2, 1, 0, 2, 0, 2, 2, 0, 2, 1, 1, 1, 1, 2, 0, 1, 0, 2, 0, 0, 1, 2, 0, 1, 1, 0, 2, 0, 0, 1, 2, 0, 2, 2, 0, 1, 1, 0, 2, 0, 1, 2, 2, 2, 2, 0, 1, 2, 0, 0, 0, 2, 2, 1, 1, 0, 1, 2, 1, 0, 2, 2, 0, 0, 0, 1, 1, 2, 0, 2, 1, 0, 2, 2, 1, 0, 2, 0, 2, 1, 0, 1, 2, 0, 2, 1, 1, 2, 0, 0, 0, 0, 1, 0, 2, 2, 2, 2, 0, 0, 0, 2, 0, 2, 1, 1, 2, 1, 2, 2, 1, 1, 1, 1, 1, 2, 1, 1, 0, 1, 2, 0, 0, 2, 0, 0, 0, 0, 1, 2, 0, 0, 0, 1, 1, 0, 1, 2, 0, 2, 2, 2, 2, 0, 1, 2, 0, 0, 0, 0, 1, 0, 1, 2, 0, 1, 2, 2, 2, 0, 1, 1, 1, 2, 0, 1, 0, 1, 0, 0, 1, 1, 1, 0, 0, 1, 2, 2, 1, 1, 0, 2, 1, 1, 0, 1, 0, 0, 1, 0, 0, 1, 1, 2, 2, 2, 0, 1, 0, 2, 2, 0, 0, 0, 2, 2, 2, 1, 0, 1, 2, 1, 2, 1, 1, 1, 0, 2, 2, 1, 2, 1, 0, 2, 0, 1, 1, 1, 2, 0, 2, 0, 1, 1, 0, 1, 1, 1, 0, 2, 0, 2, 1, 2, 0, 2, 1, 0, 0, 0, 2, 1, 1, 0, 1, 0, 2, 2, 0, 2, 2, 2, 2, 1, 2, 2, 0, 0, 2, 2, 2, 1, 2, 0, 0, 1, 2, 2, 2, 1, 0, 2, 1, 1, 0, 0, 0, 0, 2, 0, 1, 0, 2, 2, 1, 0, 0, 0, 0, 1, 2, 2, 1, 0, 0, 1, 0, 2, 0, 2, 0, 2, 1, 2, 2, 2, 2, 2, 0, 0, 0, 0, 1, 0, 0, 0, 1, 0, 0, 2]\n"
          ]
        }
      ]
    },
    {
      "cell_type": "code",
      "metadata": {
        "colab": {
          "base_uri": "https://localhost:8080/"
        },
        "id": "G6ljkeiI81Fs",
        "outputId": "46c6d84e-3fff-4b25-ebf1-d3512af81f11"
      },
      "source": [
        "print(\"Accuracy=\", accuracy_score(np.array(classes)[y_pred_Bayesian], y_val))"
      ],
      "execution_count": null,
      "outputs": [
        {
          "output_type": "stream",
          "name": "stdout",
          "text": [
            "Accuracy= 0.8683333333333333\n"
          ]
        }
      ]
    },
    {
      "cell_type": "code",
      "metadata": {
        "id": "IF0HHg6Jnqij"
      },
      "source": [
        "# For each validation sample we get the class, Mean Probability and Standard Deviation\n",
        "y_predB=[]\n",
        "\n",
        "for i in range(X_val.shape[0]):\n",
        "    val=[]\n",
        "\n",
        "    for s in range(posterior['beta'].shape[0]):\n",
        "        beta = np.hstack([np.zeros((nf,1)),  posterior['beta'][s,:] ])\n",
        "        alpha = np.hstack([[0],  posterior['alpha'][s,:] ])\n",
        "        val.append(softmax((np.array([X_val[i,:].dot(beta) + alpha])))[0,:])\n",
        "\n",
        "    #mean probability\n",
        "    valmean = np.mean(val,axis=0)\n",
        "    #class with maximum mean probability\n",
        "    classmax = np.argmax(valmean)\n",
        "    #ranks\n",
        "    ranks = np.array(val.copy())\n",
        "    ranks   = ranks  *0 #init\n",
        "    colmax = np.argmax(np.array(val),axis=1)\n",
        "    ranks[np.arange(0,len(colmax)),colmax]=1\n",
        "     \n",
        "    y_predB.append( [classmax, valmean[classmax], np.std(ranks,axis=0)[classmax]])\n",
        "  \n",
        "y_predB= np.array(y_predB)"
      ],
      "execution_count": null,
      "outputs": []
    },
    {
      "cell_type": "code",
      "metadata": {
        "colab": {
          "base_uri": "https://localhost:8080/"
        },
        "id": "xLJ5SU0qE7NQ",
        "outputId": "fbd2213a-7c5f-43e8-9b3b-07653b3b3098"
      },
      "source": [
        "# Show the predicted, mean probability and standard deviation for first 10 samples\n",
        "mm = 10\n",
        "y_predB[0:mm,:]"
      ],
      "execution_count": null,
      "outputs": [
        {
          "output_type": "execute_result",
          "data": {
            "text/plain": [
              "array([[0.        , 0.65619004, 0.47370877],\n",
              "       [1.        , 0.98854336, 0.08137704],\n",
              "       [1.        , 0.69286929, 0.45969797],\n",
              "       [2.        , 0.75290055, 0.4142463 ],\n",
              "       [2.        , 0.61129393, 0.48538644],\n",
              "       [2.        , 0.99288554, 0.08137704],\n",
              "       [2.        , 0.82378859, 0.37853519],\n",
              "       [0.        , 0.67112825, 0.46249324],\n",
              "       [1.        , 0.84711955, 0.34698703],\n",
              "       [0.        , 0.73884873, 0.43107102]])"
            ]
          },
          "metadata": {},
          "execution_count": 434
        }
      ]
    },
    {
      "cell_type": "code",
      "metadata": {
        "colab": {
          "base_uri": "https://localhost:8080/"
        },
        "id": "a3TtMTGmE_Qv",
        "outputId": "d06a9903-2c5a-4d1d-fce9-58e19886aa8b"
      },
      "source": [
        "#sorting in descending order, show the predicted class, mean probability and standard deviation for first 10 samples\n",
        "difficult = np.argsort(-y_predB[:,2])\n",
        "y_predB[difficult[0:mm],:]"
      ],
      "execution_count": null,
      "outputs": [
        {
          "output_type": "execute_result",
          "data": {
            "text/plain": [
              "array([[2.        , 0.48505349, 0.5       ],\n",
              "       [1.        , 0.49339605, 0.49998889],\n",
              "       [0.        , 0.48829714, 0.49998889],\n",
              "       [0.        , 0.50801286, 0.49995555],\n",
              "       [2.        , 0.52140455, 0.49995555],\n",
              "       [0.        , 0.50156519, 0.49995555],\n",
              "       [1.        , 0.5082382 , 0.49995555],\n",
              "       [0.        , 0.49090602, 0.49995555],\n",
              "       [0.        , 0.49824556, 0.49995555],\n",
              "       [2.        , 0.47685253, 0.49995555]])"
            ]
          },
          "metadata": {},
          "execution_count": 435
        }
      ]
    },
    {
      "cell_type": "code",
      "metadata": {
        "colab": {
          "base_uri": "https://localhost:8080/"
        },
        "id": "bQncqF76FClG",
        "outputId": "f6219a86-20cd-4f56-90e1-3bf6e43d60a3"
      },
      "source": [
        "#probability of general-recipe logistic regression in wrong instances\n",
        "prob_classmax[y_pred_log != y_val]"
      ],
      "execution_count": null,
      "outputs": [
        {
          "output_type": "execute_result",
          "data": {
            "text/plain": [
              "array([0.59740908, 0.99998613, 0.99999875, 0.99990263, 0.93704007,\n",
              "       0.99996844, 0.99834312, 0.84508251, 0.85935129, 0.95709748,\n",
              "       0.53738619, 0.99976213, 0.99443424, 0.99999953, 0.59222296,\n",
              "       0.80683106, 0.97878639, 0.99992073, 0.96720732, 0.89496645,\n",
              "       0.93768113, 0.99996521, 0.70723342, 0.98825641, 0.94390237,\n",
              "       0.88291886, 0.99996916, 0.56370388, 0.9983832 , 0.98544195,\n",
              "       0.51110595])"
            ]
          },
          "metadata": {},
          "execution_count": 436
        }
      ]
    },
    {
      "cell_type": "code",
      "metadata": {
        "colab": {
          "base_uri": "https://localhost:8080/"
        },
        "id": "duSHNRfUIBPl",
        "outputId": "35942523-a8e9-4634-8b03-7e986ef776f3"
      },
      "source": [
        "#For the samples predicted incorrectly from the general-recipe model, show how the Bayesian prediction classified the same samples \n",
        "y_predB[y_pred_log != y_val,:]"
      ],
      "execution_count": null,
      "outputs": [
        {
          "output_type": "execute_result",
          "data": {
            "text/plain": [
              "array([[2.        , 0.96715677, 0.15095989],\n",
              "       [2.        , 0.63661255, 0.47901519],\n",
              "       [2.        , 0.68941303, 0.45376205],\n",
              "       [2.        , 0.9838218 , 0.11469767],\n",
              "       [2.        , 0.68267861, 0.46517619],\n",
              "       [1.        , 0.89460091, 0.3       ],\n",
              "       [0.        , 0.80748153, 0.38964371],\n",
              "       [2.        , 0.88216846, 0.32102267],\n",
              "       [2.        , 0.75157662, 0.42083251],\n",
              "       [2.        , 0.84322201, 0.35041246],\n",
              "       [0.        , 0.48829714, 0.49998889],\n",
              "       [1.        , 0.49339605, 0.49998889],\n",
              "       [1.        , 0.5668478 , 0.49121165],\n",
              "       [2.        , 0.71897637, 0.44395946],\n",
              "       [2.        , 0.82413524, 0.372678  ],\n",
              "       [1.        , 0.42040273, 0.49408726],\n",
              "       [2.        , 0.77369721, 0.40491426],\n",
              "       [0.        , 0.38882331, 0.48368952],\n",
              "       [1.        , 0.76336991, 0.42503595],\n",
              "       [1.        , 0.81165175, 0.372678  ],\n",
              "       [2.        , 0.61145808, 0.48848974],\n",
              "       [2.        , 0.94384948, 0.20360637],\n",
              "       [1.        , 0.77865667, 0.41197357],\n",
              "       [0.        , 0.85621127, 0.32496154],\n",
              "       [1.        , 0.63918887, 0.47256981],\n",
              "       [1.        , 0.92901114, 0.23120458],\n",
              "       [0.        , 0.9426707 , 0.21794495],\n",
              "       [1.        , 0.67133619, 0.4689942 ],\n",
              "       [2.        , 0.39707732, 0.48848974],\n",
              "       [0.        , 0.83351404, 0.36966952],\n",
              "       [2.        , 0.64744845, 0.47370877]])"
            ]
          },
          "metadata": {},
          "execution_count": 437
        }
      ]
    },
    {
      "cell_type": "code",
      "metadata": {
        "colab": {
          "base_uri": "https://localhost:8080/"
        },
        "id": "A0oqnOP0qScM",
        "outputId": "06564b99-a956-4a09-a057-b2f70b790d81"
      },
      "source": [
        "## Calculate the accuracy of the General recipe model on the easiest and most difficult samples to predict based on the Bayesian approach\n",
        "\n",
        "easy = np.argsort(y_predB[:,2])\n",
        "print(\"Accuracy in easy instances =\", accuracy_score(y_pred_log[easy[0:100]], y_val[easy[0:100]]))\n",
        "\n",
        "difficult = np.argsort(-y_predB[:,2])\n",
        "print(\"Accuracy in difficult instances =\", accuracy_score(y_pred_log[difficult[0:100]], y_val[difficult[0:100]]))"
      ],
      "execution_count": null,
      "outputs": [
        {
          "output_type": "stream",
          "name": "stdout",
          "text": [
            "Accuracy in easy instances = 0.99\n",
            "Accuracy in difficult instances = 0.92\n"
          ]
        }
      ]
    },
    {
      "cell_type": "code",
      "metadata": {
        "colab": {
          "base_uri": "https://localhost:8080/",
          "height": 356
        },
        "id": "53oFwJAlrrCv",
        "outputId": "6fbd140b-0df7-4863-c6bb-3603c51f4ade"
      },
      "source": [
        "# show 10 random 'easy' images\n",
        "fig, axs = plt.subplots(2,5, figsize=(15, 6))\n",
        "fig.subplots_adjust(hspace = .2, wspace=.001)\n",
        "axs = axs.ravel()\n",
        "\n",
        "for i in range(10):\n",
        "    index = easy[i]\n",
        "    image = X_val[index,:].reshape(28,28)\n",
        "    axs[i].axis('off')\n",
        "    axs[i].imshow(image, cmap=\"Greys_r\")\n",
        "    "
      ],
      "execution_count": null,
      "outputs": [
        {
          "output_type": "display_data",
          "data": {
            "image/png": "[encoded data removed]",
            "text/plain": [
              "<Figure size 1080x432 with 10 Axes>"
            ]
          },
          "metadata": {
            "needs_background": "light"
          }
        }
      ]
    },
    {
      "cell_type": "code",
      "metadata": {
        "colab": {
          "base_uri": "https://localhost:8080/",
          "height": 356
        },
        "id": "Pn3-U79Pq6W2",
        "outputId": "1ea06413-a2c5-4734-cc14-aa6b021faff8"
      },
      "source": [
        "# show 10 random 'difficult' images\n",
        "fig, axs = plt.subplots(2,5, figsize=(15, 6))\n",
        "fig.subplots_adjust(hspace = .2, wspace=.001)\n",
        "axs = axs.ravel()\n",
        "for i in range(10):\n",
        "    index = difficult[i]\n",
        "    image = X_val[index,:].reshape(28,28)\n",
        "    axs[i].axis('off')\n",
        "    axs[i].imshow(image, cmap=\"Greys_r\")\n",
        "    "
      ],
      "execution_count": null,
      "outputs": [
        {
          "output_type": "display_data",
          "data": {
            "image/png": "[encoded data removed]",
            "text/plain": [
              "<Figure size 1080x432 with 10 Axes>"
            ]
          },
          "metadata": {
            "needs_background": "light"
          }
        }
      ]
    },
    {
      "cell_type": "markdown",
      "metadata": {
        "id": "RopDhiMzKgtW"
      },
      "source": [
        "###Removing the most difficult images\n"
      ]
    },
    {
      "cell_type": "code",
      "metadata": {
        "id": "M7lHTYAHrH91",
        "colab": {
          "base_uri": "https://localhost:8080/",
          "height": 294
        },
        "outputId": "e270cef2-119e-4408-9876-e9a4618d321b"
      },
      "source": [
        "#Plot the mean probability for each of the validation samples, ordered by accuracy ascending. This will show us the samples \n",
        "#with uncertainty where the model cannot predict accurately.\n",
        "y_predB_sort_difficult = np.sort(y_predB[:,1])\n",
        "\n",
        "plt.plot(y_predB_sort_difficult)\n",
        "plt.title('Plot of mean probability ordered by most difficult')\n",
        "plt.xlabel('Digits')\n",
        "plt.ylabel('Accuracy')\n",
        "plt.show()"
      ],
      "execution_count": null,
      "outputs": [
        {
          "output_type": "display_data",
          "data": {
            "image/png": "[encoded data removed]",
            "text/plain": [
              "<Figure size 432x288 with 1 Axes>"
            ]
          },
          "metadata": {
            "needs_background": "light"
          }
        }
      ]
    },
    {
      "cell_type": "code",
      "metadata": {
        "id": "hP41btkEKxoX"
      },
      "source": [
        "#Remove the most difficult images from the General Receipe ML\n",
        "#From the above plot, there is approx 50 samples that are below 0.7 accuracy threshold, so we can remove these. This will vary depending on the samples in our dataset\n",
        "difficult = np.argsort(-y_predB[:,2])\n",
        "new_X_val = np.delete(X_val, difficult[0:50], axis=0)\n",
        "new_Y_val = np.delete(y_val, difficult[0:50], axis=0)\n",
        "new_Y_pred = model_log.predict(new_X_val)"
      ],
      "execution_count": null,
      "outputs": []
    },
    {
      "cell_type": "code",
      "metadata": {
        "id": "sb0GGF4trNAt",
        "colab": {
          "base_uri": "https://localhost:8080/"
        },
        "outputId": "9a0e25c5-f53d-4a87-b1f5-9122c56cab17"
      },
      "source": [
        "#Calculate the Accuracy from the General Receipe ML algorithm with varying numbers of the most difficult samples removed\n",
        "print('Original Accuracy score for General Receipe ML algorithm with (%s) difficult validation samples removed: %f' % (X_val.shape[0] - X_val.shape[0], original_accuracy_score))\n",
        "\n",
        "new_accuracy = accuracy_score(new_Y_pred, new_Y_val)\n",
        "print('New Accuracy Score for General Receipe ML algorithm with %s difficult validation samples removed: %f' % (X_val.shape[0] - new_X_val.shape[0], new_accuracy))\n",
        "\n",
        "#Try again, removing even more of the difficult samples, in this case removing 100 samples\n",
        "new_X_val = np.delete(X_val, difficult[0:100], axis=0)\n",
        "new_Y_val = np.delete(y_val, difficult[0:100], axis=0)\n",
        "new_Y_pred = model_log.predict(new_X_val)\n",
        "new_accuracy = accuracy_score(new_Y_pred, new_Y_val)\n",
        "\n",
        "print('New Accuracy Score for General Receipe ML algorithm with %s difficult validation samples removed: %f' % (X_val.shape[0] - new_X_val.shape[0], new_accuracy))\n",
        "\n",
        "#Lets try again, this time we will remove another batch of difficult samples, to prove that our accuracy is improving\n",
        "new_X_val = np.delete(X_val, difficult[0:250], axis=0)\n",
        "new_Y_val = np.delete(y_val, difficult[0:250], axis=0)\n",
        "new_Y_pred = model_log.predict(new_X_val)\n",
        "new_accuracy = accuracy_score(new_Y_pred, new_Y_val)\n",
        "\n",
        "print('New Accuracy Score for General Receipe ML algorithm with %s difficult validation samples removed: %f' % (X_val.shape[0] - new_X_val.shape[0], new_accuracy))\n",
        "\n",
        "#Lets try again, this time we will remove all but the easiest 50 samples we should be getting an accuracy close to 1\n",
        "new_X_val = np.delete(X_val, difficult[0:550], axis=0)\n",
        "new_Y_val = np.delete(y_val, difficult[0:550], axis=0)\n",
        "new_Y_pred = model_log.predict(new_X_val)\n",
        "new_accuracy = accuracy_score(new_Y_pred, new_Y_val)\n",
        "\n",
        "print('New Accuracy Score for General Receipe ML algorithm with %s difficult validation samples removed: %f' % (X_val.shape[0] - new_X_val.shape[0], new_accuracy))"
      ],
      "execution_count": null,
      "outputs": [
        {
          "output_type": "stream",
          "name": "stdout",
          "text": [
            "Original Accuracy score for General Receipe ML algorithm with (0) difficult validation samples removed: 0.948333\n",
            "New Accuracy Score for General Receipe ML algorithm with 50 difficult validation samples removed: 0.947273\n",
            "New Accuracy Score for General Receipe ML algorithm with 100 difficult validation samples removed: 0.954000\n",
            "New Accuracy Score for General Receipe ML algorithm with 250 difficult validation samples removed: 0.974286\n",
            "New Accuracy Score for General Receipe ML algorithm with 550 difficult validation samples removed: 1.000000\n"
          ]
        }
      ]
    },
    {
      "cell_type": "code",
      "metadata": {
        "id": "C6R87hiNN69q",
        "colab": {
          "base_uri": "https://localhost:8080/",
          "height": 820
        },
        "outputId": "3e238f4a-a77a-4022-8271-9844a156be6d"
      },
      "source": [
        "#Export notebook in pretty PDF format\n",
        "!wget -nc https://github.com/mike-scally/ET5003/blob/main/Etivity_1_MikeScally_9312951.ipynb\n",
        "\n",
        "import sys\n",
        "sys.path.append('/content/drive/My Drive/Colab Notebooks/')\n",
        "from colab_pdf import colab_pdf\n",
        "\n",
        "colab_pdf('Etivity_1_MikeScally_9312951_New.ipynb')"
      ],
      "execution_count": 21,
      "outputs": [
        {
          "output_type": "stream",
          "name": "stdout",
          "text": [
            "File ‘Etivity_1_MikeScally_9312951.ipynb’ already there; not retrieving.\n",
            "\n",
            "\n",
            "WARNING: apt does not have a stable CLI interface. Use with caution in scripts.\n",
            "\n",
            "\n",
            "WARNING: apt does not have a stable CLI interface. Use with caution in scripts.\n",
            "\n",
            "[NbConvertApp] Converting notebook /content/drive/MyDrive/Colab Notebooks/Etivity_1_MikeScally_9312951_New.ipynb to pdf\n",
            "[NbConvertApp] ERROR | Notebook JSON is invalid: Additional properties are not allowed (u'errorDetails' was unexpected)\n",
            "\n",
            "Failed validating u'additionalProperties' in error:\n",
            "\n",
            "On instance[u'cells'][61][u'outputs'][1]:\n",
            "{u'ename': u'ModuleNotFoundError',\n",
            " u'errorDetails': {u'actions': [{u'action': u'open_url',\n",
            "                                 u'actionText': u'Open Examples',\n",
            "                                 u'url': u'/notebooks/snippets/importing_libraries.ipynb'}]},\n",
            " u'evalue': u'ignored',\n",
            " u'output_type': u'error',\n",
            " u'traceback': [u'\\x1b[0;31m---------------------------------------------------------------------------\\x1b[0m',\n",
            "                u'\\x1b[0;31mModuleNotFoundError\\x1b[0m                       Traceback (most recent call last)',\n",
            "                u\"\\x1b[0;32m<ipython-input-2-d0c549c712df>\\x1b[0m in \\x1b[0;36m<module>\\x1b[0;34m()\\x1b[0m\\n\\x1b[1;32m      4\\x1b[0m \\x1b[0;32mimport\\x1b[0m \\x1b[0msys\\x1b[0m\\x1b[0;34m\\x1b[0m\\x1b[0;34m\\x1b[0m\\x1b[0m\\n\\x1b[1;32m      5\\x1b[0m \\x1b[0msys\\x1b[0m\\x1b[0;34m.\\x1b[0m\\x1b[0mpath\\x1b[0m\\x1b[0;34m.\\x1b[0m\\x1b[0mappend\\x1b[0m\\x1b[0;34m(\\x1b[0m\\x1b[0;34m'/content/drive/My Drive/Colab Notebooks/'\\x1b[0m\\x1b[0;34m)\\x1b[0m\\x1b[0;34m\\x1b[0m\\x1b[0;34m\\x1b[0m\\x1b[0m\\n\\x1b[0;32m----> 6\\x1b[0;31m \\x1b[0;32mfrom\\x1b[0m \\x1b[0mcolab_pdf\\x1b[0m \\x1b[0;32mimport\\x1b[0m \\x1b[0mcolab_pdf\\x1b[0m\\x1b[0;34m\\x1b[0m\\x1b[0;34m\\x1b[0m\\x1b[0m\\n\\x1b[0m\\x1b[1;32m      7\\x1b[0m \\x1b[0;34m\\x1b[0m\\x1b[0m\\n\\x1b[1;32m      8\\x1b[0m \\x1b[0mcolab_pdf\\x1b[0m\\x1b[0;34m(\\x1b[0m\\x1b[0;34m'Etivity_1_MikeScally_9312951.ipynb'\\x1b[0m\\x1b[0;34m)\\x1b[0m\\x1b[0;34m\\x1b[0m\\x1b[0;34m\\x1b[0m\\x1b[0m\\n\",\n",
            "                u\"\\x1b[0;31mModuleNotFoundError\\x1b[0m: No module named 'colab_pdf'\",\n",
            "                u'',\n",
            "                u'\\x1b[0;31m---------------------------------------------------------------------------\\x1b[0;32m\\nNOTE: If your import is failing due to a missing package, you can\\nmanually install dependencies using either !pip or !apt.\\n\\nTo view examples of installing some common dependencies, click the\\n\"Open Examples\" button below.\\n\\x1b[0;31m---------------------------------------------------------------------------\\x1b[0m\\n']}\n",
            "[NbConvertApp] Support files will be in Etivity_1_MikeScally_9312951_New_files/\n",
            "[NbConvertApp] Making directory ./Etivity_1_MikeScally_9312951_New_files\n",
            "[NbConvertApp] Making directory ./Etivity_1_MikeScally_9312951_New_files\n",
            "[NbConvertApp] Making directory ./Etivity_1_MikeScally_9312951_New_files\n",
            "[NbConvertApp] Making directory ./Etivity_1_MikeScally_9312951_New_files\n",
            "[NbConvertApp] Making directory ./Etivity_1_MikeScally_9312951_New_files\n",
            "[NbConvertApp] Making directory ./Etivity_1_MikeScally_9312951_New_files\n",
            "[NbConvertApp] Making directory ./Etivity_1_MikeScally_9312951_New_files\n",
            "[NbConvertApp] Making directory ./Etivity_1_MikeScally_9312951_New_files\n",
            "[NbConvertApp] Making directory ./Etivity_1_MikeScally_9312951_New_files\n",
            "[NbConvertApp] Writing 99069 bytes to ./notebook.tex\n",
            "[NbConvertApp] Building PDF\n",
            "[NbConvertApp] Running xelatex 3 times: [u'xelatex', u'./notebook.tex', '-quiet']\n",
            "[NbConvertApp] Running bibtex 1 time: [u'bibtex', u'./notebook']\n",
            "[NbConvertApp] WARNING | bibtex had problems, most likely because there were no citations\n",
            "[NbConvertApp] PDF successfully created\n",
            "[NbConvertApp] Writing 176308 bytes to /content/drive/My Drive/Etivity_1_MikeScally_9312951_New.pdf\n"
          ]
        },
        {
          "output_type": "display_data",
          "data": {
            "application/javascript": [
              "\n",
              "    async function download(id, filename, size) {\n",
              "      if (!google.colab.kernel.accessAllowed) {\n",
              "        return;\n",
              "      }\n",
              "      const div = document.createElement('div');\n",
              "      const label = document.createElement('label');\n",
              "      label.textContent = `Downloading \"${filename}\": `;\n",
              "      div.appendChild(label);\n",
              "      const progress = document.createElement('progress');\n",
              "      progress.max = size;\n",
              "      div.appendChild(progress);\n",
              "      document.body.appendChild(div);\n",
              "\n",
              "      const buffers = [];\n",
              "      let downloaded = 0;\n",
              "\n",
              "      const channel = await google.colab.kernel.comms.open(id);\n",
              "      // Send a message to notify the kernel that we're ready.\n",
              "      channel.send({})\n",
              "\n",
              "      for await (const message of channel.messages) {\n",
              "        // Send a message to notify the kernel that we're ready.\n",
              "        channel.send({})\n",
              "        if (message.buffers) {\n",
              "          for (const buffer of message.buffers) {\n",
              "            buffers.push(buffer);\n",
              "            downloaded += buffer.byteLength;\n",
              "            progress.value = downloaded;\n",
              "          }\n",
              "        }\n",
              "      }\n",
              "      const blob = new Blob(buffers, {type: 'application/binary'});\n",
              "      const a = document.createElement('a');\n",
              "      a.href = window.URL.createObjectURL(blob);\n",
              "      a.download = filename;\n",
              "      div.appendChild(a);\n",
              "      a.click();\n",
              "      div.remove();\n",
              "    }\n",
              "  "
            ],
            "text/plain": [
              "<IPython.core.display.Javascript object>"
            ]
          },
          "metadata": {}
        },
        {
          "output_type": "display_data",
          "data": {
            "application/javascript": [
              "download(\"download_c300b030-e5fc-4a25-8875-647bba590193\", \"Etivity_1_MikeScally_9312951_New.pdf\", 176308)"
            ],
            "text/plain": [
              "<IPython.core.display.Javascript object>"
            ]
          },
          "metadata": {}
        },
        {
          "output_type": "execute_result",
          "data": {
            "application/vnd.google.colaboratory.intrinsic+json": {
              "type": "string"
            },
            "text/plain": [
              "'File ready to be Downloaded and Saved to Drive'"
            ]
          },
          "metadata": {},
          "execution_count": 21
        }
      ]
    },
    {
      "cell_type": "code",
      "metadata": {
        "colab": {
          "base_uri": "https://localhost:8080/",
          "height": 363
        },
        "id": "DAGjU7B9VQdZ",
        "outputId": "77855211-62b0-428a-9f18-ce34fb4e4982"
      },
      "source": [
        "!wget -nc https://raw.githubusercontent.com/brpy/colab-pdf/master/colab_pdf.py\n",
        "from colab_pdf import colab_pdf\n",
        "colab_pdf('Etivity_1_MikeScally_9312951.ipynb')"
      ],
      "execution_count": 22,
      "outputs": [
        {
          "output_type": "stream",
          "name": "stdout",
          "text": [
            "File ‘colab_pdf.py’ already there; not retrieving.\n",
            "\n"
          ]
        },
        {
          "output_type": "error",
          "ename": "ValueError",
          "evalue": "ignored",
          "traceback": [
            "\u001b[0;31m---------------------------------------------------------------------------\u001b[0m",
            "\u001b[0;31mValueError\u001b[0m                                Traceback (most recent call last)",
            "\u001b[0;32m<ipython-input-22-918cc028cfd2>\u001b[0m in \u001b[0;36m<module>\u001b[0;34m()\u001b[0m\n\u001b[1;32m      1\u001b[0m \u001b[0mget_ipython\u001b[0m\u001b[0;34m(\u001b[0m\u001b[0;34m)\u001b[0m\u001b[0;34m.\u001b[0m\u001b[0msystem\u001b[0m\u001b[0;34m(\u001b[0m\u001b[0;34m'wget -nc https://raw.githubusercontent.com/brpy/colab-pdf/master/colab_pdf.py'\u001b[0m\u001b[0;34m)\u001b[0m\u001b[0;34m\u001b[0m\u001b[0;34m\u001b[0m\u001b[0m\n\u001b[1;32m      2\u001b[0m \u001b[0;32mfrom\u001b[0m \u001b[0mcolab_pdf\u001b[0m \u001b[0;32mimport\u001b[0m \u001b[0mcolab_pdf\u001b[0m\u001b[0;34m\u001b[0m\u001b[0;34m\u001b[0m\u001b[0m\n\u001b[0;32m----> 3\u001b[0;31m \u001b[0mcolab_pdf\u001b[0m\u001b[0;34m(\u001b[0m\u001b[0;34m'Etivity_1_MikeScally_9312951.ipynb'\u001b[0m\u001b[0;34m)\u001b[0m\u001b[0;34m\u001b[0m\u001b[0;34m\u001b[0m\u001b[0m\n\u001b[0m",
            "\u001b[0;32m/content/drive/My Drive/Colab Notebooks/colab_pdf.py\u001b[0m in \u001b[0;36mcolab_pdf\u001b[0;34m(file_name, notebookpath)\u001b[0m\n\u001b[1;32m     20\u001b[0m     \u001b[0;31m# Check if the notebook exists in the Drive.\u001b[0m\u001b[0;34m\u001b[0m\u001b[0;34m\u001b[0m\u001b[0;34m\u001b[0m\u001b[0m\n\u001b[1;32m     21\u001b[0m     \u001b[0;32mif\u001b[0m \u001b[0;32mnot\u001b[0m \u001b[0mos\u001b[0m\u001b[0;34m.\u001b[0m\u001b[0mpath\u001b[0m\u001b[0;34m.\u001b[0m\u001b[0misfile\u001b[0m\u001b[0;34m(\u001b[0m\u001b[0mos\u001b[0m\u001b[0;34m.\u001b[0m\u001b[0mpath\u001b[0m\u001b[0;34m.\u001b[0m\u001b[0mjoin\u001b[0m\u001b[0;34m(\u001b[0m\u001b[0mnotebookpath\u001b[0m\u001b[0;34m,\u001b[0m \u001b[0mfile_name\u001b[0m\u001b[0;34m)\u001b[0m\u001b[0;34m)\u001b[0m\u001b[0;34m:\u001b[0m\u001b[0;34m\u001b[0m\u001b[0;34m\u001b[0m\u001b[0m\n\u001b[0;32m---> 22\u001b[0;31m         \u001b[0;32mraise\u001b[0m \u001b[0mValueError\u001b[0m\u001b[0;34m(\u001b[0m\u001b[0;34mf\"file '{file_name}' not found in path '{notebookpath}'.\"\u001b[0m\u001b[0;34m)\u001b[0m\u001b[0;34m\u001b[0m\u001b[0;34m\u001b[0m\u001b[0m\n\u001b[0m\u001b[1;32m     23\u001b[0m \u001b[0;34m\u001b[0m\u001b[0m\n\u001b[1;32m     24\u001b[0m     \u001b[0;31m# Installing all the recommended packages.\u001b[0m\u001b[0;34m\u001b[0m\u001b[0;34m\u001b[0m\u001b[0;34m\u001b[0m\u001b[0m\n",
            "\u001b[0;31mValueError\u001b[0m: file 'Etivity_1_MikeScally_9312951.ipynb' not found in path '/content/drive/MyDrive/Colab Notebooks/'."
          ]
        }
      ]
    },
    {
      "cell_type": "code",
      "metadata": {
        "id": "0a86xIDFYAzi",
        "outputId": "43ba8959-c3e9-4d91-d299-fb7649010bf8",
        "colab": {
          "base_uri": "https://localhost:8080/"
        }
      },
      "source": [
        "!wget -nc https://raw.githubusercontent.com/brpy/colab-pdf/master/colab_pdf.py\n",
        "from colab_pdf import colab_pdf\n",
        "!wget -nc https://github.com/mike-scally/ET5003/blob/main/Etivity_1_MikeScally_9312951.ipynb\n",
        "#colab_pdf('Etivity_1_MikeScally_9312951.ipynb')"
      ],
      "execution_count": 25,
      "outputs": [
        {
          "output_type": "stream",
          "name": "stdout",
          "text": [
            "File ‘colab_pdf.py’ already there; not retrieving.\n",
            "\n",
            "File ‘Etivity_1_MikeScally_9312951.ipynb’ already there; not retrieving.\n",
            "\n"
          ]
        }
      ]
    },
    {
      "cell_type": "markdown",
      "metadata": {
        "id": "NcshsLOGRPrk"
      },
      "source": [
        "## Summary\n",
        "In our meetings, we discussed what is the boundary for difficult vs easy images to classify. In the traffic light sample, it looks at samples from the validation data and builds an array based on mean and rank and sorts for easy and difficult images. Is there a more accurate way or cutoff in the probability that determines that difficult samples that should be removed?\n",
        "\n",
        "Anthony used a loss curve when removing more and more difficult samples, and it showed the accuracy stabl=ilised when approx 750 samples were removed. However, it seems this is a large number to remove from I think the validation set was 3000 in total.\n",
        "\n",
        "There was a discussion around the sampling for the posterior, what determines the best number of samples to choose in order to determine the most accurate probability for a specific class\n",
        "\n",
        "IN building the multinomial logistic regression model, the model considers nc-1 features, and the reason given is the model is not identifiable. What makes a model identifiable, or when can you use all classes?\n"
      ]
    },
    {
      "cell_type": "markdown",
      "metadata": {
        "id": "XTc4pYKGRR60"
      },
      "source": [
        "Populate this section with all of your findings and comments fron the discussion with your peers."
      ]
    }
  ]
}